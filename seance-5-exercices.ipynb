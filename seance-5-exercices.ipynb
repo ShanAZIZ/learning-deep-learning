{
 "cells": [
  {
   "cell_type": "markdown",
   "metadata": {},
   "source": [
    " Problème"
   ]
  },
  {
   "cell_type": "markdown",
   "metadata": {},
   "source": [
    "\n",
    "\n",
    "L'analyse des sentiments fait référence à l'analyse d'une opinion ou de sentiments sur quelque chose en utilisant des données comme du texte ou des images, concernant presque n'importe quoi. L'analyse des sentiments aide les entreprises dans leur processus décisionnel. Par exemple, si le sentiment du public envers un produit n'est pas si bon, une entreprise peut essayer de modifier le produit ou d'arrêter complètement la production afin d'éviter toute perte.\n",
    "\n",
    "Il existe de nombreuses sources de sentiment public, par exemple des entretiens publics, des sondages d'opinion, des sondages, etc.\n",
    "\n",
    "Dans cet practice, nous verrons comment effectuer une analyse de sentiment des données textuelles.\n",
    "\n",
    "Définition du problème\n",
    "Compte tenu des tweets concernant six compagnies aériennes américaines, la tâche consiste à prédire si un tweet contient un sentiment positif, négatif ou neutre à propos de la compagnie aérienne. Il s'agit d'une tâche d'apprentissage supervisé typique où, étant donné une chaîne de texte, nous devons classer la chaîne de texte en catégories prédéfinies.\n",
    "\n",
    "Solution\n",
    "\n",
    "Pour résoudre ce problème, nous suivrons le pipeline typique d'apprentissage automatique. \n",
    "\n",
    "1 Nous allons d'abord importer les bibliothèques requises et le jeu de données. \n",
    "\n",
    "2 Nous ferons ensuite une analyse exploratoire des données pour voir si nous pouvons trouver des tendances dans l'ensemble de données. \n",
    "\n",
    "3 Ensuite, nous effectuerons un prétraitement de texte pour convertir les données textuelles en données numériques pouvant être utilisées par un algorithme d'apprentissage automatique. \n",
    "\n",
    "4 Enfin, nous utiliserons des algorithmes d'apprentissage automatique pour former et tester nos modèles d'analyse des sentiments.\n",
    "\n",
    "5  performances, modele à ameliorer ou pas?\n",
    "\n",
    "6 Bonus: test sur des cas concrets!\n",
    "\n",
    "7 deploiment (AWS)"
   ]
  },
  {
   "cell_type": "code",
   "execution_count": 338,
   "metadata": {
    "ExecuteTime": {
     "end_time": "2023-07-15T13:51:33.490957Z",
     "start_time": "2023-07-15T13:51:33.482914Z"
    }
   },
   "outputs": [],
   "source": [
    "#PARTIE 1: GENERALITES SUR LES RESEAUX DE NEURONES ANN (donnees tabulaires, dataframes)\n",
    "#PARTIE 2: LES TECHINIQUES DE   CONVOLUTION (image to matrix numeric): RESEAUX CNN\n",
    "#PARTIE 3: LES 3 TECHINIQUES DE VECTORISATION (text to matrix numeric): RESEAUX RNN\n",
    "\n",
    "#PARTIE NON ABORDEES: audio to numeric, videos to numeric"
   ]
  },
  {
   "cell_type": "markdown",
   "metadata": {},
   "source": [
    "# Bag of word: presence des mots"
   ]
  },
  {
   "cell_type": "raw",
   "metadata": {},
   "source": [
    "Bag-of-Words (BoW) est une représentation simplifiée d'un texte utilisée dans le traitement automatique du langage naturel. Il considère chaque document comme un \"sac de mots\" en ignorant l'ordre et la structure des mots dans le texte. Le modèle BoW est largement utilisé pour représenter les documents de manière vectorielle."
   ]
  },
  {
   "cell_type": "code",
   "execution_count": 339,
   "metadata": {
    "ExecuteTime": {
     "end_time": "2023-07-15T13:53:44.839572Z",
     "start_time": "2023-07-15T13:53:44.819502Z"
    }
   },
   "outputs": [],
   "source": [
    "import numpy as np    \n",
    "import pandas as pd\n",
    "import warnings;warnings.filterwarnings(\"ignore\")\n",
    "import sklearn\n",
    "import keras\n",
    "import gensim"
   ]
  },
  {
   "cell_type": "code",
   "execution_count": 116,
   "metadata": {
    "ExecuteTime": {
     "end_time": "2023-07-15T08:35:44.202327Z",
     "start_time": "2023-07-15T08:35:44.191233Z"
    }
   },
   "outputs": [
    {
     "data": {
      "text/plain": [
       "['la terre brule',\n",
       " 'dans le cours le prof a dit que la terre etait plate',\n",
       " \"on termine les cours aujourd'hui\"]"
      ]
     },
     "execution_count": 116,
     "metadata": {},
     "output_type": "execute_result"
    }
   ],
   "source": [
    "docs=[\"la terre brule\", \"dans le cours le prof a dit que la terre etait plate\", \"on termine les cours aujourd'hui\"]\n",
    "docs"
   ]
  },
  {
   "cell_type": "markdown",
   "metadata": {},
   "source": [
    "Pour commencer à utiliser,  vous devrez d'abord créer un CountVectorizer pour compter le nombre de mots "
   ]
  },
  {
   "cell_type": "code",
   "execution_count": 117,
   "metadata": {
    "ExecuteTime": {
     "end_time": "2023-07-15T08:35:45.004223Z",
     "start_time": "2023-07-15T08:35:44.976421Z"
    }
   },
   "outputs": [],
   "source": [
    "from sklearn.feature_extraction.text import CountVectorizer  #API\n",
    "cv = CountVectorizer()  #OBJECTIF: TEXT TO MATRIX #ngram_range=(1, 2)"
   ]
  },
  {
   "cell_type": "code",
   "execution_count": 118,
   "metadata": {
    "ExecuteTime": {
     "end_time": "2023-07-15T08:35:45.231334Z",
     "start_time": "2023-07-15T08:35:45.211072Z"
    }
   },
   "outputs": [
    {
     "data": {
      "text/plain": [
       "['la terre brule',\n",
       " 'dans le cours le prof a dit que la terre etait plate',\n",
       " \"on termine les cours aujourd'hui\"]"
      ]
     },
     "execution_count": 118,
     "metadata": {},
     "output_type": "execute_result"
    }
   ],
   "source": [
    "docs"
   ]
  },
  {
   "cell_type": "code",
   "execution_count": 119,
   "metadata": {
    "ExecuteTime": {
     "end_time": "2023-07-15T08:35:45.459754Z",
     "start_time": "2023-07-15T08:35:45.441444Z"
    }
   },
   "outputs": [
    {
     "data": {
      "text/plain": [
       "array([[0, 1, 0, 0, 0, 0, 0, 1, 0, 0, 0, 0, 0, 0, 0, 1],\n",
       "       [0, 0, 1, 1, 1, 1, 0, 1, 2, 0, 0, 1, 1, 1, 0, 1],\n",
       "       [1, 0, 1, 0, 0, 0, 1, 0, 0, 1, 1, 0, 0, 0, 1, 0]], dtype=int64)"
      ]
     },
     "execution_count": 119,
     "metadata": {},
     "output_type": "execute_result"
    }
   ],
   "source": [
    "matrice=cv.fit_transform(docs).toarray()   #MATRIX  #Humainement mieux transformer cet objet numpy en dataframe de pandas pour plus de lisibilité\n",
    "matrice"
   ]
  },
  {
   "cell_type": "code",
   "execution_count": 120,
   "metadata": {
    "ExecuteTime": {
     "end_time": "2023-07-15T08:35:45.715032Z",
     "start_time": "2023-07-15T08:35:45.698026Z"
    },
    "scrolled": true
   },
   "outputs": [
    {
     "name": "stdout",
     "output_type": "stream",
     "text": [
      "['aujourd', 'brule', 'cours', 'dans', 'dit', 'etait', 'hui', 'la', 'le', 'les', 'on', 'plate', 'prof', 'que', 'termine', 'terre']\n"
     ]
    }
   ],
   "source": [
    "vocabulaire=cv.get_feature_names()\n",
    "print(vocabulaire)"
   ]
  },
  {
   "cell_type": "code",
   "execution_count": 121,
   "metadata": {
    "ExecuteTime": {
     "end_time": "2023-07-15T08:35:45.999451Z",
     "start_time": "2023-07-15T08:35:45.974898Z"
    },
    "scrolled": false
   },
   "outputs": [
    {
     "data": {
      "text/html": [
       "<div>\n",
       "<style scoped>\n",
       "    .dataframe tbody tr th:only-of-type {\n",
       "        vertical-align: middle;\n",
       "    }\n",
       "\n",
       "    .dataframe tbody tr th {\n",
       "        vertical-align: top;\n",
       "    }\n",
       "\n",
       "    .dataframe thead th {\n",
       "        text-align: right;\n",
       "    }\n",
       "</style>\n",
       "<table border=\"1\" class=\"dataframe\">\n",
       "  <thead>\n",
       "    <tr style=\"text-align: right;\">\n",
       "      <th></th>\n",
       "      <th>aujourd</th>\n",
       "      <th>brule</th>\n",
       "      <th>cours</th>\n",
       "      <th>dans</th>\n",
       "      <th>dit</th>\n",
       "      <th>etait</th>\n",
       "      <th>hui</th>\n",
       "      <th>la</th>\n",
       "      <th>le</th>\n",
       "      <th>les</th>\n",
       "      <th>on</th>\n",
       "      <th>plate</th>\n",
       "      <th>prof</th>\n",
       "      <th>que</th>\n",
       "      <th>termine</th>\n",
       "      <th>terre</th>\n",
       "    </tr>\n",
       "  </thead>\n",
       "  <tbody>\n",
       "    <tr>\n",
       "      <th>phrase1</th>\n",
       "      <td>0</td>\n",
       "      <td>1</td>\n",
       "      <td>0</td>\n",
       "      <td>0</td>\n",
       "      <td>0</td>\n",
       "      <td>0</td>\n",
       "      <td>0</td>\n",
       "      <td>1</td>\n",
       "      <td>0</td>\n",
       "      <td>0</td>\n",
       "      <td>0</td>\n",
       "      <td>0</td>\n",
       "      <td>0</td>\n",
       "      <td>0</td>\n",
       "      <td>0</td>\n",
       "      <td>1</td>\n",
       "    </tr>\n",
       "    <tr>\n",
       "      <th>phrase2</th>\n",
       "      <td>0</td>\n",
       "      <td>0</td>\n",
       "      <td>1</td>\n",
       "      <td>1</td>\n",
       "      <td>1</td>\n",
       "      <td>1</td>\n",
       "      <td>0</td>\n",
       "      <td>1</td>\n",
       "      <td>2</td>\n",
       "      <td>0</td>\n",
       "      <td>0</td>\n",
       "      <td>1</td>\n",
       "      <td>1</td>\n",
       "      <td>1</td>\n",
       "      <td>0</td>\n",
       "      <td>1</td>\n",
       "    </tr>\n",
       "    <tr>\n",
       "      <th>phrase3</th>\n",
       "      <td>1</td>\n",
       "      <td>0</td>\n",
       "      <td>1</td>\n",
       "      <td>0</td>\n",
       "      <td>0</td>\n",
       "      <td>0</td>\n",
       "      <td>1</td>\n",
       "      <td>0</td>\n",
       "      <td>0</td>\n",
       "      <td>1</td>\n",
       "      <td>1</td>\n",
       "      <td>0</td>\n",
       "      <td>0</td>\n",
       "      <td>0</td>\n",
       "      <td>1</td>\n",
       "      <td>0</td>\n",
       "    </tr>\n",
       "  </tbody>\n",
       "</table>\n",
       "</div>"
      ],
      "text/plain": [
       "         aujourd  brule  cours  dans  dit  etait  hui  la  le  les  on  plate  \\\n",
       "phrase1        0      1      0     0    0      0    0   1   0    0   0      0   \n",
       "phrase2        0      0      1     1    1      1    0   1   2    0   0      1   \n",
       "phrase3        1      0      1     0    0      0    1   0   0    1   1      0   \n",
       "\n",
       "         prof  que  termine  terre  \n",
       "phrase1     0    0        0      1  \n",
       "phrase2     1    1        0      1  \n",
       "phrase3     0    0        1      0  "
      ]
     },
     "execution_count": 121,
     "metadata": {},
     "output_type": "execute_result"
    }
   ],
   "source": [
    "data_cv=pd.DataFrame(matrice, columns=vocabulaire)  \n",
    "data_cv.index=['phrase1','phrase2',\"phrase3\"]\n",
    "data_cv"
   ]
  },
  {
   "cell_type": "code",
   "execution_count": 122,
   "metadata": {
    "ExecuteTime": {
     "end_time": "2023-07-15T08:35:46.285117Z",
     "start_time": "2023-07-15T08:35:46.277016Z"
    }
   },
   "outputs": [],
   "source": [
    "#chatgpt: fait moi un code python qui calcule la somme des nombre allant de 1 à 100\n",
    "#l'inconveniant de cette methode est qu'elle ne prend pas en compte/\n",
    "\n",
    "#l'IMPORTANCE DES MOTS, \n",
    "#ni leur SIGNIFICATION OU CONTEXTE"
   ]
  },
  {
   "cell_type": "code",
   "execution_count": null,
   "metadata": {},
   "outputs": [],
   "source": []
  },
  {
   "cell_type": "code",
   "execution_count": null,
   "metadata": {},
   "outputs": [],
   "source": []
  },
  {
   "cell_type": "markdown",
   "metadata": {},
   "source": [
    "# Tf-idf: poids des mots"
   ]
  },
  {
   "cell_type": "markdown",
   "metadata": {},
   "source": [
    "La fréquence des documents inverses (IDF) est un poids indiquant la fréquence d'utilisation d'un mot. Plus son utilisation est fréquente dans les documents, plus son score est faible. Plus le score est bas, moins le mot devient important."
   ]
  },
  {
   "cell_type": "markdown",
   "metadata": {},
   "source": [
    "Le TF-IDF (de l'anglais term frequency-inverse document frequency) est une méthode de pondération souvent utilisée en recherche d'information et en particulier dans la fouille de textes. Cette mesure statistique permet d'évaluer l'importance d'un terme contenu dans un document, relativement à une collection ou un corpus. Le poids augmente proportionnellement au nombre d'occurrences du mot dans le document. Il varie également en fonction de la fréquence du mot dans le corpus"
   ]
  },
  {
   "cell_type": "code",
   "execution_count": 123,
   "metadata": {
    "ExecuteTime": {
     "end_time": "2023-07-15T08:35:48.465481Z",
     "start_time": "2023-07-15T08:35:48.451491Z"
    }
   },
   "outputs": [
    {
     "data": {
      "text/plain": [
       "['la terre brule',\n",
       " 'dans le cours le prof a dit que la terre etait plate',\n",
       " \"on termine les cours aujourd'hui\"]"
      ]
     },
     "execution_count": 123,
     "metadata": {},
     "output_type": "execute_result"
    }
   ],
   "source": [
    "docs"
   ]
  },
  {
   "cell_type": "code",
   "execution_count": 124,
   "metadata": {
    "ExecuteTime": {
     "end_time": "2023-07-15T08:35:48.834599Z",
     "start_time": "2023-07-15T08:35:48.801448Z"
    }
   },
   "outputs": [
    {
     "data": {
      "text/html": [
       "<div>\n",
       "<style scoped>\n",
       "    .dataframe tbody tr th:only-of-type {\n",
       "        vertical-align: middle;\n",
       "    }\n",
       "\n",
       "    .dataframe tbody tr th {\n",
       "        vertical-align: top;\n",
       "    }\n",
       "\n",
       "    .dataframe thead th {\n",
       "        text-align: right;\n",
       "    }\n",
       "</style>\n",
       "<table border=\"1\" class=\"dataframe\">\n",
       "  <thead>\n",
       "    <tr style=\"text-align: right;\">\n",
       "      <th></th>\n",
       "      <th>aujourd</th>\n",
       "      <th>brule</th>\n",
       "      <th>cours</th>\n",
       "      <th>dans</th>\n",
       "      <th>dit</th>\n",
       "      <th>etait</th>\n",
       "      <th>hui</th>\n",
       "      <th>la</th>\n",
       "      <th>le</th>\n",
       "      <th>les</th>\n",
       "      <th>on</th>\n",
       "      <th>plate</th>\n",
       "      <th>prof</th>\n",
       "      <th>que</th>\n",
       "      <th>termine</th>\n",
       "      <th>terre</th>\n",
       "    </tr>\n",
       "  </thead>\n",
       "  <tbody>\n",
       "    <tr>\n",
       "      <th>phrase1</th>\n",
       "      <td>0</td>\n",
       "      <td>1</td>\n",
       "      <td>0</td>\n",
       "      <td>0</td>\n",
       "      <td>0</td>\n",
       "      <td>0</td>\n",
       "      <td>0</td>\n",
       "      <td>1</td>\n",
       "      <td>0</td>\n",
       "      <td>0</td>\n",
       "      <td>0</td>\n",
       "      <td>0</td>\n",
       "      <td>0</td>\n",
       "      <td>0</td>\n",
       "      <td>0</td>\n",
       "      <td>1</td>\n",
       "    </tr>\n",
       "    <tr>\n",
       "      <th>phrase2</th>\n",
       "      <td>0</td>\n",
       "      <td>0</td>\n",
       "      <td>1</td>\n",
       "      <td>1</td>\n",
       "      <td>1</td>\n",
       "      <td>1</td>\n",
       "      <td>0</td>\n",
       "      <td>1</td>\n",
       "      <td>2</td>\n",
       "      <td>0</td>\n",
       "      <td>0</td>\n",
       "      <td>1</td>\n",
       "      <td>1</td>\n",
       "      <td>1</td>\n",
       "      <td>0</td>\n",
       "      <td>1</td>\n",
       "    </tr>\n",
       "    <tr>\n",
       "      <th>phrase3</th>\n",
       "      <td>1</td>\n",
       "      <td>0</td>\n",
       "      <td>1</td>\n",
       "      <td>0</td>\n",
       "      <td>0</td>\n",
       "      <td>0</td>\n",
       "      <td>1</td>\n",
       "      <td>0</td>\n",
       "      <td>0</td>\n",
       "      <td>1</td>\n",
       "      <td>1</td>\n",
       "      <td>0</td>\n",
       "      <td>0</td>\n",
       "      <td>0</td>\n",
       "      <td>1</td>\n",
       "      <td>0</td>\n",
       "    </tr>\n",
       "  </tbody>\n",
       "</table>\n",
       "</div>"
      ],
      "text/plain": [
       "         aujourd  brule  cours  dans  dit  etait  hui  la  le  les  on  plate  \\\n",
       "phrase1        0      1      0     0    0      0    0   1   0    0   0      0   \n",
       "phrase2        0      0      1     1    1      1    0   1   2    0   0      1   \n",
       "phrase3        1      0      1     0    0      0    1   0   0    1   1      0   \n",
       "\n",
       "         prof  que  termine  terre  \n",
       "phrase1     0    0        0      1  \n",
       "phrase2     1    1        0      1  \n",
       "phrase3     0    0        1      0  "
      ]
     },
     "execution_count": 124,
     "metadata": {},
     "output_type": "execute_result"
    }
   ],
   "source": [
    "data_cv   #nb_words=10"
   ]
  },
  {
   "cell_type": "code",
   "execution_count": 125,
   "metadata": {
    "ExecuteTime": {
     "end_time": "2023-07-15T08:35:49.169461Z",
     "start_time": "2023-07-15T08:35:49.161438Z"
    }
   },
   "outputs": [],
   "source": [
    "from sklearn.feature_extraction.text import TfidfVectorizer #API\n",
    "\n",
    "vectorizer = TfidfVectorizer()\n",
    "matrice=vectorizer.fit_transform(docs).toarray()"
   ]
  },
  {
   "cell_type": "code",
   "execution_count": 126,
   "metadata": {
    "ExecuteTime": {
     "end_time": "2023-07-15T08:35:49.544696Z",
     "start_time": "2023-07-15T08:35:49.528981Z"
    }
   },
   "outputs": [
    {
     "data": {
      "text/plain": [
       "array([[0.        , 0.68091856, 0.        , 0.        , 0.        ,\n",
       "        0.        , 0.        , 0.51785612, 0.        , 0.        ,\n",
       "        0.        , 0.        , 0.        , 0.        , 0.        ,\n",
       "        0.51785612],\n",
       "       [0.        , 0.        , 0.22200805, 0.2919139 , 0.2919139 ,\n",
       "        0.2919139 , 0.        , 0.22200805, 0.58382781, 0.        ,\n",
       "        0.        , 0.2919139 , 0.2919139 , 0.2919139 , 0.        ,\n",
       "        0.22200805],\n",
       "       [0.42339448, 0.        , 0.32200242, 0.        , 0.        ,\n",
       "        0.        , 0.42339448, 0.        , 0.        , 0.42339448,\n",
       "        0.42339448, 0.        , 0.        , 0.        , 0.42339448,\n",
       "        0.        ]])"
      ]
     },
     "execution_count": 126,
     "metadata": {},
     "output_type": "execute_result"
    }
   ],
   "source": [
    "matrice=vectorizer.fit_transform(docs).toarray()\n",
    "matrice"
   ]
  },
  {
   "cell_type": "code",
   "execution_count": 127,
   "metadata": {
    "ExecuteTime": {
     "end_time": "2023-07-15T08:35:50.167652Z",
     "start_time": "2023-07-15T08:35:50.146282Z"
    }
   },
   "outputs": [
    {
     "data": {
      "text/plain": [
       "array(['aujourd', 'brule', 'cours', 'dans', 'dit', 'etait', 'hui', 'la',\n",
       "       'le', 'les', 'on', 'plate', 'prof', 'que', 'termine', 'terre'],\n",
       "      dtype=object)"
      ]
     },
     "execution_count": 127,
     "metadata": {},
     "output_type": "execute_result"
    }
   ],
   "source": [
    "vocabulaire=vectorizer.get_feature_names_out()\n",
    "vocabulaire"
   ]
  },
  {
   "cell_type": "code",
   "execution_count": 128,
   "metadata": {
    "ExecuteTime": {
     "end_time": "2023-07-15T08:35:50.855093Z",
     "start_time": "2023-07-15T08:35:50.814478Z"
    }
   },
   "outputs": [
    {
     "data": {
      "text/html": [
       "<div>\n",
       "<style scoped>\n",
       "    .dataframe tbody tr th:only-of-type {\n",
       "        vertical-align: middle;\n",
       "    }\n",
       "\n",
       "    .dataframe tbody tr th {\n",
       "        vertical-align: top;\n",
       "    }\n",
       "\n",
       "    .dataframe thead th {\n",
       "        text-align: right;\n",
       "    }\n",
       "</style>\n",
       "<table border=\"1\" class=\"dataframe\">\n",
       "  <thead>\n",
       "    <tr style=\"text-align: right;\">\n",
       "      <th></th>\n",
       "      <th>aujourd</th>\n",
       "      <th>brule</th>\n",
       "      <th>cours</th>\n",
       "      <th>dans</th>\n",
       "      <th>dit</th>\n",
       "      <th>etait</th>\n",
       "      <th>hui</th>\n",
       "      <th>la</th>\n",
       "      <th>le</th>\n",
       "      <th>les</th>\n",
       "      <th>on</th>\n",
       "      <th>plate</th>\n",
       "      <th>prof</th>\n",
       "      <th>que</th>\n",
       "      <th>termine</th>\n",
       "      <th>terre</th>\n",
       "    </tr>\n",
       "  </thead>\n",
       "  <tbody>\n",
       "    <tr>\n",
       "      <th>phrase1</th>\n",
       "      <td>0.000000</td>\n",
       "      <td>0.680919</td>\n",
       "      <td>0.000000</td>\n",
       "      <td>0.000000</td>\n",
       "      <td>0.000000</td>\n",
       "      <td>0.000000</td>\n",
       "      <td>0.000000</td>\n",
       "      <td>0.517856</td>\n",
       "      <td>0.000000</td>\n",
       "      <td>0.000000</td>\n",
       "      <td>0.000000</td>\n",
       "      <td>0.000000</td>\n",
       "      <td>0.000000</td>\n",
       "      <td>0.000000</td>\n",
       "      <td>0.000000</td>\n",
       "      <td>0.517856</td>\n",
       "    </tr>\n",
       "    <tr>\n",
       "      <th>phrase2</th>\n",
       "      <td>0.000000</td>\n",
       "      <td>0.000000</td>\n",
       "      <td>0.222008</td>\n",
       "      <td>0.291914</td>\n",
       "      <td>0.291914</td>\n",
       "      <td>0.291914</td>\n",
       "      <td>0.000000</td>\n",
       "      <td>0.222008</td>\n",
       "      <td>0.583828</td>\n",
       "      <td>0.000000</td>\n",
       "      <td>0.000000</td>\n",
       "      <td>0.291914</td>\n",
       "      <td>0.291914</td>\n",
       "      <td>0.291914</td>\n",
       "      <td>0.000000</td>\n",
       "      <td>0.222008</td>\n",
       "    </tr>\n",
       "    <tr>\n",
       "      <th>phrase3</th>\n",
       "      <td>0.423394</td>\n",
       "      <td>0.000000</td>\n",
       "      <td>0.322002</td>\n",
       "      <td>0.000000</td>\n",
       "      <td>0.000000</td>\n",
       "      <td>0.000000</td>\n",
       "      <td>0.423394</td>\n",
       "      <td>0.000000</td>\n",
       "      <td>0.000000</td>\n",
       "      <td>0.423394</td>\n",
       "      <td>0.423394</td>\n",
       "      <td>0.000000</td>\n",
       "      <td>0.000000</td>\n",
       "      <td>0.000000</td>\n",
       "      <td>0.423394</td>\n",
       "      <td>0.000000</td>\n",
       "    </tr>\n",
       "  </tbody>\n",
       "</table>\n",
       "</div>"
      ],
      "text/plain": [
       "          aujourd     brule     cours      dans       dit     etait       hui  \\\n",
       "phrase1  0.000000  0.680919  0.000000  0.000000  0.000000  0.000000  0.000000   \n",
       "phrase2  0.000000  0.000000  0.222008  0.291914  0.291914  0.291914  0.000000   \n",
       "phrase3  0.423394  0.000000  0.322002  0.000000  0.000000  0.000000  0.423394   \n",
       "\n",
       "               la        le       les        on     plate      prof       que  \\\n",
       "phrase1  0.517856  0.000000  0.000000  0.000000  0.000000  0.000000  0.000000   \n",
       "phrase2  0.222008  0.583828  0.000000  0.000000  0.291914  0.291914  0.291914   \n",
       "phrase3  0.000000  0.000000  0.423394  0.423394  0.000000  0.000000  0.000000   \n",
       "\n",
       "          termine     terre  \n",
       "phrase1  0.000000  0.517856  \n",
       "phrase2  0.000000  0.222008  \n",
       "phrase3  0.423394  0.000000  "
      ]
     },
     "execution_count": 128,
     "metadata": {},
     "output_type": "execute_result"
    }
   ],
   "source": [
    "data_tfidf=pd.DataFrame(matrice, columns=vocabulaire)\n",
    "data_tfidf.index=['phrase1','phrase2',\"phrase3\"]\n",
    "data_tfidf"
   ]
  },
  {
   "cell_type": "code",
   "execution_count": 129,
   "metadata": {
    "ExecuteTime": {
     "end_time": "2023-07-15T08:35:51.354173Z",
     "start_time": "2023-07-15T08:35:51.321562Z"
    }
   },
   "outputs": [
    {
     "data": {
      "text/html": [
       "<div>\n",
       "<style scoped>\n",
       "    .dataframe tbody tr th:only-of-type {\n",
       "        vertical-align: middle;\n",
       "    }\n",
       "\n",
       "    .dataframe tbody tr th {\n",
       "        vertical-align: top;\n",
       "    }\n",
       "\n",
       "    .dataframe thead th {\n",
       "        text-align: right;\n",
       "    }\n",
       "</style>\n",
       "<table border=\"1\" class=\"dataframe\">\n",
       "  <thead>\n",
       "    <tr style=\"text-align: right;\">\n",
       "      <th></th>\n",
       "      <th>aujourd</th>\n",
       "      <th>brule</th>\n",
       "      <th>cours</th>\n",
       "      <th>dans</th>\n",
       "      <th>dit</th>\n",
       "      <th>etait</th>\n",
       "      <th>hui</th>\n",
       "      <th>la</th>\n",
       "      <th>le</th>\n",
       "      <th>les</th>\n",
       "      <th>on</th>\n",
       "      <th>plate</th>\n",
       "      <th>prof</th>\n",
       "      <th>que</th>\n",
       "      <th>termine</th>\n",
       "      <th>terre</th>\n",
       "    </tr>\n",
       "  </thead>\n",
       "  <tbody>\n",
       "    <tr>\n",
       "      <th>phrase1</th>\n",
       "      <td>0</td>\n",
       "      <td>1</td>\n",
       "      <td>0</td>\n",
       "      <td>0</td>\n",
       "      <td>0</td>\n",
       "      <td>0</td>\n",
       "      <td>0</td>\n",
       "      <td>1</td>\n",
       "      <td>0</td>\n",
       "      <td>0</td>\n",
       "      <td>0</td>\n",
       "      <td>0</td>\n",
       "      <td>0</td>\n",
       "      <td>0</td>\n",
       "      <td>0</td>\n",
       "      <td>1</td>\n",
       "    </tr>\n",
       "    <tr>\n",
       "      <th>phrase2</th>\n",
       "      <td>0</td>\n",
       "      <td>0</td>\n",
       "      <td>1</td>\n",
       "      <td>1</td>\n",
       "      <td>1</td>\n",
       "      <td>1</td>\n",
       "      <td>0</td>\n",
       "      <td>1</td>\n",
       "      <td>2</td>\n",
       "      <td>0</td>\n",
       "      <td>0</td>\n",
       "      <td>1</td>\n",
       "      <td>1</td>\n",
       "      <td>1</td>\n",
       "      <td>0</td>\n",
       "      <td>1</td>\n",
       "    </tr>\n",
       "    <tr>\n",
       "      <th>phrase3</th>\n",
       "      <td>1</td>\n",
       "      <td>0</td>\n",
       "      <td>1</td>\n",
       "      <td>0</td>\n",
       "      <td>0</td>\n",
       "      <td>0</td>\n",
       "      <td>1</td>\n",
       "      <td>0</td>\n",
       "      <td>0</td>\n",
       "      <td>1</td>\n",
       "      <td>1</td>\n",
       "      <td>0</td>\n",
       "      <td>0</td>\n",
       "      <td>0</td>\n",
       "      <td>1</td>\n",
       "      <td>0</td>\n",
       "    </tr>\n",
       "  </tbody>\n",
       "</table>\n",
       "</div>"
      ],
      "text/plain": [
       "         aujourd  brule  cours  dans  dit  etait  hui  la  le  les  on  plate  \\\n",
       "phrase1        0      1      0     0    0      0    0   1   0    0   0      0   \n",
       "phrase2        0      0      1     1    1      1    0   1   2    0   0      1   \n",
       "phrase3        1      0      1     0    0      0    1   0   0    1   1      0   \n",
       "\n",
       "         prof  que  termine  terre  \n",
       "phrase1     0    0        0      1  \n",
       "phrase2     1    1        0      1  \n",
       "phrase3     0    0        1      0  "
      ]
     },
     "execution_count": 129,
     "metadata": {},
     "output_type": "execute_result"
    }
   ],
   "source": [
    "data_cv"
   ]
  },
  {
   "cell_type": "code",
   "execution_count": 130,
   "metadata": {
    "ExecuteTime": {
     "end_time": "2023-07-15T08:37:28.973155Z",
     "start_time": "2023-07-15T08:37:28.961465Z"
    }
   },
   "outputs": [],
   "source": [
    "#AVANTAGES:le tfidf prend bien en compte le poids des mots coontrairement au bag of word\n",
    "#INCONVENIANTS: cette methode ne prend pas en compte le sens des mots ou encore le contexte"
   ]
  },
  {
   "cell_type": "markdown",
   "metadata": {},
   "source": [
    "# Word2Vec: Contexte ou Sens"
   ]
  },
  {
   "cell_type": "raw",
   "metadata": {},
   "source": [
    "Word2Vec est un modèle populaire développé par Google qui utilise des réseaux de neurones pour apprendre des représentations vectorielles de mots. Il existe deux architectures principales pour Word2Vec : CBOW (Continuous Bag-of-Words) et Skip-gram. CBOW prédit un mot en se basant sur son contexte, tandis que Skip-gram prédit le contexte à partir d'un mot donné. Les vecteurs résultants captent des relations sémantiques et syntaxiques entre les mots."
   ]
  },
  {
   "cell_type": "code",
   "execution_count": 131,
   "metadata": {
    "ExecuteTime": {
     "end_time": "2023-07-15T08:38:59.345644Z",
     "start_time": "2023-07-15T08:38:59.329665Z"
    }
   },
   "outputs": [
    {
     "data": {
      "text/plain": [
       "['la terre brule',\n",
       " 'dans le cours le prof a dit que la terre etait plate',\n",
       " \"on termine les cours aujourd'hui\"]"
      ]
     },
     "execution_count": 131,
     "metadata": {},
     "output_type": "execute_result"
    }
   ],
   "source": [
    "docs"
   ]
  },
  {
   "cell_type": "raw",
   "metadata": {},
   "source": [
    "contexte(terre)="
   ]
  },
  {
   "cell_type": "raw",
   "metadata": {},
   "source": [
    "jean est un bleu (\n",
    "j'ai une peur bleu\n",
    "mon jean est bleu\n",
    "    \n",
    "    \n",
    "je suis un prof de maths dans une ecole \n",
    "    \n",
    "    contexte(prof, 2)=suis, un, de, maths"
   ]
  },
  {
   "cell_type": "raw",
   "metadata": {},
   "source": [
    "je suis un (PROF, INTERVENANT) à l'ESGI et actuellement je donne un cours d'IA"
   ]
  },
  {
   "cell_type": "code",
   "execution_count": null,
   "metadata": {},
   "outputs": [],
   "source": []
  },
  {
   "cell_type": "raw",
   "metadata": {},
   "source": [
    "jean est venu ..... je ne l'ai pas accepté dans mon cours "
   ]
  },
  {
   "cell_type": "code",
   "execution_count": 133,
   "metadata": {
    "ExecuteTime": {
     "end_time": "2023-07-15T08:53:48.572658Z",
     "start_time": "2023-07-15T08:53:48.564611Z"
    }
   },
   "outputs": [
    {
     "data": {
      "text/plain": [
       "['la terre brule',\n",
       " 'dans le cours le prof a dit que la terre etait plate',\n",
       " \"on termine les cours aujourd'hui\"]"
      ]
     },
     "execution_count": 133,
     "metadata": {},
     "output_type": "execute_result"
    }
   ],
   "source": [
    "docs"
   ]
  },
  {
   "cell_type": "code",
   "execution_count": 141,
   "metadata": {
    "ExecuteTime": {
     "end_time": "2023-07-15T08:57:42.149883Z",
     "start_time": "2023-07-15T08:57:42.125332Z"
    }
   },
   "outputs": [
    {
     "data": {
      "text/plain": [
       "0                                   [la, terre, brule]\n",
       "1    [dans, le, cours, le, prof, a, dit, que, la, t...\n",
       "2               [on, termine, les, cours, aujourd'hui]\n",
       "Name: text, dtype: object"
      ]
     },
     "execution_count": 141,
     "metadata": {},
     "output_type": "execute_result"
    }
   ],
   "source": [
    "#Word2Vec Features\n",
    "from sklearn.feature_extraction.text import TfidfVectorizer, CountVectorizer \n",
    "import gensim\n",
    "text = doc[\"text\"].apply(lambda x: x.split()) # tokenizing \n",
    "text"
   ]
  },
  {
   "cell_type": "code",
   "execution_count": 142,
   "metadata": {
    "ExecuteTime": {
     "end_time": "2023-07-15T08:57:43.090462Z",
     "start_time": "2023-07-15T08:57:43.082110Z"
    }
   },
   "outputs": [],
   "source": [
    "#https://radimrehurek.com/gensim/models/word2vec.html\n",
    "#https://datascientest.com/nlp-word-embedding-word2vec\n",
    "#https://www.youtube.com/watch?v=nI6LWbfhTZk&t=9s"
   ]
  },
  {
   "cell_type": "code",
   "execution_count": 193,
   "metadata": {
    "ExecuteTime": {
     "end_time": "2023-07-15T09:28:58.981376Z",
     "start_time": "2023-07-15T09:28:58.594964Z"
    }
   },
   "outputs": [
    {
     "data": {
      "text/html": [
       "<div>\n",
       "<style scoped>\n",
       "    .dataframe tbody tr th:only-of-type {\n",
       "        vertical-align: middle;\n",
       "    }\n",
       "\n",
       "    .dataframe tbody tr th {\n",
       "        vertical-align: top;\n",
       "    }\n",
       "\n",
       "    .dataframe thead th {\n",
       "        text-align: right;\n",
       "    }\n",
       "</style>\n",
       "<table border=\"1\" class=\"dataframe\">\n",
       "  <thead>\n",
       "    <tr style=\"text-align: right;\">\n",
       "      <th></th>\n",
       "      <th>0</th>\n",
       "      <th>1</th>\n",
       "      <th>2</th>\n",
       "      <th>3</th>\n",
       "      <th>4</th>\n",
       "      <th>5</th>\n",
       "      <th>6</th>\n",
       "      <th>7</th>\n",
       "      <th>8</th>\n",
       "      <th>9</th>\n",
       "      <th>10</th>\n",
       "      <th>11</th>\n",
       "      <th>12</th>\n",
       "      <th>13</th>\n",
       "      <th>14</th>\n",
       "      <th>15</th>\n",
       "      <th>16</th>\n",
       "      <th>17</th>\n",
       "      <th>18</th>\n",
       "      <th>19</th>\n",
       "    </tr>\n",
       "  </thead>\n",
       "  <tbody>\n",
       "    <tr>\n",
       "      <th>0</th>\n",
       "      <td>-0.002974</td>\n",
       "      <td>0.001241</td>\n",
       "      <td>0.025281</td>\n",
       "      <td>0.044931</td>\n",
       "      <td>-0.046257</td>\n",
       "      <td>-0.035498</td>\n",
       "      <td>0.032377</td>\n",
       "      <td>0.045030</td>\n",
       "      <td>-0.025279</td>\n",
       "      <td>-0.018582</td>\n",
       "      <td>0.036861</td>\n",
       "      <td>-0.007819</td>\n",
       "      <td>-0.022564</td>\n",
       "      <td>0.032503</td>\n",
       "      <td>-0.024215</td>\n",
       "      <td>-0.009137</td>\n",
       "      <td>0.014840</td>\n",
       "      <td>0.004943</td>\n",
       "      <td>-0.041707</td>\n",
       "      <td>-0.047395</td>\n",
       "    </tr>\n",
       "    <tr>\n",
       "      <th>1</th>\n",
       "      <td>0.036032</td>\n",
       "      <td>0.025424</td>\n",
       "      <td>0.033474</td>\n",
       "      <td>0.003740</td>\n",
       "      <td>0.032308</td>\n",
       "      <td>-0.016731</td>\n",
       "      <td>-0.004297</td>\n",
       "      <td>0.029136</td>\n",
       "      <td>-0.038210</td>\n",
       "      <td>-0.019306</td>\n",
       "      <td>-0.037397</td>\n",
       "      <td>-0.005288</td>\n",
       "      <td>0.047776</td>\n",
       "      <td>-0.037107</td>\n",
       "      <td>-0.011836</td>\n",
       "      <td>-0.009736</td>\n",
       "      <td>0.041322</td>\n",
       "      <td>-0.029585</td>\n",
       "      <td>-0.000453</td>\n",
       "      <td>-0.024001</td>\n",
       "    </tr>\n",
       "    <tr>\n",
       "      <th>2</th>\n",
       "      <td>-0.048259</td>\n",
       "      <td>0.025161</td>\n",
       "      <td>-0.043901</td>\n",
       "      <td>-0.022071</td>\n",
       "      <td>0.000097</td>\n",
       "      <td>-0.001335</td>\n",
       "      <td>-0.038148</td>\n",
       "      <td>0.048330</td>\n",
       "      <td>0.024577</td>\n",
       "      <td>0.046398</td>\n",
       "      <td>-0.040802</td>\n",
       "      <td>0.022243</td>\n",
       "      <td>-0.020539</td>\n",
       "      <td>0.003932</td>\n",
       "      <td>0.042494</td>\n",
       "      <td>-0.022422</td>\n",
       "      <td>0.023039</td>\n",
       "      <td>-0.033885</td>\n",
       "      <td>-0.018083</td>\n",
       "      <td>0.046821</td>\n",
       "    </tr>\n",
       "    <tr>\n",
       "      <th>3</th>\n",
       "      <td>-0.008160</td>\n",
       "      <td>0.001711</td>\n",
       "      <td>-0.020758</td>\n",
       "      <td>-0.038416</td>\n",
       "      <td>-0.007342</td>\n",
       "      <td>0.012379</td>\n",
       "      <td>-0.004297</td>\n",
       "      <td>0.027718</td>\n",
       "      <td>-0.013925</td>\n",
       "      <td>0.011365</td>\n",
       "      <td>0.027277</td>\n",
       "      <td>0.041558</td>\n",
       "      <td>-0.007266</td>\n",
       "      <td>-0.046245</td>\n",
       "      <td>0.021761</td>\n",
       "      <td>0.002778</td>\n",
       "      <td>0.037413</td>\n",
       "      <td>-0.004119</td>\n",
       "      <td>-0.013474</td>\n",
       "      <td>-0.043903</td>\n",
       "    </tr>\n",
       "    <tr>\n",
       "      <th>4</th>\n",
       "      <td>-0.004395</td>\n",
       "      <td>0.014113</td>\n",
       "      <td>0.026994</td>\n",
       "      <td>0.035212</td>\n",
       "      <td>-0.028460</td>\n",
       "      <td>0.009322</td>\n",
       "      <td>0.030502</td>\n",
       "      <td>-0.023929</td>\n",
       "      <td>-0.015601</td>\n",
       "      <td>0.034081</td>\n",
       "      <td>0.008225</td>\n",
       "      <td>0.000901</td>\n",
       "      <td>0.017297</td>\n",
       "      <td>0.001033</td>\n",
       "      <td>0.048065</td>\n",
       "      <td>0.025302</td>\n",
       "      <td>-0.044531</td>\n",
       "      <td>-0.035198</td>\n",
       "      <td>0.004474</td>\n",
       "      <td>0.031984</td>\n",
       "    </tr>\n",
       "  </tbody>\n",
       "</table>\n",
       "</div>"
      ],
      "text/plain": [
       "         0         1         2         3         4         5         6   \\\n",
       "0 -0.002974  0.001241  0.025281  0.044931 -0.046257 -0.035498  0.032377   \n",
       "1  0.036032  0.025424  0.033474  0.003740  0.032308 -0.016731 -0.004297   \n",
       "2 -0.048259  0.025161 -0.043901 -0.022071  0.000097 -0.001335 -0.038148   \n",
       "3 -0.008160  0.001711 -0.020758 -0.038416 -0.007342  0.012379 -0.004297   \n",
       "4 -0.004395  0.014113  0.026994  0.035212 -0.028460  0.009322  0.030502   \n",
       "\n",
       "         7         8         9         10        11        12        13  \\\n",
       "0  0.045030 -0.025279 -0.018582  0.036861 -0.007819 -0.022564  0.032503   \n",
       "1  0.029136 -0.038210 -0.019306 -0.037397 -0.005288  0.047776 -0.037107   \n",
       "2  0.048330  0.024577  0.046398 -0.040802  0.022243 -0.020539  0.003932   \n",
       "3  0.027718 -0.013925  0.011365  0.027277  0.041558 -0.007266 -0.046245   \n",
       "4 -0.023929 -0.015601  0.034081  0.008225  0.000901  0.017297  0.001033   \n",
       "\n",
       "         14        15        16        17        18        19  \n",
       "0 -0.024215 -0.009137  0.014840  0.004943 -0.041707 -0.047395  \n",
       "1 -0.011836 -0.009736  0.041322 -0.029585 -0.000453 -0.024001  \n",
       "2  0.042494 -0.022422  0.023039 -0.033885 -0.018083  0.046821  \n",
       "3  0.021761  0.002778  0.037413 -0.004119 -0.013474 -0.043903  \n",
       "4  0.048065  0.025302 -0.044531 -0.035198  0.004474  0.031984  "
      ]
     },
     "execution_count": 193,
     "metadata": {},
     "output_type": "execute_result"
    }
   ],
   "source": [
    "#modele\n",
    "size=20\n",
    "nb_contexte=5\n",
    "model = gensim.models.Word2Vec( #le modele d'ia\n",
    "            text,        #les donnees d entree format TEXT\n",
    "            vector_size=size, #le contexte d un mot est defini par les 5mots qui le precedent et les 5mots qui le suivent\n",
    "            window=nb_contexte, # je represente chaque mot par un vecteur de taille 10\n",
    "            min_count=1, #  Ignore les mots qui apparaissent moins d'une fois\n",
    "            sg=1  ) #0 si vous voulez definir un mot par son contexte, 1 par son sens\n",
    "    \n",
    "#on entraine le mot, il va representer chaque mot par un vecteur\n",
    "model.train(text, total_examples=model.corpus_count,epochs=50)   \n",
    "\n",
    "#on convertit les mots ou phrases par des matrices\n",
    "data=pd.DataFrame(model.wv[list(model.wv.key_to_index)])  #on cree la base de donnees avec un dataframe\n",
    "data.head()"
   ]
  },
  {
   "cell_type": "code",
   "execution_count": 192,
   "metadata": {
    "ExecuteTime": {
     "end_time": "2023-07-15T09:28:51.245370Z",
     "start_time": "2023-07-15T09:28:51.213230Z"
    }
   },
   "outputs": [
    {
     "data": {
      "text/html": [
       "<div>\n",
       "<style scoped>\n",
       "    .dataframe tbody tr th:only-of-type {\n",
       "        vertical-align: middle;\n",
       "    }\n",
       "\n",
       "    .dataframe tbody tr th {\n",
       "        vertical-align: top;\n",
       "    }\n",
       "\n",
       "    .dataframe thead th {\n",
       "        text-align: right;\n",
       "    }\n",
       "</style>\n",
       "<table border=\"1\" class=\"dataframe\">\n",
       "  <thead>\n",
       "    <tr style=\"text-align: right;\">\n",
       "      <th></th>\n",
       "      <th>0</th>\n",
       "      <th>1</th>\n",
       "      <th>2</th>\n",
       "      <th>3</th>\n",
       "      <th>4</th>\n",
       "      <th>5</th>\n",
       "      <th>6</th>\n",
       "      <th>7</th>\n",
       "      <th>8</th>\n",
       "      <th>9</th>\n",
       "      <th>10</th>\n",
       "      <th>11</th>\n",
       "      <th>12</th>\n",
       "      <th>13</th>\n",
       "      <th>14</th>\n",
       "      <th>15</th>\n",
       "      <th>16</th>\n",
       "      <th>17</th>\n",
       "      <th>18</th>\n",
       "      <th>19</th>\n",
       "    </tr>\n",
       "  </thead>\n",
       "  <tbody>\n",
       "    <tr>\n",
       "      <th>0</th>\n",
       "      <td>-0.002928</td>\n",
       "      <td>0.001270</td>\n",
       "      <td>0.025354</td>\n",
       "      <td>0.044892</td>\n",
       "      <td>-0.046371</td>\n",
       "      <td>-0.035484</td>\n",
       "      <td>0.032361</td>\n",
       "      <td>0.045062</td>\n",
       "      <td>-0.025213</td>\n",
       "      <td>-0.018618</td>\n",
       "      <td>0.036893</td>\n",
       "      <td>-0.007761</td>\n",
       "      <td>-0.022628</td>\n",
       "      <td>0.032568</td>\n",
       "      <td>-0.024244</td>\n",
       "      <td>-0.009122</td>\n",
       "      <td>0.014798</td>\n",
       "      <td>0.004910</td>\n",
       "      <td>-0.041689</td>\n",
       "      <td>-0.047301</td>\n",
       "    </tr>\n",
       "    <tr>\n",
       "      <th>1</th>\n",
       "      <td>0.036133</td>\n",
       "      <td>0.025422</td>\n",
       "      <td>0.033470</td>\n",
       "      <td>0.003662</td>\n",
       "      <td>0.032043</td>\n",
       "      <td>-0.016676</td>\n",
       "      <td>-0.004413</td>\n",
       "      <td>0.029222</td>\n",
       "      <td>-0.038052</td>\n",
       "      <td>-0.019242</td>\n",
       "      <td>-0.037348</td>\n",
       "      <td>-0.005071</td>\n",
       "      <td>0.047676</td>\n",
       "      <td>-0.036930</td>\n",
       "      <td>-0.011635</td>\n",
       "      <td>-0.009626</td>\n",
       "      <td>0.041234</td>\n",
       "      <td>-0.029576</td>\n",
       "      <td>-0.000372</td>\n",
       "      <td>-0.023754</td>\n",
       "    </tr>\n",
       "    <tr>\n",
       "      <th>2</th>\n",
       "      <td>-0.048237</td>\n",
       "      <td>0.025109</td>\n",
       "      <td>-0.043936</td>\n",
       "      <td>-0.022049</td>\n",
       "      <td>0.000021</td>\n",
       "      <td>-0.001355</td>\n",
       "      <td>-0.038273</td>\n",
       "      <td>0.048191</td>\n",
       "      <td>0.024799</td>\n",
       "      <td>0.046363</td>\n",
       "      <td>-0.040786</td>\n",
       "      <td>0.022307</td>\n",
       "      <td>-0.020646</td>\n",
       "      <td>0.004004</td>\n",
       "      <td>0.042569</td>\n",
       "      <td>-0.022399</td>\n",
       "      <td>0.022838</td>\n",
       "      <td>-0.033910</td>\n",
       "      <td>-0.017910</td>\n",
       "      <td>0.046959</td>\n",
       "    </tr>\n",
       "    <tr>\n",
       "      <th>3</th>\n",
       "      <td>-0.008071</td>\n",
       "      <td>0.001664</td>\n",
       "      <td>-0.020794</td>\n",
       "      <td>-0.038520</td>\n",
       "      <td>-0.007423</td>\n",
       "      <td>0.012461</td>\n",
       "      <td>-0.004341</td>\n",
       "      <td>0.027755</td>\n",
       "      <td>-0.013848</td>\n",
       "      <td>0.011455</td>\n",
       "      <td>0.027327</td>\n",
       "      <td>0.041576</td>\n",
       "      <td>-0.007215</td>\n",
       "      <td>-0.046178</td>\n",
       "      <td>0.021895</td>\n",
       "      <td>0.002877</td>\n",
       "      <td>0.037514</td>\n",
       "      <td>-0.004051</td>\n",
       "      <td>-0.013420</td>\n",
       "      <td>-0.043738</td>\n",
       "    </tr>\n",
       "    <tr>\n",
       "      <th>4</th>\n",
       "      <td>-0.004364</td>\n",
       "      <td>0.014104</td>\n",
       "      <td>0.026962</td>\n",
       "      <td>0.035238</td>\n",
       "      <td>-0.028450</td>\n",
       "      <td>0.009311</td>\n",
       "      <td>0.030495</td>\n",
       "      <td>-0.023939</td>\n",
       "      <td>-0.015608</td>\n",
       "      <td>0.034048</td>\n",
       "      <td>0.008233</td>\n",
       "      <td>0.000879</td>\n",
       "      <td>0.017286</td>\n",
       "      <td>0.001026</td>\n",
       "      <td>0.048055</td>\n",
       "      <td>0.025296</td>\n",
       "      <td>-0.044533</td>\n",
       "      <td>-0.035188</td>\n",
       "      <td>0.004467</td>\n",
       "      <td>0.031967</td>\n",
       "    </tr>\n",
       "  </tbody>\n",
       "</table>\n",
       "</div>"
      ],
      "text/plain": [
       "         0         1         2         3         4         5         6   \\\n",
       "0 -0.002928  0.001270  0.025354  0.044892 -0.046371 -0.035484  0.032361   \n",
       "1  0.036133  0.025422  0.033470  0.003662  0.032043 -0.016676 -0.004413   \n",
       "2 -0.048237  0.025109 -0.043936 -0.022049  0.000021 -0.001355 -0.038273   \n",
       "3 -0.008071  0.001664 -0.020794 -0.038520 -0.007423  0.012461 -0.004341   \n",
       "4 -0.004364  0.014104  0.026962  0.035238 -0.028450  0.009311  0.030495   \n",
       "\n",
       "         7         8         9         10        11        12        13  \\\n",
       "0  0.045062 -0.025213 -0.018618  0.036893 -0.007761 -0.022628  0.032568   \n",
       "1  0.029222 -0.038052 -0.019242 -0.037348 -0.005071  0.047676 -0.036930   \n",
       "2  0.048191  0.024799  0.046363 -0.040786  0.022307 -0.020646  0.004004   \n",
       "3  0.027755 -0.013848  0.011455  0.027327  0.041576 -0.007215 -0.046178   \n",
       "4 -0.023939 -0.015608  0.034048  0.008233  0.000879  0.017286  0.001026   \n",
       "\n",
       "         14        15        16        17        18        19  \n",
       "0 -0.024244 -0.009122  0.014798  0.004910 -0.041689 -0.047301  \n",
       "1 -0.011635 -0.009626  0.041234 -0.029576 -0.000372 -0.023754  \n",
       "2  0.042569 -0.022399  0.022838 -0.033910 -0.017910  0.046959  \n",
       "3  0.021895  0.002877  0.037514 -0.004051 -0.013420 -0.043738  \n",
       "4  0.048055  0.025296 -0.044533 -0.035188  0.004467  0.031967  "
      ]
     },
     "execution_count": 192,
     "metadata": {},
     "output_type": "execute_result"
    }
   ],
   "source": [
    "data.head()"
   ]
  },
  {
   "cell_type": "code",
   "execution_count": 185,
   "metadata": {
    "ExecuteTime": {
     "end_time": "2023-07-15T09:25:52.860088Z",
     "start_time": "2023-07-15T09:25:52.848973Z"
    }
   },
   "outputs": [
    {
     "name": "stdout",
     "output_type": "stream",
     "text": [
      "['cours', 'le', 'terre', 'la', \"aujourd'hui\", 'les', 'termine', 'on', 'plate', 'etait', 'que', 'dit', 'a', 'prof', 'dans', 'brule']\n"
     ]
    }
   ],
   "source": [
    "words=list(model.wv.key_to_index)\n",
    "print(words)"
   ]
  },
  {
   "cell_type": "code",
   "execution_count": 186,
   "metadata": {
    "ExecuteTime": {
     "end_time": "2023-07-15T09:25:53.586680Z",
     "start_time": "2023-07-15T09:25:53.570105Z"
    }
   },
   "outputs": [
    {
     "data": {
      "text/plain": [
       "(16, 20)"
      ]
     },
     "execution_count": 186,
     "metadata": {},
     "output_type": "execute_result"
    }
   ],
   "source": [
    "data.shape"
   ]
  },
  {
   "cell_type": "code",
   "execution_count": 187,
   "metadata": {
    "ExecuteTime": {
     "end_time": "2023-07-15T09:25:54.602825Z",
     "start_time": "2023-07-15T09:25:54.550301Z"
    }
   },
   "outputs": [
    {
     "data": {
      "text/html": [
       "<div>\n",
       "<style scoped>\n",
       "    .dataframe tbody tr th:only-of-type {\n",
       "        vertical-align: middle;\n",
       "    }\n",
       "\n",
       "    .dataframe tbody tr th {\n",
       "        vertical-align: top;\n",
       "    }\n",
       "\n",
       "    .dataframe thead th {\n",
       "        text-align: right;\n",
       "    }\n",
       "</style>\n",
       "<table border=\"1\" class=\"dataframe\">\n",
       "  <thead>\n",
       "    <tr style=\"text-align: right;\">\n",
       "      <th></th>\n",
       "      <th>var_1</th>\n",
       "      <th>var_2</th>\n",
       "      <th>var_3</th>\n",
       "      <th>var_4</th>\n",
       "      <th>var_5</th>\n",
       "      <th>var_6</th>\n",
       "      <th>var_7</th>\n",
       "      <th>var_8</th>\n",
       "      <th>var_9</th>\n",
       "      <th>var_10</th>\n",
       "      <th>var_11</th>\n",
       "      <th>var_12</th>\n",
       "      <th>var_13</th>\n",
       "      <th>var_14</th>\n",
       "      <th>var_15</th>\n",
       "      <th>var_16</th>\n",
       "      <th>var_17</th>\n",
       "      <th>var_18</th>\n",
       "      <th>var_19</th>\n",
       "      <th>var_20</th>\n",
       "    </tr>\n",
       "  </thead>\n",
       "  <tbody>\n",
       "    <tr>\n",
       "      <th>cours</th>\n",
       "      <td>-0.002928</td>\n",
       "      <td>0.001270</td>\n",
       "      <td>0.025354</td>\n",
       "      <td>0.044892</td>\n",
       "      <td>-0.046371</td>\n",
       "      <td>-0.035484</td>\n",
       "      <td>0.032361</td>\n",
       "      <td>0.045062</td>\n",
       "      <td>-0.025213</td>\n",
       "      <td>-0.018618</td>\n",
       "      <td>0.036893</td>\n",
       "      <td>-0.007761</td>\n",
       "      <td>-0.022628</td>\n",
       "      <td>0.032568</td>\n",
       "      <td>-0.024244</td>\n",
       "      <td>-0.009122</td>\n",
       "      <td>0.014798</td>\n",
       "      <td>0.004910</td>\n",
       "      <td>-0.041689</td>\n",
       "      <td>-0.047301</td>\n",
       "    </tr>\n",
       "    <tr>\n",
       "      <th>le</th>\n",
       "      <td>0.036133</td>\n",
       "      <td>0.025422</td>\n",
       "      <td>0.033470</td>\n",
       "      <td>0.003662</td>\n",
       "      <td>0.032043</td>\n",
       "      <td>-0.016676</td>\n",
       "      <td>-0.004413</td>\n",
       "      <td>0.029222</td>\n",
       "      <td>-0.038052</td>\n",
       "      <td>-0.019242</td>\n",
       "      <td>-0.037348</td>\n",
       "      <td>-0.005071</td>\n",
       "      <td>0.047676</td>\n",
       "      <td>-0.036930</td>\n",
       "      <td>-0.011635</td>\n",
       "      <td>-0.009626</td>\n",
       "      <td>0.041234</td>\n",
       "      <td>-0.029576</td>\n",
       "      <td>-0.000372</td>\n",
       "      <td>-0.023754</td>\n",
       "    </tr>\n",
       "    <tr>\n",
       "      <th>terre</th>\n",
       "      <td>-0.048237</td>\n",
       "      <td>0.025109</td>\n",
       "      <td>-0.043936</td>\n",
       "      <td>-0.022049</td>\n",
       "      <td>0.000021</td>\n",
       "      <td>-0.001355</td>\n",
       "      <td>-0.038273</td>\n",
       "      <td>0.048191</td>\n",
       "      <td>0.024799</td>\n",
       "      <td>0.046363</td>\n",
       "      <td>-0.040786</td>\n",
       "      <td>0.022307</td>\n",
       "      <td>-0.020646</td>\n",
       "      <td>0.004004</td>\n",
       "      <td>0.042569</td>\n",
       "      <td>-0.022399</td>\n",
       "      <td>0.022838</td>\n",
       "      <td>-0.033910</td>\n",
       "      <td>-0.017910</td>\n",
       "      <td>0.046959</td>\n",
       "    </tr>\n",
       "    <tr>\n",
       "      <th>la</th>\n",
       "      <td>-0.008071</td>\n",
       "      <td>0.001664</td>\n",
       "      <td>-0.020794</td>\n",
       "      <td>-0.038520</td>\n",
       "      <td>-0.007423</td>\n",
       "      <td>0.012461</td>\n",
       "      <td>-0.004341</td>\n",
       "      <td>0.027755</td>\n",
       "      <td>-0.013848</td>\n",
       "      <td>0.011455</td>\n",
       "      <td>0.027327</td>\n",
       "      <td>0.041576</td>\n",
       "      <td>-0.007215</td>\n",
       "      <td>-0.046178</td>\n",
       "      <td>0.021895</td>\n",
       "      <td>0.002877</td>\n",
       "      <td>0.037514</td>\n",
       "      <td>-0.004051</td>\n",
       "      <td>-0.013420</td>\n",
       "      <td>-0.043738</td>\n",
       "    </tr>\n",
       "    <tr>\n",
       "      <th>aujourd'hui</th>\n",
       "      <td>-0.004364</td>\n",
       "      <td>0.014104</td>\n",
       "      <td>0.026962</td>\n",
       "      <td>0.035238</td>\n",
       "      <td>-0.028450</td>\n",
       "      <td>0.009311</td>\n",
       "      <td>0.030495</td>\n",
       "      <td>-0.023939</td>\n",
       "      <td>-0.015608</td>\n",
       "      <td>0.034048</td>\n",
       "      <td>0.008233</td>\n",
       "      <td>0.000879</td>\n",
       "      <td>0.017286</td>\n",
       "      <td>0.001026</td>\n",
       "      <td>0.048055</td>\n",
       "      <td>0.025296</td>\n",
       "      <td>-0.044533</td>\n",
       "      <td>-0.035188</td>\n",
       "      <td>0.004467</td>\n",
       "      <td>0.031967</td>\n",
       "    </tr>\n",
       "    <tr>\n",
       "      <th>les</th>\n",
       "      <td>-0.043213</td>\n",
       "      <td>0.018331</td>\n",
       "      <td>0.025890</td>\n",
       "      <td>0.028678</td>\n",
       "      <td>0.037410</td>\n",
       "      <td>-0.030816</td>\n",
       "      <td>0.005619</td>\n",
       "      <td>0.030278</td>\n",
       "      <td>-0.014284</td>\n",
       "      <td>-0.030790</td>\n",
       "      <td>-0.001996</td>\n",
       "      <td>-0.041948</td>\n",
       "      <td>-0.028043</td>\n",
       "      <td>0.035483</td>\n",
       "      <td>0.016762</td>\n",
       "      <td>0.036136</td>\n",
       "      <td>0.034061</td>\n",
       "      <td>0.037676</td>\n",
       "      <td>-0.019017</td>\n",
       "      <td>-0.002808</td>\n",
       "    </tr>\n",
       "    <tr>\n",
       "      <th>termine</th>\n",
       "      <td>0.011714</td>\n",
       "      <td>-0.022615</td>\n",
       "      <td>0.041915</td>\n",
       "      <td>-0.049312</td>\n",
       "      <td>0.033887</td>\n",
       "      <td>0.014587</td>\n",
       "      <td>-0.024615</td>\n",
       "      <td>0.022039</td>\n",
       "      <td>-0.008740</td>\n",
       "      <td>0.033569</td>\n",
       "      <td>0.049869</td>\n",
       "      <td>-0.021913</td>\n",
       "      <td>-0.003025</td>\n",
       "      <td>-0.028473</td>\n",
       "      <td>0.019237</td>\n",
       "      <td>0.013977</td>\n",
       "      <td>0.034554</td>\n",
       "      <td>0.030569</td>\n",
       "      <td>0.047667</td>\n",
       "      <td>0.046382</td>\n",
       "    </tr>\n",
       "    <tr>\n",
       "      <th>on</th>\n",
       "      <td>0.039433</td>\n",
       "      <td>-0.034961</td>\n",
       "      <td>-0.045874</td>\n",
       "      <td>-0.001841</td>\n",
       "      <td>-0.015421</td>\n",
       "      <td>0.039555</td>\n",
       "      <td>0.029713</td>\n",
       "      <td>-0.007626</td>\n",
       "      <td>0.007518</td>\n",
       "      <td>0.009077</td>\n",
       "      <td>0.039127</td>\n",
       "      <td>-0.047659</td>\n",
       "      <td>-0.001036</td>\n",
       "      <td>0.017368</td>\n",
       "      <td>-0.004620</td>\n",
       "      <td>0.041926</td>\n",
       "      <td>0.045192</td>\n",
       "      <td>0.032767</td>\n",
       "      <td>-0.003583</td>\n",
       "      <td>0.038606</td>\n",
       "    </tr>\n",
       "    <tr>\n",
       "      <th>plate</th>\n",
       "      <td>-0.042765</td>\n",
       "      <td>0.016058</td>\n",
       "      <td>-0.023275</td>\n",
       "      <td>-0.025481</td>\n",
       "      <td>0.018078</td>\n",
       "      <td>0.027008</td>\n",
       "      <td>0.038936</td>\n",
       "      <td>-0.028722</td>\n",
       "      <td>0.036997</td>\n",
       "      <td>0.033310</td>\n",
       "      <td>-0.018492</td>\n",
       "      <td>-0.043867</td>\n",
       "      <td>0.027225</td>\n",
       "      <td>0.032407</td>\n",
       "      <td>-0.003910</td>\n",
       "      <td>-0.033569</td>\n",
       "      <td>-0.035200</td>\n",
       "      <td>-0.012477</td>\n",
       "      <td>0.025583</td>\n",
       "      <td>-0.018337</td>\n",
       "    </tr>\n",
       "    <tr>\n",
       "      <th>etait</th>\n",
       "      <td>-0.047088</td>\n",
       "      <td>0.019166</td>\n",
       "      <td>0.024311</td>\n",
       "      <td>-0.032252</td>\n",
       "      <td>0.006208</td>\n",
       "      <td>-0.010335</td>\n",
       "      <td>0.000290</td>\n",
       "      <td>-0.049213</td>\n",
       "      <td>0.013237</td>\n",
       "      <td>-0.023550</td>\n",
       "      <td>0.005537</td>\n",
       "      <td>-0.008094</td>\n",
       "      <td>0.010937</td>\n",
       "      <td>-0.039550</td>\n",
       "      <td>-0.013582</td>\n",
       "      <td>0.013319</td>\n",
       "      <td>0.027032</td>\n",
       "      <td>-0.011944</td>\n",
       "      <td>-0.047771</td>\n",
       "      <td>0.022548</td>\n",
       "    </tr>\n",
       "    <tr>\n",
       "      <th>que</th>\n",
       "      <td>0.000203</td>\n",
       "      <td>0.015483</td>\n",
       "      <td>-0.034227</td>\n",
       "      <td>-0.006952</td>\n",
       "      <td>0.038522</td>\n",
       "      <td>0.036868</td>\n",
       "      <td>-0.018260</td>\n",
       "      <td>0.013405</td>\n",
       "      <td>-0.041793</td>\n",
       "      <td>0.031234</td>\n",
       "      <td>-0.023146</td>\n",
       "      <td>-0.015985</td>\n",
       "      <td>0.046591</td>\n",
       "      <td>0.004097</td>\n",
       "      <td>0.037472</td>\n",
       "      <td>-0.030441</td>\n",
       "      <td>0.026249</td>\n",
       "      <td>0.049547</td>\n",
       "      <td>-0.042612</td>\n",
       "      <td>-0.025786</td>\n",
       "    </tr>\n",
       "    <tr>\n",
       "      <th>dit</th>\n",
       "      <td>-0.035640</td>\n",
       "      <td>-0.024216</td>\n",
       "      <td>-0.018954</td>\n",
       "      <td>-0.042717</td>\n",
       "      <td>0.039984</td>\n",
       "      <td>-0.024154</td>\n",
       "      <td>0.042249</td>\n",
       "      <td>0.026433</td>\n",
       "      <td>-0.033002</td>\n",
       "      <td>0.019956</td>\n",
       "      <td>0.027428</td>\n",
       "      <td>-0.037317</td>\n",
       "      <td>-0.037080</td>\n",
       "      <td>-0.012604</td>\n",
       "      <td>-0.043117</td>\n",
       "      <td>-0.007948</td>\n",
       "      <td>-0.001769</td>\n",
       "      <td>0.016472</td>\n",
       "      <td>0.006920</td>\n",
       "      <td>-0.004453</td>\n",
       "    </tr>\n",
       "    <tr>\n",
       "      <th>a</th>\n",
       "      <td>-0.028168</td>\n",
       "      <td>0.008633</td>\n",
       "      <td>-0.004702</td>\n",
       "      <td>0.033927</td>\n",
       "      <td>0.020033</td>\n",
       "      <td>0.022912</td>\n",
       "      <td>0.007398</td>\n",
       "      <td>-0.013354</td>\n",
       "      <td>-0.022079</td>\n",
       "      <td>-0.004919</td>\n",
       "      <td>0.007408</td>\n",
       "      <td>-0.013508</td>\n",
       "      <td>-0.035433</td>\n",
       "      <td>-0.039294</td>\n",
       "      <td>-0.045662</td>\n",
       "      <td>-0.029655</td>\n",
       "      <td>-0.008802</td>\n",
       "      <td>-0.021602</td>\n",
       "      <td>-0.032580</td>\n",
       "      <td>-0.018639</td>\n",
       "    </tr>\n",
       "    <tr>\n",
       "      <th>prof</th>\n",
       "      <td>0.021297</td>\n",
       "      <td>-0.018661</td>\n",
       "      <td>0.041801</td>\n",
       "      <td>0.007660</td>\n",
       "      <td>-0.036105</td>\n",
       "      <td>0.047246</td>\n",
       "      <td>0.038251</td>\n",
       "      <td>0.027537</td>\n",
       "      <td>-0.034375</td>\n",
       "      <td>0.029211</td>\n",
       "      <td>0.020087</td>\n",
       "      <td>0.025811</td>\n",
       "      <td>0.021234</td>\n",
       "      <td>0.009622</td>\n",
       "      <td>-0.015852</td>\n",
       "      <td>0.041760</td>\n",
       "      <td>0.048185</td>\n",
       "      <td>0.018984</td>\n",
       "      <td>-0.014333</td>\n",
       "      <td>0.000008</td>\n",
       "    </tr>\n",
       "    <tr>\n",
       "      <th>dans</th>\n",
       "      <td>0.005924</td>\n",
       "      <td>-0.042233</td>\n",
       "      <td>-0.041249</td>\n",
       "      <td>-0.001217</td>\n",
       "      <td>0.006225</td>\n",
       "      <td>-0.028625</td>\n",
       "      <td>-0.023597</td>\n",
       "      <td>-0.036589</td>\n",
       "      <td>0.041619</td>\n",
       "      <td>0.000764</td>\n",
       "      <td>-0.022527</td>\n",
       "      <td>0.028432</td>\n",
       "      <td>0.045889</td>\n",
       "      <td>-0.020599</td>\n",
       "      <td>0.039868</td>\n",
       "      <td>0.026826</td>\n",
       "      <td>0.029661</td>\n",
       "      <td>0.002489</td>\n",
       "      <td>0.040905</td>\n",
       "      <td>-0.035089</td>\n",
       "    </tr>\n",
       "    <tr>\n",
       "      <th>brule</th>\n",
       "      <td>-0.041213</td>\n",
       "      <td>0.046497</td>\n",
       "      <td>-0.000988</td>\n",
       "      <td>-0.009836</td>\n",
       "      <td>0.023018</td>\n",
       "      <td>-0.020477</td>\n",
       "      <td>0.013716</td>\n",
       "      <td>0.034700</td>\n",
       "      <td>0.030327</td>\n",
       "      <td>-0.037554</td>\n",
       "      <td>0.046912</td>\n",
       "      <td>0.023359</td>\n",
       "      <td>0.019831</td>\n",
       "      <td>-0.031218</td>\n",
       "      <td>0.042300</td>\n",
       "      <td>-0.010751</td>\n",
       "      <td>0.044126</td>\n",
       "      <td>-0.026810</td>\n",
       "      <td>-0.040647</td>\n",
       "      <td>0.034123</td>\n",
       "    </tr>\n",
       "  </tbody>\n",
       "</table>\n",
       "</div>"
      ],
      "text/plain": [
       "                var_1     var_2     var_3     var_4     var_5     var_6  \\\n",
       "cours       -0.002928  0.001270  0.025354  0.044892 -0.046371 -0.035484   \n",
       "le           0.036133  0.025422  0.033470  0.003662  0.032043 -0.016676   \n",
       "terre       -0.048237  0.025109 -0.043936 -0.022049  0.000021 -0.001355   \n",
       "la          -0.008071  0.001664 -0.020794 -0.038520 -0.007423  0.012461   \n",
       "aujourd'hui -0.004364  0.014104  0.026962  0.035238 -0.028450  0.009311   \n",
       "les         -0.043213  0.018331  0.025890  0.028678  0.037410 -0.030816   \n",
       "termine      0.011714 -0.022615  0.041915 -0.049312  0.033887  0.014587   \n",
       "on           0.039433 -0.034961 -0.045874 -0.001841 -0.015421  0.039555   \n",
       "plate       -0.042765  0.016058 -0.023275 -0.025481  0.018078  0.027008   \n",
       "etait       -0.047088  0.019166  0.024311 -0.032252  0.006208 -0.010335   \n",
       "que          0.000203  0.015483 -0.034227 -0.006952  0.038522  0.036868   \n",
       "dit         -0.035640 -0.024216 -0.018954 -0.042717  0.039984 -0.024154   \n",
       "a           -0.028168  0.008633 -0.004702  0.033927  0.020033  0.022912   \n",
       "prof         0.021297 -0.018661  0.041801  0.007660 -0.036105  0.047246   \n",
       "dans         0.005924 -0.042233 -0.041249 -0.001217  0.006225 -0.028625   \n",
       "brule       -0.041213  0.046497 -0.000988 -0.009836  0.023018 -0.020477   \n",
       "\n",
       "                var_7     var_8     var_9    var_10    var_11    var_12  \\\n",
       "cours        0.032361  0.045062 -0.025213 -0.018618  0.036893 -0.007761   \n",
       "le          -0.004413  0.029222 -0.038052 -0.019242 -0.037348 -0.005071   \n",
       "terre       -0.038273  0.048191  0.024799  0.046363 -0.040786  0.022307   \n",
       "la          -0.004341  0.027755 -0.013848  0.011455  0.027327  0.041576   \n",
       "aujourd'hui  0.030495 -0.023939 -0.015608  0.034048  0.008233  0.000879   \n",
       "les          0.005619  0.030278 -0.014284 -0.030790 -0.001996 -0.041948   \n",
       "termine     -0.024615  0.022039 -0.008740  0.033569  0.049869 -0.021913   \n",
       "on           0.029713 -0.007626  0.007518  0.009077  0.039127 -0.047659   \n",
       "plate        0.038936 -0.028722  0.036997  0.033310 -0.018492 -0.043867   \n",
       "etait        0.000290 -0.049213  0.013237 -0.023550  0.005537 -0.008094   \n",
       "que         -0.018260  0.013405 -0.041793  0.031234 -0.023146 -0.015985   \n",
       "dit          0.042249  0.026433 -0.033002  0.019956  0.027428 -0.037317   \n",
       "a            0.007398 -0.013354 -0.022079 -0.004919  0.007408 -0.013508   \n",
       "prof         0.038251  0.027537 -0.034375  0.029211  0.020087  0.025811   \n",
       "dans        -0.023597 -0.036589  0.041619  0.000764 -0.022527  0.028432   \n",
       "brule        0.013716  0.034700  0.030327 -0.037554  0.046912  0.023359   \n",
       "\n",
       "               var_13    var_14    var_15    var_16    var_17    var_18  \\\n",
       "cours       -0.022628  0.032568 -0.024244 -0.009122  0.014798  0.004910   \n",
       "le           0.047676 -0.036930 -0.011635 -0.009626  0.041234 -0.029576   \n",
       "terre       -0.020646  0.004004  0.042569 -0.022399  0.022838 -0.033910   \n",
       "la          -0.007215 -0.046178  0.021895  0.002877  0.037514 -0.004051   \n",
       "aujourd'hui  0.017286  0.001026  0.048055  0.025296 -0.044533 -0.035188   \n",
       "les         -0.028043  0.035483  0.016762  0.036136  0.034061  0.037676   \n",
       "termine     -0.003025 -0.028473  0.019237  0.013977  0.034554  0.030569   \n",
       "on          -0.001036  0.017368 -0.004620  0.041926  0.045192  0.032767   \n",
       "plate        0.027225  0.032407 -0.003910 -0.033569 -0.035200 -0.012477   \n",
       "etait        0.010937 -0.039550 -0.013582  0.013319  0.027032 -0.011944   \n",
       "que          0.046591  0.004097  0.037472 -0.030441  0.026249  0.049547   \n",
       "dit         -0.037080 -0.012604 -0.043117 -0.007948 -0.001769  0.016472   \n",
       "a           -0.035433 -0.039294 -0.045662 -0.029655 -0.008802 -0.021602   \n",
       "prof         0.021234  0.009622 -0.015852  0.041760  0.048185  0.018984   \n",
       "dans         0.045889 -0.020599  0.039868  0.026826  0.029661  0.002489   \n",
       "brule        0.019831 -0.031218  0.042300 -0.010751  0.044126 -0.026810   \n",
       "\n",
       "               var_19    var_20  \n",
       "cours       -0.041689 -0.047301  \n",
       "le          -0.000372 -0.023754  \n",
       "terre       -0.017910  0.046959  \n",
       "la          -0.013420 -0.043738  \n",
       "aujourd'hui  0.004467  0.031967  \n",
       "les         -0.019017 -0.002808  \n",
       "termine      0.047667  0.046382  \n",
       "on          -0.003583  0.038606  \n",
       "plate        0.025583 -0.018337  \n",
       "etait       -0.047771  0.022548  \n",
       "que         -0.042612 -0.025786  \n",
       "dit          0.006920 -0.004453  \n",
       "a           -0.032580 -0.018639  \n",
       "prof        -0.014333  0.000008  \n",
       "dans         0.040905 -0.035089  \n",
       "brule       -0.040647  0.034123  "
      ]
     },
     "execution_count": 187,
     "metadata": {},
     "output_type": "execute_result"
    }
   ],
   "source": [
    "data=pd.DataFrame(model.wv[list(model.wv.key_to_index)])\n",
    "data.columns=[\"var_\"+str(i+1) for i in range(size)]\n",
    "data.index=words\n",
    "data"
   ]
  },
  {
   "cell_type": "code",
   "execution_count": null,
   "metadata": {},
   "outputs": [],
   "source": [
    "#roi+femme-homme=reine"
   ]
  },
  {
   "cell_type": "code",
   "execution_count": null,
   "metadata": {},
   "outputs": [],
   "source": []
  },
  {
   "cell_type": "code",
   "execution_count": null,
   "metadata": {},
   "outputs": [],
   "source": []
  },
  {
   "cell_type": "code",
   "execution_count": null,
   "metadata": {},
   "outputs": [],
   "source": []
  },
  {
   "cell_type": "code",
   "execution_count": null,
   "metadata": {},
   "outputs": [],
   "source": []
  },
  {
   "cell_type": "code",
   "execution_count": 166,
   "metadata": {
    "ExecuteTime": {
     "end_time": "2023-07-15T09:12:58.454202Z",
     "start_time": "2023-07-15T09:12:58.439561Z"
    }
   },
   "outputs": [
    {
     "data": {
      "text/plain": [
       "['la terre brule',\n",
       " 'dans le cours le prof a dit que la terre etait plate',\n",
       " \"on termine les cours aujourd'hui\"]"
      ]
     },
     "execution_count": 166,
     "metadata": {},
     "output_type": "execute_result"
    }
   ],
   "source": [
    "docs"
   ]
  },
  {
   "cell_type": "code",
   "execution_count": 23,
   "metadata": {
    "ExecuteTime": {
     "end_time": "2023-07-15T07:08:30.601194Z",
     "start_time": "2023-07-15T07:08:30.593641Z"
    }
   },
   "outputs": [],
   "source": [
    "#vec(“king”) - vec(“man”) + vec(“woman”) =~ vec(“queen”)"
   ]
  },
  {
   "cell_type": "code",
   "execution_count": 170,
   "metadata": {
    "ExecuteTime": {
     "end_time": "2023-07-15T09:15:11.235073Z",
     "start_time": "2023-07-15T09:15:11.219522Z"
    }
   },
   "outputs": [
    {
     "data": {
      "text/plain": [
       "[('le', 0.12229078263044357),\n",
       " ('on', 0.08030968904495239),\n",
       " ('cours', 0.05396855250000954),\n",
       " (\"aujourd'hui\", 0.015958650037646294),\n",
       " ('dit', 0.012974392622709274),\n",
       " ('etait', 0.010642505250871181),\n",
       " ('a', -0.0039824312552809715),\n",
       " ('plate', -0.014720246195793152),\n",
       " ('terre', -0.019884280860424042),\n",
       " ('les', -0.026302335783839226)]"
      ]
     },
     "execution_count": 170,
     "metadata": {},
     "output_type": "execute_result"
    }
   ],
   "source": [
    "model.wv.most_similar(positive=\"brule\")  #the most similar words from the corpus"
   ]
  },
  {
   "cell_type": "code",
   "execution_count": 173,
   "metadata": {
    "ExecuteTime": {
     "end_time": "2023-07-15T09:17:17.596217Z",
     "start_time": "2023-07-15T09:17:17.571063Z"
    }
   },
   "outputs": [
    {
     "data": {
      "text/plain": [
       "array([-5.6807662e-04,  2.7857267e-04,  5.1259305e-03,  9.0209730e-03,\n",
       "       -9.2730857e-03, -7.1462523e-03,  6.4683892e-03,  9.0460107e-03,\n",
       "       -5.0554159e-03, -3.8283074e-03,  7.4073044e-03, -1.5789836e-03,\n",
       "       -4.5296950e-03,  6.5273694e-03, -4.8135496e-03, -1.8150633e-03,\n",
       "        2.9466460e-03,  9.9958479e-04, -8.3341729e-03, -9.5329927e-03,\n",
       "        7.3001222e-03,  5.0689098e-03,  6.8281638e-03,  7.2559452e-04,\n",
       "        6.3524204e-03, -3.3854353e-03, -9.7372098e-04,  5.8262474e-03,\n",
       "       -7.5442996e-03, -3.8915412e-03, -7.4857729e-03, -9.6574915e-04,\n",
       "        9.5444489e-03, -7.3388731e-03, -2.3617023e-03, -1.9231680e-03,\n",
       "        8.1018731e-03, -5.9149954e-03,  3.0339281e-05, -4.7284951e-03,\n",
       "       -9.5879566e-03,  5.0218380e-03, -8.7919114e-03, -4.3635969e-03,\n",
       "       -2.5713658e-05, -3.0306343e-04, -7.6485579e-03,  9.6072452e-03,\n",
       "        4.9693282e-03,  9.2661651e-03, -8.1334542e-03,  4.4643744e-03,\n",
       "       -4.1654804e-03,  7.8338786e-04,  8.4560774e-03, -4.4858526e-03,\n",
       "        4.5209704e-03, -6.7714830e-03, -3.5285687e-03,  9.4190324e-03,\n",
       "       -1.6068163e-03,  3.1347439e-04, -4.0576691e-03, -7.6774103e-03,\n",
       "       -1.5500105e-03,  2.5225333e-03, -8.6024654e-04,  5.5686329e-03,\n",
       "       -2.7937344e-03,  2.2513242e-03,  5.4795174e-03,  8.3891507e-03,\n",
       "       -1.4207575e-03, -9.1725271e-03,  4.3612234e-03,  5.8601296e-04,\n",
       "        7.4709556e-03, -8.2223903e-04, -2.6604072e-03, -8.7763565e-03,\n",
       "       -9.0079784e-04,  2.8337340e-03,  5.4077734e-03,  7.0897937e-03,\n",
       "       -5.7071443e-03,  1.8218347e-03,  6.1134226e-03, -4.8175403e-03,\n",
       "       -3.0647924e-03,  6.7924443e-03,  1.6300143e-03,  2.1614578e-04,\n",
       "        3.5032239e-03,  2.0627196e-04,  9.7031575e-03,  5.0660879e-03,\n",
       "       -8.8710487e-03, -7.0582875e-03,  9.3432883e-04,  6.3852421e-03],\n",
       "      dtype=float32)"
      ]
     },
     "execution_count": 173,
     "metadata": {},
     "output_type": "execute_result"
    }
   ],
   "source": [
    "model.wv['cours']  #Let’s check the vector representation of any word from our corpus.\n"
   ]
  },
  {
   "cell_type": "code",
   "execution_count": 174,
   "metadata": {
    "ExecuteTime": {
     "end_time": "2023-07-15T09:17:29.614237Z",
     "start_time": "2023-07-15T09:17:29.599735Z"
    }
   },
   "outputs": [
    {
     "data": {
      "text/plain": [
       "array([-1.0865238e-03, -4.5361323e-04,  9.3348660e-03,  1.5776061e-02,\n",
       "       -1.9853187e-03, -1.2222855e-02,  1.3713698e-02,  1.5228756e-02,\n",
       "       -1.1245606e-02, -1.1682466e-02,  1.2923742e-02, -8.5149854e-03,\n",
       "       -1.0873314e-02,  2.2885829e-02, -6.3126436e-03,  4.5404453e-03,\n",
       "        1.9055273e-02,  1.5290729e-02, -1.0710843e-02, -1.9209050e-02,\n",
       "        1.0746126e-02, -1.7471716e-03,  2.4762034e-02, -7.9811504e-03,\n",
       "        1.4548413e-02,  2.0012765e-03, -7.8390306e-03,  5.3599640e-03,\n",
       "       -9.1166683e-03,  9.5709437e-04,  9.1013433e-03,  3.5564685e-03,\n",
       "        8.2942443e-03, -1.0137565e-02, -4.6667997e-03,  2.5764266e-03,\n",
       "        8.0703711e-03, -8.4982254e-03,  3.6014356e-03, -4.3823095e-03,\n",
       "        5.6448001e-03, -7.7393330e-03, -9.7634066e-03, -1.1878734e-02,\n",
       "        3.1661871e-04,  1.7178370e-02, -9.4708214e-03, -1.9120984e-03,\n",
       "        2.1444918e-03,  8.4470604e-03, -5.5705738e-04, -1.3977459e-02,\n",
       "       -1.2983550e-02,  6.9703180e-03, -8.0842339e-04, -5.1990575e-03,\n",
       "        1.1154739e-02, -8.8516613e-03, -1.1257460e-02,  8.7842224e-03,\n",
       "       -1.0463021e-02, -1.0869997e-03, -1.8946086e-03, -1.1205403e-02,\n",
       "       -1.3914917e-03,  1.4139092e-02,  9.5264241e-04, -4.7387131e-03,\n",
       "       -2.7106293e-03,  4.4986429e-03,  2.4628360e-05,  6.2745279e-03,\n",
       "        1.3257128e-03,  2.3309528e-03,  1.0472752e-02, -1.3499987e-02,\n",
       "        5.0195148e-03,  2.7869130e-03, -5.1263045e-04, -5.8930917e-03,\n",
       "       -4.2509707e-03,  2.4091033e-04,  3.5182089e-03,  3.2942828e-03,\n",
       "       -6.1518936e-03, -6.4143054e-03,  1.5713632e-02, -1.9822987e-02,\n",
       "       -6.8339552e-03,  1.9241044e-03,  7.1301823e-05, -8.8062161e-04,\n",
       "        2.1689620e-03, -8.1088906e-03,  6.4436607e-03,  8.5451659e-03,\n",
       "        4.7755730e-03, -1.5252804e-02, -1.0151482e-02,  1.6444210e-02],\n",
       "      dtype=float32)"
      ]
     },
     "execution_count": 174,
     "metadata": {},
     "output_type": "execute_result"
    }
   ],
   "source": [
    "model.wv['le'] +model.wv['cours'] +model.wv['termine'] "
   ]
  },
  {
   "cell_type": "code",
   "execution_count": 188,
   "metadata": {
    "ExecuteTime": {
     "end_time": "2023-07-15T09:26:08.894050Z",
     "start_time": "2023-07-15T09:26:08.885487Z"
    }
   },
   "outputs": [
    {
     "data": {
      "text/plain": [
       "0.23271534"
      ]
     },
     "execution_count": 188,
     "metadata": {},
     "output_type": "execute_result"
    }
   ],
   "source": [
    "model.wv.similarity(\"la\", \"terre\")  "
   ]
  },
  {
   "cell_type": "code",
   "execution_count": 189,
   "metadata": {
    "ExecuteTime": {
     "end_time": "2023-07-15T09:26:28.152386Z",
     "start_time": "2023-07-15T09:26:28.139013Z"
    }
   },
   "outputs": [
    {
     "data": {
      "text/plain": [
       "[('brule', 0.3672201335430145),\n",
       " ('que', 0.26623788475990295),\n",
       " ('prof', 0.25444409251213074),\n",
       " ('terre', 0.23271535336971283),\n",
       " ('dans', 0.21336685121059418),\n",
       " ('termine', 0.1840076893568039),\n",
       " ('le', 0.1587478369474411),\n",
       " ('dit', 0.1420685350894928),\n",
       " ('etait', 0.09299004077911377),\n",
       " ('cours', 0.05914854258298874)]"
      ]
     },
     "execution_count": 189,
     "metadata": {},
     "output_type": "execute_result"
    }
   ],
   "source": [
    "model.wv.similar_by_vector(\"la\")  \n"
   ]
  },
  {
   "cell_type": "code",
   "execution_count": 29,
   "metadata": {
    "ExecuteTime": {
     "end_time": "2023-07-15T07:08:30.696419Z",
     "start_time": "2023-07-15T07:08:30.687875Z"
    }
   },
   "outputs": [
    {
     "data": {
      "text/plain": [
       "0.43182024"
      ]
     },
     "execution_count": 29,
     "metadata": {},
     "output_type": "execute_result"
    }
   ],
   "source": [
    "model.wv.similarity(\"brule\", \"terre\")  # similarité"
   ]
  },
  {
   "cell_type": "markdown",
   "metadata": {},
   "source": [
    "# Application"
   ]
  },
  {
   "cell_type": "code",
   "execution_count": 199,
   "metadata": {
    "ExecuteTime": {
     "end_time": "2023-07-15T10:06:18.928222Z",
     "start_time": "2023-07-15T10:06:18.732017Z"
    }
   },
   "outputs": [
    {
     "data": {
      "text/html": [
       "<div>\n",
       "<style scoped>\n",
       "    .dataframe tbody tr th:only-of-type {\n",
       "        vertical-align: middle;\n",
       "    }\n",
       "\n",
       "    .dataframe tbody tr th {\n",
       "        vertical-align: top;\n",
       "    }\n",
       "\n",
       "    .dataframe thead th {\n",
       "        text-align: right;\n",
       "    }\n",
       "</style>\n",
       "<table border=\"1\" class=\"dataframe\">\n",
       "  <thead>\n",
       "    <tr style=\"text-align: right;\">\n",
       "      <th></th>\n",
       "      <th>tweet_id</th>\n",
       "      <th>airline_sentiment</th>\n",
       "      <th>airline_sentiment_confidence</th>\n",
       "      <th>negativereason</th>\n",
       "      <th>negativereason_confidence</th>\n",
       "      <th>airline</th>\n",
       "      <th>airline_sentiment_gold</th>\n",
       "      <th>name</th>\n",
       "      <th>negativereason_gold</th>\n",
       "      <th>retweet_count</th>\n",
       "      <th>text</th>\n",
       "      <th>tweet_coord</th>\n",
       "      <th>tweet_created</th>\n",
       "      <th>tweet_location</th>\n",
       "      <th>user_timezone</th>\n",
       "    </tr>\n",
       "  </thead>\n",
       "  <tbody>\n",
       "    <tr>\n",
       "      <th>0</th>\n",
       "      <td>570306133677760513</td>\n",
       "      <td>neutral</td>\n",
       "      <td>1.0000</td>\n",
       "      <td>NaN</td>\n",
       "      <td>NaN</td>\n",
       "      <td>Virgin America</td>\n",
       "      <td>NaN</td>\n",
       "      <td>cairdin</td>\n",
       "      <td>NaN</td>\n",
       "      <td>0</td>\n",
       "      <td>@VirginAmerica What @dhepburn said.</td>\n",
       "      <td>NaN</td>\n",
       "      <td>2015-02-24 11:35:52 -0800</td>\n",
       "      <td>NaN</td>\n",
       "      <td>Eastern Time (US &amp; Canada)</td>\n",
       "    </tr>\n",
       "    <tr>\n",
       "      <th>1</th>\n",
       "      <td>570301130888122368</td>\n",
       "      <td>positive</td>\n",
       "      <td>0.3486</td>\n",
       "      <td>NaN</td>\n",
       "      <td>0.0000</td>\n",
       "      <td>Virgin America</td>\n",
       "      <td>NaN</td>\n",
       "      <td>jnardino</td>\n",
       "      <td>NaN</td>\n",
       "      <td>0</td>\n",
       "      <td>@VirginAmerica plus you've added commercials t...</td>\n",
       "      <td>NaN</td>\n",
       "      <td>2015-02-24 11:15:59 -0800</td>\n",
       "      <td>NaN</td>\n",
       "      <td>Pacific Time (US &amp; Canada)</td>\n",
       "    </tr>\n",
       "    <tr>\n",
       "      <th>2</th>\n",
       "      <td>570301083672813571</td>\n",
       "      <td>neutral</td>\n",
       "      <td>0.6837</td>\n",
       "      <td>NaN</td>\n",
       "      <td>NaN</td>\n",
       "      <td>Virgin America</td>\n",
       "      <td>NaN</td>\n",
       "      <td>yvonnalynn</td>\n",
       "      <td>NaN</td>\n",
       "      <td>0</td>\n",
       "      <td>@VirginAmerica I didn't today... Must mean I n...</td>\n",
       "      <td>NaN</td>\n",
       "      <td>2015-02-24 11:15:48 -0800</td>\n",
       "      <td>Lets Play</td>\n",
       "      <td>Central Time (US &amp; Canada)</td>\n",
       "    </tr>\n",
       "    <tr>\n",
       "      <th>3</th>\n",
       "      <td>570301031407624196</td>\n",
       "      <td>negative</td>\n",
       "      <td>1.0000</td>\n",
       "      <td>Bad Flight</td>\n",
       "      <td>0.7033</td>\n",
       "      <td>Virgin America</td>\n",
       "      <td>NaN</td>\n",
       "      <td>jnardino</td>\n",
       "      <td>NaN</td>\n",
       "      <td>0</td>\n",
       "      <td>@VirginAmerica it's really aggressive to blast...</td>\n",
       "      <td>NaN</td>\n",
       "      <td>2015-02-24 11:15:36 -0800</td>\n",
       "      <td>NaN</td>\n",
       "      <td>Pacific Time (US &amp; Canada)</td>\n",
       "    </tr>\n",
       "    <tr>\n",
       "      <th>4</th>\n",
       "      <td>570300817074462722</td>\n",
       "      <td>negative</td>\n",
       "      <td>1.0000</td>\n",
       "      <td>Can't Tell</td>\n",
       "      <td>1.0000</td>\n",
       "      <td>Virgin America</td>\n",
       "      <td>NaN</td>\n",
       "      <td>jnardino</td>\n",
       "      <td>NaN</td>\n",
       "      <td>0</td>\n",
       "      <td>@VirginAmerica and it's a really big bad thing...</td>\n",
       "      <td>NaN</td>\n",
       "      <td>2015-02-24 11:14:45 -0800</td>\n",
       "      <td>NaN</td>\n",
       "      <td>Pacific Time (US &amp; Canada)</td>\n",
       "    </tr>\n",
       "  </tbody>\n",
       "</table>\n",
       "</div>"
      ],
      "text/plain": [
       "             tweet_id airline_sentiment  airline_sentiment_confidence  \\\n",
       "0  570306133677760513           neutral                        1.0000   \n",
       "1  570301130888122368          positive                        0.3486   \n",
       "2  570301083672813571           neutral                        0.6837   \n",
       "3  570301031407624196          negative                        1.0000   \n",
       "4  570300817074462722          negative                        1.0000   \n",
       "\n",
       "  negativereason  negativereason_confidence         airline  \\\n",
       "0            NaN                        NaN  Virgin America   \n",
       "1            NaN                     0.0000  Virgin America   \n",
       "2            NaN                        NaN  Virgin America   \n",
       "3     Bad Flight                     0.7033  Virgin America   \n",
       "4     Can't Tell                     1.0000  Virgin America   \n",
       "\n",
       "  airline_sentiment_gold        name negativereason_gold  retweet_count  \\\n",
       "0                    NaN     cairdin                 NaN              0   \n",
       "1                    NaN    jnardino                 NaN              0   \n",
       "2                    NaN  yvonnalynn                 NaN              0   \n",
       "3                    NaN    jnardino                 NaN              0   \n",
       "4                    NaN    jnardino                 NaN              0   \n",
       "\n",
       "                                                text tweet_coord  \\\n",
       "0                @VirginAmerica What @dhepburn said.         NaN   \n",
       "1  @VirginAmerica plus you've added commercials t...         NaN   \n",
       "2  @VirginAmerica I didn't today... Must mean I n...         NaN   \n",
       "3  @VirginAmerica it's really aggressive to blast...         NaN   \n",
       "4  @VirginAmerica and it's a really big bad thing...         NaN   \n",
       "\n",
       "               tweet_created tweet_location               user_timezone  \n",
       "0  2015-02-24 11:35:52 -0800            NaN  Eastern Time (US & Canada)  \n",
       "1  2015-02-24 11:15:59 -0800            NaN  Pacific Time (US & Canada)  \n",
       "2  2015-02-24 11:15:48 -0800      Lets Play  Central Time (US & Canada)  \n",
       "3  2015-02-24 11:15:36 -0800            NaN  Pacific Time (US & Canada)  \n",
       "4  2015-02-24 11:14:45 -0800            NaN  Pacific Time (US & Canada)  "
      ]
     },
     "execution_count": 199,
     "metadata": {},
     "output_type": "execute_result"
    }
   ],
   "source": [
    "import pandas as pd\n",
    "data_brute=pd.read_csv(\"C:/Users/sambe/Desktop/ESGI/SEANCE3/Tweets.csv\")\n",
    "data_brute.head()"
   ]
  },
  {
   "cell_type": "code",
   "execution_count": 201,
   "metadata": {
    "ExecuteTime": {
     "end_time": "2023-07-15T10:08:21.855062Z",
     "start_time": "2023-07-15T10:08:21.831149Z"
    }
   },
   "outputs": [
    {
     "data": {
      "text/html": [
       "<div>\n",
       "<style scoped>\n",
       "    .dataframe tbody tr th:only-of-type {\n",
       "        vertical-align: middle;\n",
       "    }\n",
       "\n",
       "    .dataframe tbody tr th {\n",
       "        vertical-align: top;\n",
       "    }\n",
       "\n",
       "    .dataframe thead th {\n",
       "        text-align: right;\n",
       "    }\n",
       "</style>\n",
       "<table border=\"1\" class=\"dataframe\">\n",
       "  <thead>\n",
       "    <tr style=\"text-align: right;\">\n",
       "      <th></th>\n",
       "      <th>text</th>\n",
       "      <th>negativereason</th>\n",
       "      <th>airline_sentiment</th>\n",
       "      <th>airline</th>\n",
       "    </tr>\n",
       "  </thead>\n",
       "  <tbody>\n",
       "    <tr>\n",
       "      <th>0</th>\n",
       "      <td>@VirginAmerica What @dhepburn said.</td>\n",
       "      <td>NaN</td>\n",
       "      <td>neutral</td>\n",
       "      <td>Virgin America</td>\n",
       "    </tr>\n",
       "    <tr>\n",
       "      <th>1</th>\n",
       "      <td>@VirginAmerica plus you've added commercials t...</td>\n",
       "      <td>NaN</td>\n",
       "      <td>positive</td>\n",
       "      <td>Virgin America</td>\n",
       "    </tr>\n",
       "    <tr>\n",
       "      <th>2</th>\n",
       "      <td>@VirginAmerica I didn't today... Must mean I n...</td>\n",
       "      <td>NaN</td>\n",
       "      <td>neutral</td>\n",
       "      <td>Virgin America</td>\n",
       "    </tr>\n",
       "    <tr>\n",
       "      <th>3</th>\n",
       "      <td>@VirginAmerica it's really aggressive to blast...</td>\n",
       "      <td>Bad Flight</td>\n",
       "      <td>negative</td>\n",
       "      <td>Virgin America</td>\n",
       "    </tr>\n",
       "    <tr>\n",
       "      <th>4</th>\n",
       "      <td>@VirginAmerica and it's a really big bad thing...</td>\n",
       "      <td>Can't Tell</td>\n",
       "      <td>negative</td>\n",
       "      <td>Virgin America</td>\n",
       "    </tr>\n",
       "  </tbody>\n",
       "</table>\n",
       "</div>"
      ],
      "text/plain": [
       "                                                text negativereason  \\\n",
       "0                @VirginAmerica What @dhepburn said.            NaN   \n",
       "1  @VirginAmerica plus you've added commercials t...            NaN   \n",
       "2  @VirginAmerica I didn't today... Must mean I n...            NaN   \n",
       "3  @VirginAmerica it's really aggressive to blast...     Bad Flight   \n",
       "4  @VirginAmerica and it's a really big bad thing...     Can't Tell   \n",
       "\n",
       "  airline_sentiment         airline  \n",
       "0           neutral  Virgin America  \n",
       "1          positive  Virgin America  \n",
       "2           neutral  Virgin America  \n",
       "3          negative  Virgin America  \n",
       "4          negative  Virgin America  "
      ]
     },
     "execution_count": 201,
     "metadata": {},
     "output_type": "execute_result"
    }
   ],
   "source": [
    "data=data_brute[[\"text\",\"negativereason\",\"airline_sentiment\",\"airline\"]]\n",
    "data.head()"
   ]
  },
  {
   "cell_type": "code",
   "execution_count": 202,
   "metadata": {
    "ExecuteTime": {
     "end_time": "2023-07-15T10:09:50.277178Z",
     "start_time": "2023-07-15T10:09:50.260837Z"
    }
   },
   "outputs": [
    {
     "data": {
      "text/plain": [
       "(14640, 4)"
      ]
     },
     "execution_count": 202,
     "metadata": {},
     "output_type": "execute_result"
    }
   ],
   "source": [
    "data.shape  #plus de 14600 tweets! et on dispose pour chaque tweet 3 informations (texte, negativereason\",\"airline_sentiment\",\"airline\")"
   ]
  },
  {
   "cell_type": "code",
   "execution_count": 206,
   "metadata": {
    "ExecuteTime": {
     "end_time": "2023-07-15T10:13:47.886939Z",
     "start_time": "2023-07-15T10:13:47.601956Z"
    }
   },
   "outputs": [
    {
     "data": {
      "text/plain": [
       "<AxesSubplot:>"
      ]
     },
     "execution_count": 206,
     "metadata": {},
     "output_type": "execute_result"
    },
    {
     "data": {
      "image/png": "[encoded data removed]",
      "text/plain": [
       "<Figure size 720x720 with 1 Axes>"
      ]
     },
     "metadata": {
      "needs_background": "light"
     },
     "output_type": "display_data"
    }
   ],
   "source": [
    "data.negativereason.value_counts().plot(kind=\"bar\", figsize=(10,10))"
   ]
  },
  {
   "cell_type": "code",
   "execution_count": 207,
   "metadata": {
    "ExecuteTime": {
     "end_time": "2023-07-15T10:15:13.724566Z",
     "start_time": "2023-07-15T10:15:13.479285Z"
    }
   },
   "outputs": [
    {
     "data": {
      "text/plain": [
       "<AxesSubplot:>"
      ]
     },
     "execution_count": 207,
     "metadata": {},
     "output_type": "execute_result"
    },
    {
     "data": {
      "image/png": "[encoded data removed]",
      "text/plain": [
       "<Figure size 720x720 with 1 Axes>"
      ]
     },
     "metadata": {
      "needs_background": "light"
     },
     "output_type": "display_data"
    }
   ],
   "source": [
    "data.airline.value_counts().plot(kind=\"bar\", figsize=(10,10))"
   ]
  },
  {
   "cell_type": "code",
   "execution_count": 209,
   "metadata": {
    "ExecuteTime": {
     "end_time": "2023-07-15T10:16:48.934510Z",
     "start_time": "2023-07-15T10:16:48.696823Z"
    }
   },
   "outputs": [
    {
     "data": {
      "text/plain": [
       "<AxesSubplot:>"
      ]
     },
     "execution_count": 209,
     "metadata": {},
     "output_type": "execute_result"
    },
    {
     "data": {
      "image/png": "[encoded data removed]",
      "text/plain": [
       "<Figure size 720x720 with 1 Axes>"
      ]
     },
     "metadata": {
      "needs_background": "light"
     },
     "output_type": "display_data"
    }
   ],
   "source": [
    "data.airline_sentiment.value_counts(normalize=True).plot(kind=\"bar\", figsize=(10,10))"
   ]
  },
  {
   "cell_type": "code",
   "execution_count": null,
   "metadata": {},
   "outputs": [],
   "source": [
    "#plus de 60% des tweets sont negatifs, 17% sont positifs"
   ]
  },
  {
   "cell_type": "code",
   "execution_count": 319,
   "metadata": {
    "ExecuteTime": {
     "end_time": "2023-07-15T12:46:57.722435Z",
     "start_time": "2023-07-15T12:46:57.707242Z"
    }
   },
   "outputs": [],
   "source": [
    "#objectif: faire un modele ia qui permettra de savoir si un TEXT(text) est negataif, positif ou neutre (air_sentiment)\n",
    "X=data[\"text\"] #variables explicatives\n",
    "y=data[\"airline_sentiment\"]  #variable à expliquer"
   ]
  },
  {
   "cell_type": "code",
   "execution_count": 320,
   "metadata": {
    "ExecuteTime": {
     "end_time": "2023-07-15T12:46:58.422522Z",
     "start_time": "2023-07-15T12:46:58.402522Z"
    }
   },
   "outputs": [
    {
     "data": {
      "text/plain": [
       "0                      @VirginAmerica What @dhepburn said.\n",
       "1        @VirginAmerica plus you've added commercials t...\n",
       "2        @VirginAmerica I didn't today... Must mean I n...\n",
       "3        @VirginAmerica it's really aggressive to blast...\n",
       "4        @VirginAmerica and it's a really big bad thing...\n",
       "                               ...                        \n",
       "14635    @AmericanAir thank you we got on a different f...\n",
       "14636    @AmericanAir leaving over 20 minutes Late Flig...\n",
       "14637    @AmericanAir Please bring American Airlines to...\n",
       "14638    @AmericanAir you have my money, you change my ...\n",
       "14639    @AmericanAir we have 8 ppl so we need 2 know h...\n",
       "Name: text, Length: 14640, dtype: object"
      ]
     },
     "execution_count": 320,
     "metadata": {},
     "output_type": "execute_result"
    }
   ],
   "source": [
    "X"
   ]
  },
  {
   "cell_type": "code",
   "execution_count": 321,
   "metadata": {
    "ExecuteTime": {
     "end_time": "2023-07-15T12:46:59.229728Z",
     "start_time": "2023-07-15T12:46:59.205705Z"
    }
   },
   "outputs": [
    {
     "data": {
      "text/plain": [
       "0         neutral\n",
       "1        positive\n",
       "2         neutral\n",
       "3        negative\n",
       "4        negative\n",
       "           ...   \n",
       "14635    positive\n",
       "14636    negative\n",
       "14637     neutral\n",
       "14638    negative\n",
       "14639     neutral\n",
       "Name: airline_sentiment, Length: 14640, dtype: object"
      ]
     },
     "execution_count": 321,
     "metadata": {},
     "output_type": "execute_result"
    }
   ],
   "source": [
    "y"
   ]
  },
  {
   "cell_type": "code",
   "execution_count": 322,
   "metadata": {
    "ExecuteTime": {
     "end_time": "2023-07-15T12:47:00.026548Z",
     "start_time": "2023-07-15T12:47:00.002218Z"
    }
   },
   "outputs": [],
   "source": [
    "#QUESTION DE COURS: donnez moi la represtation vectorielle des tweets avec du tfidf"
   ]
  },
  {
   "cell_type": "code",
   "execution_count": 327,
   "metadata": {
    "ExecuteTime": {
     "end_time": "2023-07-15T13:06:15.726437Z",
     "start_time": "2023-07-15T13:06:15.181532Z"
    }
   },
   "outputs": [
    {
     "data": {
      "text/html": [
       "<div>\n",
       "<style scoped>\n",
       "    .dataframe tbody tr th:only-of-type {\n",
       "        vertical-align: middle;\n",
       "    }\n",
       "\n",
       "    .dataframe tbody tr th {\n",
       "        vertical-align: top;\n",
       "    }\n",
       "\n",
       "    .dataframe thead th {\n",
       "        text-align: right;\n",
       "    }\n",
       "</style>\n",
       "<table border=\"1\" class=\"dataframe\">\n",
       "  <thead>\n",
       "    <tr style=\"text-align: right;\">\n",
       "      <th></th>\n",
       "      <th>000</th>\n",
       "      <th>10</th>\n",
       "      <th>100</th>\n",
       "      <th>11</th>\n",
       "      <th>12</th>\n",
       "      <th>14</th>\n",
       "      <th>15</th>\n",
       "      <th>16</th>\n",
       "      <th>17</th>\n",
       "      <th>18</th>\n",
       "      <th>...</th>\n",
       "      <th>wrong</th>\n",
       "      <th>wtf</th>\n",
       "      <th>yall</th>\n",
       "      <th>yeah</th>\n",
       "      <th>year</th>\n",
       "      <th>years</th>\n",
       "      <th>yes</th>\n",
       "      <th>yesterday</th>\n",
       "      <th>yr</th>\n",
       "      <th>zero</th>\n",
       "    </tr>\n",
       "  </thead>\n",
       "  <tbody>\n",
       "    <tr>\n",
       "      <th>phrase1</th>\n",
       "      <td>0.0</td>\n",
       "      <td>0.0</td>\n",
       "      <td>0.0</td>\n",
       "      <td>0.0</td>\n",
       "      <td>0.0</td>\n",
       "      <td>0.0</td>\n",
       "      <td>0.000000</td>\n",
       "      <td>0.0</td>\n",
       "      <td>0.0</td>\n",
       "      <td>0.0</td>\n",
       "      <td>...</td>\n",
       "      <td>0.0</td>\n",
       "      <td>0.0</td>\n",
       "      <td>0.0</td>\n",
       "      <td>0.0</td>\n",
       "      <td>0.0</td>\n",
       "      <td>0.0</td>\n",
       "      <td>0.0</td>\n",
       "      <td>0.0</td>\n",
       "      <td>0.0</td>\n",
       "      <td>0.0</td>\n",
       "    </tr>\n",
       "    <tr>\n",
       "      <th>phrase2</th>\n",
       "      <td>0.0</td>\n",
       "      <td>0.0</td>\n",
       "      <td>0.0</td>\n",
       "      <td>0.0</td>\n",
       "      <td>0.0</td>\n",
       "      <td>0.0</td>\n",
       "      <td>0.000000</td>\n",
       "      <td>0.0</td>\n",
       "      <td>0.0</td>\n",
       "      <td>0.0</td>\n",
       "      <td>...</td>\n",
       "      <td>0.0</td>\n",
       "      <td>0.0</td>\n",
       "      <td>0.0</td>\n",
       "      <td>0.0</td>\n",
       "      <td>0.0</td>\n",
       "      <td>0.0</td>\n",
       "      <td>0.0</td>\n",
       "      <td>0.0</td>\n",
       "      <td>0.0</td>\n",
       "      <td>0.0</td>\n",
       "    </tr>\n",
       "    <tr>\n",
       "      <th>phrase3</th>\n",
       "      <td>0.0</td>\n",
       "      <td>0.0</td>\n",
       "      <td>0.0</td>\n",
       "      <td>0.0</td>\n",
       "      <td>0.0</td>\n",
       "      <td>0.0</td>\n",
       "      <td>0.000000</td>\n",
       "      <td>0.0</td>\n",
       "      <td>0.0</td>\n",
       "      <td>0.0</td>\n",
       "      <td>...</td>\n",
       "      <td>0.0</td>\n",
       "      <td>0.0</td>\n",
       "      <td>0.0</td>\n",
       "      <td>0.0</td>\n",
       "      <td>0.0</td>\n",
       "      <td>0.0</td>\n",
       "      <td>0.0</td>\n",
       "      <td>0.0</td>\n",
       "      <td>0.0</td>\n",
       "      <td>0.0</td>\n",
       "    </tr>\n",
       "    <tr>\n",
       "      <th>phrase4</th>\n",
       "      <td>0.0</td>\n",
       "      <td>0.0</td>\n",
       "      <td>0.0</td>\n",
       "      <td>0.0</td>\n",
       "      <td>0.0</td>\n",
       "      <td>0.0</td>\n",
       "      <td>0.000000</td>\n",
       "      <td>0.0</td>\n",
       "      <td>0.0</td>\n",
       "      <td>0.0</td>\n",
       "      <td>...</td>\n",
       "      <td>0.0</td>\n",
       "      <td>0.0</td>\n",
       "      <td>0.0</td>\n",
       "      <td>0.0</td>\n",
       "      <td>0.0</td>\n",
       "      <td>0.0</td>\n",
       "      <td>0.0</td>\n",
       "      <td>0.0</td>\n",
       "      <td>0.0</td>\n",
       "      <td>0.0</td>\n",
       "    </tr>\n",
       "    <tr>\n",
       "      <th>phrase5</th>\n",
       "      <td>0.0</td>\n",
       "      <td>0.0</td>\n",
       "      <td>0.0</td>\n",
       "      <td>0.0</td>\n",
       "      <td>0.0</td>\n",
       "      <td>0.0</td>\n",
       "      <td>0.000000</td>\n",
       "      <td>0.0</td>\n",
       "      <td>0.0</td>\n",
       "      <td>0.0</td>\n",
       "      <td>...</td>\n",
       "      <td>0.0</td>\n",
       "      <td>0.0</td>\n",
       "      <td>0.0</td>\n",
       "      <td>0.0</td>\n",
       "      <td>0.0</td>\n",
       "      <td>0.0</td>\n",
       "      <td>0.0</td>\n",
       "      <td>0.0</td>\n",
       "      <td>0.0</td>\n",
       "      <td>0.0</td>\n",
       "    </tr>\n",
       "    <tr>\n",
       "      <th>...</th>\n",
       "      <td>...</td>\n",
       "      <td>...</td>\n",
       "      <td>...</td>\n",
       "      <td>...</td>\n",
       "      <td>...</td>\n",
       "      <td>...</td>\n",
       "      <td>...</td>\n",
       "      <td>...</td>\n",
       "      <td>...</td>\n",
       "      <td>...</td>\n",
       "      <td>...</td>\n",
       "      <td>...</td>\n",
       "      <td>...</td>\n",
       "      <td>...</td>\n",
       "      <td>...</td>\n",
       "      <td>...</td>\n",
       "      <td>...</td>\n",
       "      <td>...</td>\n",
       "      <td>...</td>\n",
       "      <td>...</td>\n",
       "      <td>...</td>\n",
       "    </tr>\n",
       "    <tr>\n",
       "      <th>phrase14636</th>\n",
       "      <td>0.0</td>\n",
       "      <td>0.0</td>\n",
       "      <td>0.0</td>\n",
       "      <td>0.0</td>\n",
       "      <td>0.0</td>\n",
       "      <td>0.0</td>\n",
       "      <td>0.000000</td>\n",
       "      <td>0.0</td>\n",
       "      <td>0.0</td>\n",
       "      <td>0.0</td>\n",
       "      <td>...</td>\n",
       "      <td>0.0</td>\n",
       "      <td>0.0</td>\n",
       "      <td>0.0</td>\n",
       "      <td>0.0</td>\n",
       "      <td>0.0</td>\n",
       "      <td>0.0</td>\n",
       "      <td>0.0</td>\n",
       "      <td>0.0</td>\n",
       "      <td>0.0</td>\n",
       "      <td>0.0</td>\n",
       "    </tr>\n",
       "    <tr>\n",
       "      <th>phrase14637</th>\n",
       "      <td>0.0</td>\n",
       "      <td>0.0</td>\n",
       "      <td>0.0</td>\n",
       "      <td>0.0</td>\n",
       "      <td>0.0</td>\n",
       "      <td>0.0</td>\n",
       "      <td>0.275431</td>\n",
       "      <td>0.0</td>\n",
       "      <td>0.0</td>\n",
       "      <td>0.0</td>\n",
       "      <td>...</td>\n",
       "      <td>0.0</td>\n",
       "      <td>0.0</td>\n",
       "      <td>0.0</td>\n",
       "      <td>0.0</td>\n",
       "      <td>0.0</td>\n",
       "      <td>0.0</td>\n",
       "      <td>0.0</td>\n",
       "      <td>0.0</td>\n",
       "      <td>0.0</td>\n",
       "      <td>0.0</td>\n",
       "    </tr>\n",
       "    <tr>\n",
       "      <th>phrase14638</th>\n",
       "      <td>0.0</td>\n",
       "      <td>0.0</td>\n",
       "      <td>0.0</td>\n",
       "      <td>0.0</td>\n",
       "      <td>0.0</td>\n",
       "      <td>0.0</td>\n",
       "      <td>0.000000</td>\n",
       "      <td>0.0</td>\n",
       "      <td>0.0</td>\n",
       "      <td>0.0</td>\n",
       "      <td>...</td>\n",
       "      <td>0.0</td>\n",
       "      <td>0.0</td>\n",
       "      <td>0.0</td>\n",
       "      <td>0.0</td>\n",
       "      <td>0.0</td>\n",
       "      <td>0.0</td>\n",
       "      <td>0.0</td>\n",
       "      <td>0.0</td>\n",
       "      <td>0.0</td>\n",
       "      <td>0.0</td>\n",
       "    </tr>\n",
       "    <tr>\n",
       "      <th>phrase14639</th>\n",
       "      <td>0.0</td>\n",
       "      <td>0.0</td>\n",
       "      <td>0.0</td>\n",
       "      <td>0.0</td>\n",
       "      <td>0.0</td>\n",
       "      <td>0.0</td>\n",
       "      <td>0.000000</td>\n",
       "      <td>0.0</td>\n",
       "      <td>0.0</td>\n",
       "      <td>0.0</td>\n",
       "      <td>...</td>\n",
       "      <td>0.0</td>\n",
       "      <td>0.0</td>\n",
       "      <td>0.0</td>\n",
       "      <td>0.0</td>\n",
       "      <td>0.0</td>\n",
       "      <td>0.0</td>\n",
       "      <td>0.0</td>\n",
       "      <td>0.0</td>\n",
       "      <td>0.0</td>\n",
       "      <td>0.0</td>\n",
       "    </tr>\n",
       "    <tr>\n",
       "      <th>phrase14640</th>\n",
       "      <td>0.0</td>\n",
       "      <td>0.0</td>\n",
       "      <td>0.0</td>\n",
       "      <td>0.0</td>\n",
       "      <td>0.0</td>\n",
       "      <td>0.0</td>\n",
       "      <td>0.000000</td>\n",
       "      <td>0.0</td>\n",
       "      <td>0.0</td>\n",
       "      <td>0.0</td>\n",
       "      <td>...</td>\n",
       "      <td>0.0</td>\n",
       "      <td>0.0</td>\n",
       "      <td>0.0</td>\n",
       "      <td>0.0</td>\n",
       "      <td>0.0</td>\n",
       "      <td>0.0</td>\n",
       "      <td>0.0</td>\n",
       "      <td>0.0</td>\n",
       "      <td>0.0</td>\n",
       "      <td>0.0</td>\n",
       "    </tr>\n",
       "  </tbody>\n",
       "</table>\n",
       "<p>14640 rows × 1000 columns</p>\n",
       "</div>"
      ],
      "text/plain": [
       "             000   10  100   11   12   14        15   16   17   18  ...  \\\n",
       "phrase1      0.0  0.0  0.0  0.0  0.0  0.0  0.000000  0.0  0.0  0.0  ...   \n",
       "phrase2      0.0  0.0  0.0  0.0  0.0  0.0  0.000000  0.0  0.0  0.0  ...   \n",
       "phrase3      0.0  0.0  0.0  0.0  0.0  0.0  0.000000  0.0  0.0  0.0  ...   \n",
       "phrase4      0.0  0.0  0.0  0.0  0.0  0.0  0.000000  0.0  0.0  0.0  ...   \n",
       "phrase5      0.0  0.0  0.0  0.0  0.0  0.0  0.000000  0.0  0.0  0.0  ...   \n",
       "...          ...  ...  ...  ...  ...  ...       ...  ...  ...  ...  ...   \n",
       "phrase14636  0.0  0.0  0.0  0.0  0.0  0.0  0.000000  0.0  0.0  0.0  ...   \n",
       "phrase14637  0.0  0.0  0.0  0.0  0.0  0.0  0.275431  0.0  0.0  0.0  ...   \n",
       "phrase14638  0.0  0.0  0.0  0.0  0.0  0.0  0.000000  0.0  0.0  0.0  ...   \n",
       "phrase14639  0.0  0.0  0.0  0.0  0.0  0.0  0.000000  0.0  0.0  0.0  ...   \n",
       "phrase14640  0.0  0.0  0.0  0.0  0.0  0.0  0.000000  0.0  0.0  0.0  ...   \n",
       "\n",
       "             wrong  wtf  yall  yeah  year  years  yes  yesterday   yr  zero  \n",
       "phrase1        0.0  0.0   0.0   0.0   0.0    0.0  0.0        0.0  0.0   0.0  \n",
       "phrase2        0.0  0.0   0.0   0.0   0.0    0.0  0.0        0.0  0.0   0.0  \n",
       "phrase3        0.0  0.0   0.0   0.0   0.0    0.0  0.0        0.0  0.0   0.0  \n",
       "phrase4        0.0  0.0   0.0   0.0   0.0    0.0  0.0        0.0  0.0   0.0  \n",
       "phrase5        0.0  0.0   0.0   0.0   0.0    0.0  0.0        0.0  0.0   0.0  \n",
       "...            ...  ...   ...   ...   ...    ...  ...        ...  ...   ...  \n",
       "phrase14636    0.0  0.0   0.0   0.0   0.0    0.0  0.0        0.0  0.0   0.0  \n",
       "phrase14637    0.0  0.0   0.0   0.0   0.0    0.0  0.0        0.0  0.0   0.0  \n",
       "phrase14638    0.0  0.0   0.0   0.0   0.0    0.0  0.0        0.0  0.0   0.0  \n",
       "phrase14639    0.0  0.0   0.0   0.0   0.0    0.0  0.0        0.0  0.0   0.0  \n",
       "phrase14640    0.0  0.0   0.0   0.0   0.0    0.0  0.0        0.0  0.0   0.0  \n",
       "\n",
       "[14640 rows x 1000 columns]"
      ]
     },
     "execution_count": 327,
     "metadata": {},
     "output_type": "execute_result"
    }
   ],
   "source": [
    "from sklearn.feature_extraction.text import TfidfVectorizer #API\n",
    "vectorizer = TfidfVectorizer(stop_words='english',max_features=1000)  #on prends les 1000 mots les plus interessants\n",
    "\n",
    "X=data[\"text\"] #variables explicatives\n",
    "\n",
    "matrice=vectorizer.fit_transform(X.to_list()).toarray()\n",
    "vocabulaire=vectorizer.get_feature_names_out()\n",
    "X=pd.DataFrame(matrice, columns=vocabulaire)\n",
    "X.index=['phrase'+str(i+1) for i in range(len(X))]\n",
    "X"
   ]
  },
  {
   "cell_type": "markdown",
   "metadata": {
    "id": "tZ5FyOWoIJek"
   },
   "source": [
    "## Artificial Neural Network \n"
   ]
  },
  {
   "cell_type": "code",
   "execution_count": 328,
   "metadata": {
    "ExecuteTime": {
     "end_time": "2023-07-15T13:06:35.186489Z",
     "start_time": "2023-07-15T13:06:35.181459Z"
    },
    "id": "NLl05mYUIJek"
   },
   "outputs": [],
   "source": [
    "from keras.models import Sequential\n",
    "from keras.layers import Dense, BatchNormalization\n",
    "from tensorflow.keras.layers import Dropout\n"
   ]
  },
  {
   "cell_type": "markdown",
   "metadata": {
    "id": "6Rqi5QlzV7GS"
   },
   "source": [
    "## SPLIT mes donnees en entrainement et test"
   ]
  },
  {
   "cell_type": "code",
   "execution_count": 329,
   "metadata": {
    "ExecuteTime": {
     "end_time": "2023-07-15T13:06:35.718072Z",
     "start_time": "2023-07-15T13:06:35.677753Z"
    }
   },
   "outputs": [],
   "source": [
    "#tranformons Y en 1 si le message est negatif sinon 0 (neutre ou positf)\n",
    "y = y.apply(lambda x: 1 if x ==\"negative\" else 0)  "
   ]
  },
  {
   "cell_type": "code",
   "execution_count": 330,
   "metadata": {
    "ExecuteTime": {
     "end_time": "2023-07-15T13:06:36.461262Z",
     "start_time": "2023-07-15T13:06:36.291742Z"
    }
   },
   "outputs": [
    {
     "data": {
      "text/plain": [
       "<AxesSubplot:ylabel='airline_sentiment'>"
      ]
     },
     "execution_count": 330,
     "metadata": {},
     "output_type": "execute_result"
    },
    {
     "data": {
      "image/png": "[encoded data removed]",
      "text/plain": [
       "<Figure size 432x288 with 1 Axes>"
      ]
     },
     "metadata": {},
     "output_type": "display_data"
    }
   ],
   "source": [
    "y.value_counts().plot(kind=\"pie\")"
   ]
  },
  {
   "cell_type": "code",
   "execution_count": 331,
   "metadata": {
    "ExecuteTime": {
     "end_time": "2023-07-15T13:06:37.009233Z",
     "start_time": "2023-07-15T13:06:36.887976Z"
    },
    "id": "o14cruovV7GT"
   },
   "outputs": [],
   "source": [
    "import sklearn\n",
    "from sklearn.model_selection import train_test_split  \n",
    "X_train, X_test, y_train, y_test = train_test_split(X, y, test_size=0.10)\n",
    "#On prend 90% des données pour entrainer le modele et 10% sont reservés pour le test"
   ]
  },
  {
   "cell_type": "code",
   "execution_count": 332,
   "metadata": {
    "ExecuteTime": {
     "end_time": "2023-07-15T13:06:37.926846Z",
     "start_time": "2023-07-15T13:06:37.903488Z"
    },
    "colab": {
     "base_uri": "https://localhost:8080/"
    },
    "id": "0cZvmcRAXddB",
    "outputId": "61f1cd66-934a-4a06-fb7c-089c7d73202c"
   },
   "outputs": [
    {
     "data": {
      "text/plain": [
       "1    0.625379\n",
       "0    0.374621\n",
       "Name: airline_sentiment, dtype: float64"
      ]
     },
     "execution_count": 332,
     "metadata": {},
     "output_type": "execute_result"
    }
   ],
   "source": [
    "y_train.value_counts(normalize=True)"
   ]
  },
  {
   "cell_type": "code",
   "execution_count": 333,
   "metadata": {
    "ExecuteTime": {
     "end_time": "2023-07-15T13:06:38.586247Z",
     "start_time": "2023-07-15T13:06:38.562308Z"
    },
    "colab": {
     "base_uri": "https://localhost:8080/"
    },
    "id": "2mI6yzh1XpJE",
    "outputId": "70fdfd51-fa31-45d7-e070-60d317470690"
   },
   "outputs": [
    {
     "data": {
      "text/plain": [
       "1    0.64071\n",
       "0    0.35929\n",
       "Name: airline_sentiment, dtype: float64"
      ]
     },
     "execution_count": 333,
     "metadata": {},
     "output_type": "execute_result"
    }
   ],
   "source": [
    "y_test.value_counts(normalize=True)"
   ]
  },
  {
   "cell_type": "code",
   "execution_count": 335,
   "metadata": {
    "ExecuteTime": {
     "end_time": "2023-07-15T13:08:30.689263Z",
     "start_time": "2023-07-15T13:08:30.366436Z"
    },
    "colab": {
     "base_uri": "https://localhost:8080/"
    },
    "id": "gxKOXxOm_v-B",
    "outputId": "3bfe03a7-6ab9-4f3a-be8c-beb93cd1484f"
   },
   "outputs": [],
   "source": [
    "import numpy as np   #des calculs\n",
    "from tensorflow import keras    #j importe tensorflow\n",
    "from tensorflow.keras import layers   #reseaux de neurones\n",
    "\n",
    "\n",
    "classifier = Sequential()\n",
    "\n",
    "classifier.add(Dense(activation='tanh', input_dim=1000,units=100+1)) #JE LIS LES DONNEES D ENTREE\n",
    "\n",
    "classifier.add(Dense(10, activation='tanh'))\n",
    "\n",
    "classifier.add(Dense(1, activation='sigmoid'))\n",
    "#Compiling the ANN\n",
    "classifier.compile(optimizer='adam', loss='binary_crossentropy', metrics=['accuracy'])\n"
   ]
  },
  {
   "cell_type": "code",
   "execution_count": 336,
   "metadata": {
    "ExecuteTime": {
     "end_time": "2023-07-15T13:08:34.550646Z",
     "start_time": "2023-07-15T13:08:34.517751Z"
    },
    "id": "kykxNK18_wCr"
   },
   "outputs": [],
   "source": [
    "#Compiling the ANN: on utilse une fonction de ADAM qui MINIMISE les erreurs\n",
    "model.compile(optimizer='adam', loss='binary_crossentropy', metrics=['accuracy'])\n",
    "#model.compile(loss=\"categorical_crossentropy\", optimizer=\"adam\", metrics=[\"accuracy\"])\n",
    "#loss calcule les erreurs\n",
    "#Adam optimise les erreurs\n",
    "#metrics=Accuracy, je luis dis que le score est la performance\n"
   ]
  },
  {
   "cell_type": "code",
   "execution_count": 337,
   "metadata": {
    "ExecuteTime": {
     "end_time": "2023-07-15T13:09:25.461627Z",
     "start_time": "2023-07-15T13:08:43.847767Z"
    },
    "colab": {
     "base_uri": "https://localhost:8080/"
    },
    "id": "64GbE6zv_wGL",
    "outputId": "8ceca513-0a37-4c7b-a8cc-2d305d676f8e"
   },
   "outputs": [
    {
     "name": "stdout",
     "output_type": "stream",
     "text": [
      "Epoch 1/10\n",
      "593/593 [==============================] - 6s 8ms/step - loss: 0.4626 - accuracy: 0.6284 - val_loss: 0.3910 - val_accuracy: 0.5979\n",
      "Epoch 2/10\n",
      "593/593 [==============================] - 3s 6ms/step - loss: 0.3641 - accuracy: 0.6284 - val_loss: 0.3870 - val_accuracy: 0.5979\n",
      "Epoch 3/10\n",
      "593/593 [==============================] - 3s 6ms/step - loss: 0.3439 - accuracy: 0.6284 - val_loss: 0.3932 - val_accuracy: 0.5979\n",
      "Epoch 4/10\n",
      "593/593 [==============================] - 4s 6ms/step - loss: 0.3268 - accuracy: 0.6284 - val_loss: 0.3962 - val_accuracy: 0.5979\n",
      "Epoch 5/10\n",
      "593/593 [==============================] - 4s 6ms/step - loss: 0.3070 - accuracy: 0.6284 - val_loss: 0.4032 - val_accuracy: 0.5979\n",
      "Epoch 6/10\n",
      "593/593 [==============================] - 3s 5ms/step - loss: 0.2856 - accuracy: 0.6284 - val_loss: 0.4119 - val_accuracy: 0.5979\n",
      "Epoch 7/10\n",
      "593/593 [==============================] - 4s 7ms/step - loss: 0.2624 - accuracy: 0.6284 - val_loss: 0.4250 - val_accuracy: 0.5979\n",
      "Epoch 8/10\n",
      "593/593 [==============================] - 4s 7ms/step - loss: 0.2334 - accuracy: 0.6284 - val_loss: 0.4416 - val_accuracy: 0.5979\n",
      "Epoch 9/10\n",
      "593/593 [==============================] - 4s 7ms/step - loss: 0.2038 - accuracy: 0.6284 - val_loss: 0.4554 - val_accuracy: 0.5979\n",
      "Epoch 10/10\n",
      "593/593 [==============================] - 4s 7ms/step - loss: 0.1718 - accuracy: 0.6284 - val_loss: 0.4718 - val_accuracy: 0.5979\n",
      "train Model Accuracy =  0.6253795027732849\n",
      "test Model Accuracy =  0.6407103538513184\n"
     ]
    }
   ],
   "source": [
    "#batch_size=20 ici on charge les informations par 20 (c'est à dire on prends par 20personnes)\n",
    "#epoch=100, il peut essayer 100 fois\n",
    "#verbose=1, on affiche les resultats au fur et à mesure!\n",
    "#validation_split=0.1, je reserve 10% de mes données pour la validation\n",
    "#Fitting the ANN\n",
    "model.fit(X_train,y_train, validation_split=0.10,batch_size=20, epochs=10, verbose=1)\n",
    "#checking the performance of the model\n",
    "score = model.evaluate(X_train,y_train, verbose=0)\n",
    "print('train Model Accuracy = ',score[1])\n",
    "score = model.evaluate(X_test, y_test, verbose=0)\n",
    "print('test Model Accuracy = ',score[1])"
   ]
  },
  {
   "cell_type": "code",
   "execution_count": 30,
   "id": "9cd570c4",
   "metadata": {
    "ExecuteTime": {
     "end_time": "2023-07-15T07:08:30.711954Z",
     "start_time": "2023-07-15T07:08:30.700427Z"
    }
   },
   "outputs": [],
   "source": [
    "#https://towardsdatascience.com/visualization-of-word-embedding-vectors-using-gensim-and-pca-8f592a5d3354"
   ]
  },
  {
   "cell_type": "code",
   "execution_count": null,
   "metadata": {},
   "outputs": [],
   "source": []
  }
 ],
 "metadata": {
  "celltoolbar": "Format de la Cellule Texte Brut",
  "kernelspec": {
   "display_name": "Python 3 (ipykernel)",
   "language": "python",
   "name": "python3"
  },
  "language_info": {
   "codemirror_mode": {
    "name": "ipython",
    "version": 3
   },
   "file_extension": ".py",
   "mimetype": "text/x-python",
   "name": "python",
   "nbconvert_exporter": "python",
   "pygments_lexer": "ipython3",
   "version": "3.9.12"
  },
  "toc": {
   "base_numbering": 1,
   "nav_menu": {},
   "number_sections": true,
   "sideBar": true,
   "skip_h1_title": false,
   "title_cell": "Table of Contents",
   "title_sidebar": "Contents",
   "toc_cell": false,
   "toc_position": {
    "height": "calc(100% - 180px)",
    "left": "10px",
    "top": "150px",
    "width": "232px"
   },
   "toc_section_display": true,
   "toc_window_display": true
  }
 },
 "nbformat": 4,
 "nbformat_minor": 4
}
