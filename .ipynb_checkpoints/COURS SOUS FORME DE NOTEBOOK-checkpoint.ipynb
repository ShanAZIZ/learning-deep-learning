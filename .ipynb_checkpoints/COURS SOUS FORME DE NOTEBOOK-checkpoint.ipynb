{
 "cells": [
  {
   "cell_type": "markdown",
   "metadata": {
    "ExecuteTime": {
     "end_time": "2023-04-20T06:22:53.919396Z",
     "start_time": "2023-04-20T06:22:53.903391Z"
    }
   },
   "source": [
    " <div style=\"display: flex; background-color: RGB(255,114,0);\" >\n",
    "<h1 style=\"margin: auto; padding: 30px; \">FRAMWORKS DEEP LEARNING\n",
    "</h1>\n",
    "</div>\n"
   ]
  },
  {
   "cell_type": "markdown",
   "metadata": {},
   "source": [
    "<div style=\"background-color: RGB(51,165,182);\" >\n",
    "<h1 style=\"margin: auto; padding: 20px; color:#fff; \">Seance 1: RAPPELS, ANALYSE, MANIPULATION, MACHINE LEARNING </h1>\n",
    "</div>"
   ]
  },
  {
   "cell_type": "code",
   "execution_count": 1,
   "metadata": {
    "ExecuteTime": {
     "end_time": "2023-05-25T19:37:48.531185Z",
     "start_time": "2023-05-25T19:37:48.493314Z"
    }
   },
   "outputs": [
    {
     "data": {
      "text/html": [
       "<div id=\"my_id_menu_nb\">run previous cell, wait for 2 seconds</div>\n",
       "<script>\n",
       "function repeat_indent_string(n){\n",
       "    var a = \"\" ;\n",
       "    for ( ; n > 0 ; --n)\n",
       "        a += \"    \";\n",
       "    return a;\n",
       "}\n",
       "// look up into all sections and builds an automated menu //\n",
       "var update_menu_string = function(begin, lfirst, llast, sformat, send, keep_item, begin_format, end_format) {\n",
       "    var anchors = document.getElementsByClassName(\"section\");\n",
       "    if (anchors.length == 0) {\n",
       "        anchors = document.getElementsByClassName(\"text_cell_render rendered_html\");\n",
       "    }\n",
       "    var i,t;\n",
       "    var text_menu = begin;\n",
       "    var text_memo = \"<pre>\\nlength:\" + anchors.length + \"\\n\";\n",
       "    var ind = \"\";\n",
       "    var memo_level = 1;\n",
       "    var href;\n",
       "    var tags = [];\n",
       "    var main_item = 0;\n",
       "    var format_open = 0;\n",
       "    for (i = 0; i <= llast; i++)\n",
       "        tags.push(\"h\" + i);\n",
       "\n",
       "    for (i = 0; i < anchors.length; i++) {\n",
       "        text_memo += \"**\" + anchors[i].id + \"--\\n\";\n",
       "\n",
       "        var child = null;\n",
       "        for(t = 0; t < tags.length; t++) {\n",
       "            var r = anchors[i].getElementsByTagName(tags[t]);\n",
       "            if (r.length > 0) {\n",
       "child = r[0];\n",
       "break;\n",
       "            }\n",
       "        }\n",
       "        if (child == null) {\n",
       "            text_memo += \"null\\n\";\n",
       "            continue;\n",
       "        }\n",
       "        if (anchors[i].hasAttribute(\"id\")) {\n",
       "            // when converted in RST\n",
       "            href = anchors[i].id;\n",
       "            text_memo += \"#1-\" + href;\n",
       "            // passer à child suivant (le chercher)\n",
       "        }\n",
       "        else if (child.hasAttribute(\"id\")) {\n",
       "            // in a notebook\n",
       "            href = child.id;\n",
       "            text_memo += \"#2-\" + href;\n",
       "        }\n",
       "        else {\n",
       "            text_memo += \"#3-\" + \"*\" + \"\\n\";\n",
       "            continue;\n",
       "        }\n",
       "        var title = child.textContent;\n",
       "        var level = parseInt(child.tagName.substring(1,2));\n",
       "\n",
       "        text_memo += \"--\" + level + \"?\" + lfirst + \"--\" + title + \"\\n\";\n",
       "\n",
       "        if ((level < lfirst) || (level > llast)) {\n",
       "            continue ;\n",
       "        }\n",
       "        if (title.endsWith('¶')) {\n",
       "            title = title.substring(0,title.length-1).replace(\"<\", \"&lt;\")\n",
       "         .replace(\">\", \"&gt;\").replace(\"&\", \"&amp;\");\n",
       "        }\n",
       "        if (title.length == 0) {\n",
       "            continue;\n",
       "        }\n",
       "\n",
       "        while (level < memo_level) {\n",
       "            text_menu += end_format + \"</ul>\\n\";\n",
       "            format_open -= 1;\n",
       "            memo_level -= 1;\n",
       "        }\n",
       "        if (level == lfirst) {\n",
       "            main_item += 1;\n",
       "        }\n",
       "        if (keep_item != -1 && main_item != keep_item + 1) {\n",
       "            // alert(main_item + \" - \" + level + \" - \" + keep_item);\n",
       "            continue;\n",
       "        }\n",
       "        while (level > memo_level) {\n",
       "            text_menu += \"<ul>\\n\";\n",
       "            memo_level += 1;\n",
       "        }\n",
       "        text_menu += repeat_indent_string(level-2);\n",
       "        text_menu += begin_format + sformat.replace(\"__HREF__\", href).replace(\"__TITLE__\", title);\n",
       "        format_open += 1;\n",
       "    }\n",
       "    while (1 < memo_level) {\n",
       "        text_menu += end_format + \"</ul>\\n\";\n",
       "        memo_level -= 1;\n",
       "        format_open -= 1;\n",
       "    }\n",
       "    text_menu += send;\n",
       "    //text_menu += \"\\n\" + text_memo;\n",
       "\n",
       "    while (format_open > 0) {\n",
       "        text_menu += end_format;\n",
       "        format_open -= 1;\n",
       "    }\n",
       "    return text_menu;\n",
       "};\n",
       "var update_menu = function() {\n",
       "    var sbegin = \"\";\n",
       "    var sformat = '<a href=\"#__HREF__\">__TITLE__</a>';\n",
       "    var send = \"\";\n",
       "    var begin_format = '<li>';\n",
       "    var end_format = '</li>';\n",
       "    var keep_item = -1;\n",
       "    var text_menu = update_menu_string(sbegin, 2, 4, sformat, send, keep_item,\n",
       "       begin_format, end_format);\n",
       "    var menu = document.getElementById(\"my_id_menu_nb\");\n",
       "    menu.innerHTML=text_menu;\n",
       "};\n",
       "window.setTimeout(update_menu,2000);\n",
       "            </script>"
      ],
      "text/plain": [
       "<IPython.core.display.HTML object>"
      ]
     },
     "execution_count": 1,
     "metadata": {},
     "output_type": "execute_result"
    }
   ],
   "source": [
    "from jyquickhelper import add_notebook_menu   #pip install jyquickhelper\n",
    "add_notebook_menu()"
   ]
  },
  {
   "cell_type": "markdown",
   "metadata": {},
   "source": [
    "## Objectifs"
   ]
  },
  {
   "cell_type": "raw",
   "metadata": {},
   "source": [
    "Charger ce dataset.\n",
    "Utiliser les méthodes usuelles de pandas pour obtenir les informations de base sur ce dataset (nombre d'observations et de variables, types des variables, valeurs manquantes, etc.).\n",
    "Remplacer la variable 'num' par une variable binaire nommée 'disease' indiquant la survenue ou non d'une maladie cardiaque.\n",
    "Procéder à une étude exploratoire de ce dataset : étude individuelle des différentes variables, puis étude conjointe avec la variable 'disease'.\n",
    "Séparer le dataset en un jeu d'entraînement/validation et un jeu de test. On utilisera la fonction train_test_split (Connexions vers un site externe.).\n",
    "Créer un pipeline (Connexions vers un site externe.) de transformation des variables quantitatives : imputation (Connexions vers un site externe.) puis normalisation (Connexions vers un site externe.).\n",
    "Créer un pipeline (Connexions vers un site externe.) de transformation des variables qualitatives : imputation (Connexions vers un site externe.) puis One Hot Encoding (Connexions vers un site externe.) ou Ordinal Encoding (Connexions vers un site externe.).\n",
    "Regrouper les pipelines précédents à l'aide de la fonction Column Transformer (Connexions vers un site externe.).\n",
    "Heart Disease (1) : Prétraitement des données\n",
    "On utilisera ici le dataset HeartDiseaseUCI.csv (source : UCI (Connexions vers un site externe.)).\n",
    "\n",
    "Voici la signification des différentes variables :\n",
    "\n",
    "âge : âge en années\n",
    "sexe : sexe (1 = masculin, 0 = féminin)\n",
    "cp : type de douleur thoracique (Valeur 1 : angine typique, Valeur 2 : angine atypique, Valeur 3 : douleur non angineuse, Valeur 4 : asymptomatique)\n",
    "trestbps : tension artérielle au repos (en mm Hg à l'admission à l'hôpital)\n",
    "chol : cholestérol sérique en mg/dl\n",
    "fbs : (glycémie à jeun > 120 mg/dl) (1 = vrai ; 0 = faux)\n",
    "restecg : résultats électrocardiographiques au repos (Valeur 0 : normal, Valeur 1 : présentant une anomalie de l'onde ST-T (inversions de l'onde T et/ou élévation ou dépression du segment ST > 0,05 mV), Valeur 2 : montrant une hypertrophie ventriculaire gauche probable ou certaine selon Estes Critères)\n",
    "thalach : fréquence cardiaque maximale atteinte\n",
    "exemple : angine de poitrine induite par l'effort (1 = oui, 0 = non)\n",
    "oldpeak = dépression ST induite par l'exercice par rapport au repos\n",
    "pente : la pente du segment ST d'exercice maximal (Valeur 1 : montante, Valeur 2 : plate, Valeur 3 : descendante)\n",
    "ca : nombre de gros vaisseaux (0-3) colorés par fluoroscopie\n",
    "thal : (Valeur 3 : normal, Valeur 6 = défaut fixe, Valeur 7 = défaut réversible)\n",
    "num : nombre de vaisseaux principaux (0-4) avec un rétrécissement de diamètre > 50 %\n",
    "\n",
    " "
   ]
  },
  {
   "cell_type": "markdown",
   "metadata": {},
   "source": [
    "## Chargement des librairies"
   ]
  },
  {
   "cell_type": "code",
   "execution_count": 2,
   "metadata": {
    "ExecuteTime": {
     "end_time": "2023-05-25T19:37:53.849373Z",
     "start_time": "2023-05-25T19:37:48.566720Z"
    }
   },
   "outputs": [],
   "source": [
    "import pandas as pd  #manipulation des donnees\n",
    "import numpy as np   #calcul mathematiques\n",
    "import seaborn as sns   #visualiser les données\n",
    "import matplotlib.pyplot as plt  #visualisation\n",
    "import scipy as scipy   # faire des statistques, probabilités et optimisation\n",
    "import warnings;warnings.filterwarnings(\"ignore\", category=Warning)  #gestion d'erreurs"
   ]
  },
  {
   "cell_type": "markdown",
   "metadata": {},
   "source": [
    "## Data Access"
   ]
  },
  {
   "cell_type": "markdown",
   "metadata": {},
   "source": [
    "### Rgpd\n"
   ]
  },
  {
   "cell_type": "markdown",
   "metadata": {},
   "source": [
    "Quels sont les grands principes des règles de protection des données personnelles ?\n",
    "Les 5 grands principes des règles de protection des données personnelles sont les suivants :\n",
    "\n",
    "Le principe de finalité : le responsable d'un fichier ne peut enregistrer et utiliser des informations sur des personnes physiques que dans un but bien précis, légal et légitime ;\n",
    "\n",
    "Le principe de proportionnalité et de pertinence : les informations enregistrées doivent être pertinentes et strictement nécessaires au regard de la finalité du fichier ;\n",
    "\n",
    "Le principe d'une durée de conservation limitée : il n'est pas possible de conserver des informations sur des personnes physiques dans un fichier pour une durée indéfinie. Une durée de conservation précise doit être fixée, en fonction du type d'information enregistrée et de la finalité du fichier ;\n",
    "\n",
    "Le principe de sécurité et de confidentialité : le responsable du fichier doit garantir la sécurité et la confidentialité des informations qu'il détient. Il doit en particulier veiller à ce que seules les personnes autorisées aient accès à ces informations ;\n",
    "\n",
    "Les droits des personnes "
   ]
  },
  {
   "cell_type": "code",
   "execution_count": 3,
   "metadata": {
    "ExecuteTime": {
     "end_time": "2023-05-25T19:37:53.880338Z",
     "start_time": "2023-05-25T19:37:53.849373Z"
    },
    "scrolled": true
   },
   "outputs": [],
   "source": [
    "fichier=\"HeartDiseaseUCI.csv\"\n",
    "data = pd.read_csv(fichier, index_col=0)"
   ]
  },
  {
   "cell_type": "code",
   "execution_count": null,
   "metadata": {},
   "outputs": [],
   "source": []
  },
  {
   "cell_type": "code",
   "execution_count": 4,
   "metadata": {
    "ExecuteTime": {
     "end_time": "2023-05-25T19:37:53.927132Z",
     "start_time": "2023-05-25T19:37:53.880338Z"
    }
   },
   "outputs": [
    {
     "data": {
      "text/html": [
       "<div>\n",
       "<style scoped>\n",
       "    .dataframe tbody tr th:only-of-type {\n",
       "        vertical-align: middle;\n",
       "    }\n",
       "\n",
       "    .dataframe tbody tr th {\n",
       "        vertical-align: top;\n",
       "    }\n",
       "\n",
       "    .dataframe thead th {\n",
       "        text-align: right;\n",
       "    }\n",
       "</style>\n",
       "<table border=\"1\" class=\"dataframe\">\n",
       "  <thead>\n",
       "    <tr style=\"text-align: right;\">\n",
       "      <th></th>\n",
       "      <th>age</th>\n",
       "      <th>sex</th>\n",
       "      <th>cp</th>\n",
       "      <th>trestbps</th>\n",
       "      <th>chol</th>\n",
       "      <th>fbs</th>\n",
       "      <th>restecg</th>\n",
       "      <th>thalach</th>\n",
       "      <th>exang</th>\n",
       "      <th>oldpeak</th>\n",
       "      <th>slope</th>\n",
       "      <th>ca</th>\n",
       "      <th>thal</th>\n",
       "      <th>num</th>\n",
       "    </tr>\n",
       "  </thead>\n",
       "  <tbody>\n",
       "    <tr>\n",
       "      <th>1</th>\n",
       "      <td>63</td>\n",
       "      <td>1</td>\n",
       "      <td>1</td>\n",
       "      <td>145</td>\n",
       "      <td>233</td>\n",
       "      <td>1</td>\n",
       "      <td>2</td>\n",
       "      <td>150</td>\n",
       "      <td>0</td>\n",
       "      <td>2.3</td>\n",
       "      <td>3</td>\n",
       "      <td>0.0</td>\n",
       "      <td>6.0</td>\n",
       "      <td>0</td>\n",
       "    </tr>\n",
       "    <tr>\n",
       "      <th>2</th>\n",
       "      <td>67</td>\n",
       "      <td>1</td>\n",
       "      <td>4</td>\n",
       "      <td>160</td>\n",
       "      <td>286</td>\n",
       "      <td>0</td>\n",
       "      <td>2</td>\n",
       "      <td>108</td>\n",
       "      <td>1</td>\n",
       "      <td>1.5</td>\n",
       "      <td>2</td>\n",
       "      <td>3.0</td>\n",
       "      <td>3.0</td>\n",
       "      <td>2</td>\n",
       "    </tr>\n",
       "    <tr>\n",
       "      <th>3</th>\n",
       "      <td>67</td>\n",
       "      <td>1</td>\n",
       "      <td>4</td>\n",
       "      <td>120</td>\n",
       "      <td>229</td>\n",
       "      <td>0</td>\n",
       "      <td>2</td>\n",
       "      <td>129</td>\n",
       "      <td>1</td>\n",
       "      <td>2.6</td>\n",
       "      <td>2</td>\n",
       "      <td>2.0</td>\n",
       "      <td>7.0</td>\n",
       "      <td>1</td>\n",
       "    </tr>\n",
       "    <tr>\n",
       "      <th>4</th>\n",
       "      <td>37</td>\n",
       "      <td>1</td>\n",
       "      <td>3</td>\n",
       "      <td>130</td>\n",
       "      <td>250</td>\n",
       "      <td>0</td>\n",
       "      <td>0</td>\n",
       "      <td>187</td>\n",
       "      <td>0</td>\n",
       "      <td>3.5</td>\n",
       "      <td>3</td>\n",
       "      <td>0.0</td>\n",
       "      <td>3.0</td>\n",
       "      <td>0</td>\n",
       "    </tr>\n",
       "    <tr>\n",
       "      <th>5</th>\n",
       "      <td>41</td>\n",
       "      <td>0</td>\n",
       "      <td>2</td>\n",
       "      <td>130</td>\n",
       "      <td>204</td>\n",
       "      <td>0</td>\n",
       "      <td>2</td>\n",
       "      <td>172</td>\n",
       "      <td>0</td>\n",
       "      <td>1.4</td>\n",
       "      <td>1</td>\n",
       "      <td>0.0</td>\n",
       "      <td>3.0</td>\n",
       "      <td>0</td>\n",
       "    </tr>\n",
       "  </tbody>\n",
       "</table>\n",
       "</div>"
      ],
      "text/plain": [
       "   age  sex  cp  trestbps  chol  fbs  restecg  thalach  exang  oldpeak  slope  \\\n",
       "1   63    1   1       145   233    1        2      150      0      2.3      3   \n",
       "2   67    1   4       160   286    0        2      108      1      1.5      2   \n",
       "3   67    1   4       120   229    0        2      129      1      2.6      2   \n",
       "4   37    1   3       130   250    0        0      187      0      3.5      3   \n",
       "5   41    0   2       130   204    0        2      172      0      1.4      1   \n",
       "\n",
       "    ca  thal  num  \n",
       "1  0.0   6.0    0  \n",
       "2  3.0   3.0    2  \n",
       "3  2.0   7.0    1  \n",
       "4  0.0   3.0    0  \n",
       "5  0.0   3.0    0  "
      ]
     },
     "execution_count": 4,
     "metadata": {},
     "output_type": "execute_result"
    }
   ],
   "source": [
    "data.head()  "
   ]
  },
  {
   "cell_type": "markdown",
   "metadata": {},
   "source": [
    "## Explorer la base de donnees"
   ]
  },
  {
   "cell_type": "markdown",
   "metadata": {},
   "source": [
    "### Analyse exploration: Analysez vos données sans effort avec Pandas-profiling\n"
   ]
  },
  {
   "cell_type": "code",
   "execution_count": 5,
   "metadata": {
    "ExecuteTime": {
     "end_time": "2023-05-25T19:37:53.950871Z",
     "start_time": "2023-05-25T19:37:53.931117Z"
    }
   },
   "outputs": [],
   "source": [
    "#pip install pandas_profiling"
   ]
  },
  {
   "cell_type": "code",
   "execution_count": null,
   "metadata": {
    "ExecuteTime": {
     "end_time": "2023-05-25T19:38:20.256683Z",
     "start_time": "2023-05-25T19:37:53.954869Z"
    }
   },
   "outputs": [
    {
     "data": {
      "application/vnd.jupyter.widget-view+json": {
       "model_id": "923c423085bd424ea02c1461ed9839a8",
       "version_major": 2,
       "version_minor": 0
      },
      "text/plain": [
       "Summarize dataset:   0%|          | 0/5 [00:00<?, ?it/s]"
      ]
     },
     "metadata": {},
     "output_type": "display_data"
    }
   ],
   "source": [
    "#https://github.com/pandas-profiling/pandas-profiling\n",
    "#https://www.datacorner.fr/pandas-profiling/\n",
    "from pandas_profiling import ProfileReport\n",
    "data.sample(100).profile_report().to_file(\"report_heart2004.html\")"
   ]
  },
  {
   "cell_type": "markdown",
   "metadata": {},
   "source": [
    "### Quantification de données non pertinentes"
   ]
  },
  {
   "cell_type": "code",
   "execution_count": null,
   "metadata": {
    "ExecuteTime": {
     "end_time": "2023-05-25T19:38:20.287195Z",
     "start_time": "2023-05-25T19:38:20.258179Z"
    }
   },
   "outputs": [],
   "source": [
    "data.head()"
   ]
  },
  {
   "cell_type": "markdown",
   "metadata": {},
   "source": [
    "### Quantification de données manquantes"
   ]
  },
  {
   "cell_type": "code",
   "execution_count": null,
   "metadata": {
    "ExecuteTime": {
     "end_time": "2023-05-25T19:38:20.318594Z",
     "start_time": "2023-05-25T19:38:20.293155Z"
    }
   },
   "outputs": [],
   "source": [
    "data.isna().sum()  #cependant il nous manque 4 infos sur la variable ca et 2 sur thal\n",
    "#Attention, faudra traiter ces donnnees manquantes, aucun modele d'ia ne prend en compte les nan "
   ]
  },
  {
   "cell_type": "code",
   "execution_count": null,
   "metadata": {
    "ExecuteTime": {
     "end_time": "2023-05-25T19:38:20.334539Z",
     "start_time": "2023-05-25T19:38:20.321585Z"
    }
   },
   "outputs": [],
   "source": [
    "data.isna().sum().sum()  #On a moins de 1% de donnees manquantes"
   ]
  },
  {
   "cell_type": "markdown",
   "metadata": {},
   "source": [
    "### Quantification de données dupliquées"
   ]
  },
  {
   "cell_type": "code",
   "execution_count": null,
   "metadata": {
    "ExecuteTime": {
     "end_time": "2023-05-25T19:38:20.350486Z",
     "start_time": "2023-05-25T19:38:20.336534Z"
    }
   },
   "outputs": [],
   "source": [
    "data.duplicated().sum() #aucune observation n 'est dupliquée"
   ]
  },
  {
   "cell_type": "markdown",
   "metadata": {},
   "source": [
    "### Quantification de données aberrantes"
   ]
  },
  {
   "cell_type": "code",
   "execution_count": null,
   "metadata": {
    "ExecuteTime": {
     "end_time": "2023-05-25T19:38:20.520786Z",
     "start_time": "2023-05-25T19:38:20.354473Z"
    }
   },
   "outputs": [],
   "source": [
    "data.chol.plot(kind=\"box\")    #min, Q1,mediane,Q3, max"
   ]
  },
  {
   "cell_type": "code",
   "execution_count": null,
   "metadata": {
    "ExecuteTime": {
     "end_time": "2023-05-25T19:38:20.720749Z",
     "start_time": "2023-05-25T19:38:20.522780Z"
    }
   },
   "outputs": [],
   "source": [
    "plt.figure(figsize = (15,5))\n",
    "\n",
    "data.num.value_counts().plot(kind=\"pie\", autopct='%1.2f%%', labels=[\"saine\",\"benine\",\"malade\",\"tres malade\",\"grave!\"])"
   ]
  },
  {
   "cell_type": "code",
   "execution_count": null,
   "metadata": {
    "ExecuteTime": {
     "end_time": "2023-05-25T19:38:20.752455Z",
     "start_time": "2023-05-25T19:38:20.720749Z"
    }
   },
   "outputs": [],
   "source": [
    "data.num.value_counts()"
   ]
  },
  {
   "cell_type": "code",
   "execution_count": null,
   "metadata": {
    "ExecuteTime": {
     "end_time": "2023-05-25T19:38:20.768399Z",
     "start_time": "2023-05-25T19:38:20.756410Z"
    }
   },
   "outputs": [],
   "source": [
    "data.num=data.num.apply(lambda x:1 if x>=1 else 0)"
   ]
  },
  {
   "cell_type": "code",
   "execution_count": null,
   "metadata": {
    "ExecuteTime": {
     "end_time": "2023-05-25T19:38:20.898924Z",
     "start_time": "2023-05-25T19:38:20.771363Z"
    }
   },
   "outputs": [],
   "source": [
    "data.num.value_counts().plot(kind=\"pie\", autopct='%1.2f%%', labels=[\"saine\",\"malade\"])"
   ]
  },
  {
   "cell_type": "code",
   "execution_count": null,
   "metadata": {
    "ExecuteTime": {
     "end_time": "2023-05-25T19:38:20.945576Z",
     "start_time": "2023-05-25T19:38:20.898924Z"
    }
   },
   "outputs": [],
   "source": [
    "data.rename(columns={\"num\":\"desease\"}, inplace=True)\n",
    "data.rename(columns={\"sex\":\"genre\"}, inplace=True)\n",
    "\n",
    "data.head()"
   ]
  },
  {
   "cell_type": "raw",
   "metadata": {
    "ExecuteTime": {
     "end_time": "2023-04-20T10:02:47.520148Z",
     "start_time": "2023-04-20T10:02:47.489484Z"
    }
   },
   "source": [
    "data.columns=[\"age\", \"genre\",\"type de douleur thoracique\", \"tension artérielle au repos\",]\n",
    "sexe : sexe (1 = masculin, 0 = féminin)\n",
    "cp : type de douleur thoracique (Valeur 1 : angine typique, Valeur 2 : angine atypique, Valeur 3 : douleur non angineuse, Valeur 4 : asymptomatique)\n",
    "trestbps : tension artérielle au repos (en mm Hg à l'admission à l'hôpital)\n",
    "chol : cholestérol sérique en mg/dl\n",
    "fbs : (glycémie à jeun > 120 mg/dl) (1 = vrai ; 0 = faux)\n",
    "restecg : résultats électrocardiographiques au repos (Valeur 0 : normal, Valeur 1 : présentant une anomalie de l'onde ST-T (inversions de l'onde T et/ou élévation ou dépression du segment ST > 0,05 mV), Valeur 2 : montrant une hypertrophie ventriculaire gauche probable ou certaine selon Estes Critères)\n",
    "thalach : fréquence cardiaque maximale atteinte\n",
    "exemple : angine de poitrine induite par l'effort (1 = oui, 0 = non)\n",
    "oldpeak = dépression ST induite par l'exercice par rapport au repos\n",
    "pente : la pente du segment ST d'exercice maximal (Valeur 1 : montante, Valeur 2 : plate, Valeur 3 : descendante)\n",
    "ca : nombre de gros vaisseaux (0-3) colorés par fluoroscopie\n",
    "thal : (Valeur 3 : normal, Valeur 6 = défaut fixe, Valeur 7 = défaut réversible)\n",
    "num : n"
   ]
  },
  {
   "cell_type": "code",
   "execution_count": null,
   "metadata": {
    "ExecuteTime": {
     "end_time": "2023-05-25T19:38:23.679003Z",
     "start_time": "2023-05-25T19:38:20.948537Z"
    }
   },
   "outputs": [],
   "source": [
    "data.plot(kind='density', \n",
    "        subplots=True, layout=(4,5), sharex=False, sharey=False, figsize=(18,18))\n",
    "plt.show()"
   ]
  },
  {
   "cell_type": "markdown",
   "metadata": {},
   "source": [
    "### Correlation entre variables"
   ]
  },
  {
   "cell_type": "code",
   "execution_count": null,
   "metadata": {
    "ExecuteTime": {
     "end_time": "2023-05-25T19:38:25.323462Z",
     "start_time": "2023-05-25T19:38:23.681972Z"
    }
   },
   "outputs": [],
   "source": [
    "f, ax = plt.subplots(figsize=(20, 10))    #1 correspond à 2.54cm\n",
    "\n",
    "sns.heatmap(data.corr(),annot=True,fmt=\"1.3f\",cmap='coolwarm')"
   ]
  },
  {
   "cell_type": "markdown",
   "metadata": {},
   "source": [
    "On voit que les deux variables les plus correlées (lineairement) dans ce dataset sont oldpeak et ca.\n",
    "Cela veut dire que la connaissance de la dépression ST induite par l'exercice par rapport au repos est tres importante pour pouvoir predire le nombre de gros vaisseaux (0-3) colorés par fluoroscopie"
   ]
  },
  {
   "cell_type": "code",
   "execution_count": null,
   "metadata": {
    "ExecuteTime": {
     "end_time": "2023-05-25T19:38:25.492200Z",
     "start_time": "2023-05-25T19:38:25.323462Z"
    }
   },
   "outputs": [],
   "source": [
    "\n",
    "sns.boxplot(y='age',x=\"desease\",showmeans=True,showfliers=False,data=data)"
   ]
  },
  {
   "cell_type": "code",
   "execution_count": null,
   "metadata": {},
   "outputs": [],
   "source": []
  },
  {
   "cell_type": "markdown",
   "metadata": {},
   "source": [
    "## Nettoyage la base de donnees"
   ]
  },
  {
   "cell_type": "markdown",
   "metadata": {},
   "source": [
    "Les outils de dataprep proposent ensuite des fonctionnalités pour nettoyer les données (data cleansing). Le nettoyage des données est indispensable pour disposer de data sets fiables, valides et exploitables."
   ]
  },
  {
   "cell_type": "markdown",
   "metadata": {},
   "source": [
    "### Traitement des données duppliquées\n"
   ]
  },
  {
   "cell_type": "code",
   "execution_count": null,
   "metadata": {
    "ExecuteTime": {
     "end_time": "2023-05-25T19:38:25.508171Z",
     "start_time": "2023-05-25T19:38:25.495192Z"
    }
   },
   "outputs": [],
   "source": [
    "data.duplicated().sum()  #aucune ligne n'est dupliquée à 100%"
   ]
  },
  {
   "cell_type": "code",
   "execution_count": null,
   "metadata": {
    "ExecuteTime": {
     "end_time": "2023-05-25T19:38:25.534801Z",
     "start_time": "2023-05-25T19:38:25.511162Z"
    }
   },
   "outputs": [],
   "source": [
    "data[data.duplicated()]"
   ]
  },
  {
   "cell_type": "code",
   "execution_count": null,
   "metadata": {
    "ExecuteTime": {
     "end_time": "2023-05-25T19:38:25.566570Z",
     "start_time": "2023-05-25T19:38:25.534801Z"
    }
   },
   "outputs": [],
   "source": [
    "data=data.drop_duplicates(keep='first')\n",
    "data.head()"
   ]
  },
  {
   "cell_type": "markdown",
   "metadata": {},
   "source": [
    "### Traitement des valeurs impossibles\n"
   ]
  },
  {
   "cell_type": "code",
   "execution_count": null,
   "metadata": {
    "ExecuteTime": {
     "end_time": "2023-05-25T19:38:25.652610Z",
     "start_time": "2023-05-25T19:38:25.570558Z"
    }
   },
   "outputs": [],
   "source": [
    "data.describe()"
   ]
  },
  {
   "cell_type": "markdown",
   "metadata": {},
   "source": [
    "### Traitement des données aberrantes\n"
   ]
  },
  {
   "cell_type": "markdown",
   "metadata": {},
   "source": [
    "### Traitement des données manquantes"
   ]
  },
  {
   "cell_type": "code",
   "execution_count": null,
   "metadata": {
    "ExecuteTime": {
     "end_time": "2023-05-25T19:38:25.683504Z",
     "start_time": "2023-05-25T19:38:25.659586Z"
    }
   },
   "outputs": [],
   "source": [
    "data[\"thal\"]=data[\"thal\"].fillna(3)\n",
    "data[\"ca\"]=data[\"ca\"].fillna(3)\n",
    "\n",
    "data.isna().sum()"
   ]
  },
  {
   "cell_type": "code",
   "execution_count": null,
   "metadata": {
    "ExecuteTime": {
     "end_time": "2023-05-25T19:38:25.699455Z",
     "start_time": "2023-05-25T19:38:25.687494Z"
    }
   },
   "outputs": [],
   "source": [
    "data.isna().sum()"
   ]
  },
  {
   "cell_type": "markdown",
   "metadata": {},
   "source": [
    "## Enrechissement de la base de donnees"
   ]
  },
  {
   "cell_type": "markdown",
   "metadata": {},
   "source": [
    "enrichir le CSV préalablement obtenu avec une nouvelle colonne."
   ]
  },
  {
   "cell_type": "markdown",
   "metadata": {},
   "source": [
    "L’enrichissement des données est la troisième fonctionnalité clé des outils de dataprep. Enrichir les données consiste à améliorer le taux de complétude de la base de données (les cellules vides) et/ou à ajouter de nouveaux champs. L’enrichissement des données permet ensuite de mieux segmenter et personnaliser les campagnes/scénarios marketing ou les actions commerciales. Si l’enrichissement des données est si important, c’est que la personnalisation et le ciblage sont des clés de performance en marketing-ventes. Plus vous avez d’informations sur vos clients ou contacts, mieux c’est !\n",
    "\n",
    "L’enrichissement de données peut s’effectuer de deux manières complémentaires :\n",
    "\n",
    "A partir de sources de données internes.\n",
    "A partir de sources de données externes : fournisseurs de données spécialisés, bases de données publiques, LinkedIn…\n",
    "L’enrichissement des données améliore la valeur et le potentiel d’activation de vos données."
   ]
  },
  {
   "cell_type": "markdown",
   "metadata": {},
   "source": [
    "## Table Manipulator"
   ]
  },
  {
   "cell_type": "markdown",
   "metadata": {},
   "source": [
    "### Column sorting"
   ]
  },
  {
   "cell_type": "markdown",
   "metadata": {},
   "source": [
    "### Column row filtering"
   ]
  },
  {
   "cell_type": "markdown",
   "metadata": {},
   "source": [
    "### Concatenation of multiple files/tables"
   ]
  },
  {
   "cell_type": "markdown",
   "metadata": {},
   "source": [
    "### Column renaming"
   ]
  },
  {
   "cell_type": "markdown",
   "metadata": {},
   "source": [
    "## Transformation de la base de donnees"
   ]
  },
  {
   "cell_type": "markdown",
   "metadata": {},
   "source": [
    "### Data blending: Join, concatenate, append"
   ]
  },
  {
   "cell_type": "markdown",
   "metadata": {},
   "source": [
    "### Aggregation: Grouping, pivoting, binning, melt, pivot_table"
   ]
  },
  {
   "cell_type": "markdown",
   "metadata": {},
   "source": [
    "### Feature Creation and Selection"
   ]
  },
  {
   "cell_type": "markdown",
   "metadata": {},
   "source": [
    "## Pretraitement de la base de donnees"
   ]
  },
  {
   "cell_type": "markdown",
   "metadata": {},
   "source": [
    "## ML: classification, regression, recomm., anomaly, clustering,  forcasting"
   ]
  },
  {
   "cell_type": "markdown",
   "metadata": {
    "id": "tkiW4WYVIJeW"
   },
   "source": [
    "### Create X (input, features) & y (output, label)"
   ]
  },
  {
   "cell_type": "code",
   "execution_count": null,
   "metadata": {
    "ExecuteTime": {
     "end_time": "2023-05-25T19:38:25.715406Z",
     "start_time": "2023-05-25T19:38:25.702443Z"
    },
    "id": "B6tOMBBSIJeW"
   },
   "outputs": [],
   "source": [
    "X=data.drop(columns=[\"desease\"])\n",
    "\n",
    "y = data[\"desease\"]\n"
   ]
  },
  {
   "cell_type": "code",
   "execution_count": null,
   "metadata": {
    "ExecuteTime": {
     "end_time": "2023-05-25T19:38:25.740492Z",
     "start_time": "2023-05-25T19:38:25.717400Z"
    },
    "colab": {
     "base_uri": "https://localhost:8080/",
     "height": 0
    },
    "id": "81TjhFHPIJeW",
    "outputId": "0c46b814-365c-43cc-daf9-95861f191c6c"
   },
   "outputs": [],
   "source": [
    "X.head()"
   ]
  },
  {
   "cell_type": "code",
   "execution_count": null,
   "metadata": {
    "ExecuteTime": {
     "end_time": "2023-05-25T19:38:25.756384Z",
     "start_time": "2023-05-25T19:38:25.746415Z"
    }
   },
   "outputs": [],
   "source": [
    "y.head()"
   ]
  },
  {
   "cell_type": "code",
   "execution_count": null,
   "metadata": {},
   "outputs": [],
   "source": []
  },
  {
   "cell_type": "markdown",
   "metadata": {},
   "source": [
    "### Train set & Test set"
   ]
  },
  {
   "cell_type": "code",
   "execution_count": null,
   "metadata": {
    "ExecuteTime": {
     "end_time": "2023-05-25T19:38:25.977298Z",
     "start_time": "2023-05-25T19:38:25.765352Z"
    }
   },
   "outputs": [],
   "source": [
    "import sklearn\n",
    "from sklearn.model_selection import train_test_split\n",
    "X_train, X_test, y_train, y_test = train_test_split(X, y, test_size=0.20)\n",
    "print(\"X\",X.shape, X_train.shape, X_test.shape)\n",
    "print(\"y\",y.shape, y_train.shape, y_test.shape)"
   ]
  },
  {
   "cell_type": "markdown",
   "metadata": {},
   "source": [
    "### Machine learning"
   ]
  },
  {
   "cell_type": "code",
   "execution_count": null,
   "metadata": {
    "ExecuteTime": {
     "end_time": "2023-05-25T19:38:26.224927Z",
     "start_time": "2023-05-25T19:38:25.979292Z"
    }
   },
   "outputs": [],
   "source": [
    "from sklearn.neighbors import KNeighborsClassifier  # model KNN\n",
    "\n",
    "#choisir le modele\n",
    "model = KNeighborsClassifier(5)\n",
    "\n",
    "#entrainer le modele \n",
    "model.fit(X_train, y_train)\n",
    "\n",
    "#voir la performance du modele: precision\n",
    "print('Precision train: {:.2f}'.format(model.score(X_train, y_train)))\n",
    "print('Precision test : {:.2f}'.format(model.score(X_test, y_test)))"
   ]
  },
  {
   "cell_type": "code",
   "execution_count": null,
   "metadata": {
    "ExecuteTime": {
     "end_time": "2023-05-25T19:38:26.288877Z",
     "start_time": "2023-05-25T19:38:26.228914Z"
    }
   },
   "outputs": [],
   "source": [
    "#enlever les donnees manquantes\n",
    "data2=data.dropna()  \n",
    "\n",
    "#choisisr les variables explicatives\n",
    "X=data2.drop(columns=\"desease\")\n",
    "\n",
    "#choisir la variable à expliquer\n",
    "y=data2.desease\n",
    "\n",
    "#encodage des variables qualitatives\n",
    "X=pd.get_dummies(X)\n",
    "\n",
    "#on veut savoir si on est malade ou pas\n",
    "y=y.apply(lambda x: 1 if x>=1 else 0)\n",
    "\n",
    "#separer les donnees\n",
    "X_train, X_test,y_train,y_test=train_test_split(X,y,test_size=0.20) \n",
    "\n",
    "#choisir le modele\n",
    "from sklearn.neighbors import KNeighborsClassifier  # model KNN\n",
    "\n",
    "#choisir le modele\n",
    "model = KNeighborsClassifier(5)\n",
    "\n",
    "#entrainer le modele \n",
    "model.fit(X_train, y_train)\n",
    "\n",
    "#voir la performance du modele: precision\n",
    "print('Precision train: {:.2f}'.format(model.score(X_train, y_train)))\n",
    "print('Precision test : {:.2f}'.format(model.score(X_test, y_test)))"
   ]
  },
  {
   "cell_type": "markdown",
   "metadata": {},
   "source": [
    "### Matrice de confusion"
   ]
  },
  {
   "cell_type": "code",
   "execution_count": null,
   "metadata": {
    "ExecuteTime": {
     "end_time": "2023-05-25T22:51:54.832645Z",
     "start_time": "2023-05-25T22:51:54.539193Z"
    }
   },
   "outputs": [],
   "source": [
    "import matplotlib.pyplot as plt\n",
    "from sklearn import metrics\n",
    "y_pred=model.predict(X_test)   #prediction  et y_test #realite\n",
    "confusion_matrix = metrics.confusion_matrix(y_test, y_pred)\n",
    "\n",
    "cm_display = metrics.ConfusionMatrixDisplay(confusion_matrix = confusion_matrix, display_labels = [\"saine\", \"malade\"])\n",
    "\n",
    "cm_display.plot()\n",
    "plt.show()"
   ]
  },
  {
   "cell_type": "code",
   "execution_count": null,
   "metadata": {
    "ExecuteTime": {
     "end_time": "2023-05-25T19:38:30.595203Z",
     "start_time": "2023-05-25T19:38:26.613172Z"
    }
   },
   "outputs": [],
   "source": [
    "from lazypredict.Supervised import LazyClassifier\n",
    "clf = LazyClassifier()\n",
    "models,predictions = clf.fit(X_train, X_test, y_train, y_test)\n",
    "models"
   ]
  },
  {
   "cell_type": "markdown",
   "metadata": {
    "id": "tZ5FyOWoIJek"
   },
   "source": [
    "# Deep Learning: Artificial Neural Network \n"
   ]
  },
  {
   "cell_type": "code",
   "execution_count": null,
   "metadata": {
    "ExecuteTime": {
     "end_time": "2023-05-25T19:38:37.302376Z",
     "start_time": "2023-05-25T19:38:30.599202Z"
    },
    "id": "NLl05mYUIJek"
   },
   "outputs": [],
   "source": [
    "from keras.models import Sequential\n",
    "from keras.layers import Dense"
   ]
  },
  {
   "cell_type": "markdown",
   "metadata": {
    "id": "B0IpoTpwIJel"
   },
   "source": [
    "Architecture du réseau. Nous importons les classes Sequential et Dense pour définir notre\n",
    "modèle et son architecture."
   ]
  },
  {
   "cell_type": "markdown",
   "metadata": {
    "id": "8GnvfnxmIJel"
   },
   "source": [
    "La classe Sequential est une structure, initialement vide, qui permet de définir un empilement de\n",
    "couches de neurones (https://keras.io/getting-started/sequential-model-guide/) :\n",
    "#instanciation du modèle\n",
    "modelSimple = Sequential()\n",
    "Note : Sequential parce que les couches de neurones vont être ajoutées séquentiellement.\n",
    "Pour spécifier un perceptron simple, nous ajoutons une couche qui relie directement la couche\n",
    "d’entrée (input_dim, nombre de neurones = nombre de variables prédictives) avec la couche de\n",
    "sortie (units = 1, une seule sortie puisque la variable cible est binaire, codée 1/0), avec une\n",
    "fonction d’activation sigmoïde (activation) "
   ]
  },
  {
   "cell_type": "markdown",
   "metadata": {
    "id": "N1sQGHFtIJel"
   },
   "source": [
    "Note : Dense parce que tous les neurones de couche précédente seront connectés à tous les\n",
    "neurones de la couche suivante."
   ]
  },
  {
   "cell_type": "markdown",
   "metadata": {
    "id": "yK3CQSZRIJen"
   },
   "source": [
    "Il existe trois façons de créer des modèles Keras:\n",
    "\n",
    "Le modèle séquentiel , qui est très simple (une simple liste de couches), mais est limité à des piles de couches à entrée unique et à sortie unique (comme son nom l'indique).\n",
    "L' API fonctionnelle , qui est une API complète et facile à utiliser qui prend en charge des architectures de modèles arbitraires. Pour la plupart des gens et la plupart des cas d'utilisation, c'est ce que vous devriez utiliser. Il s'agit du modèle de «force industrielle» de Keras.\n",
    "Sous-classification de modèles , où vous implémentez tout à partir de zéro par vous-même. Utilisez cette option si vous avez des cas d'utilisation de recherche complexes et prêts à l'emploi."
   ]
  },
  {
   "cell_type": "code",
   "execution_count": null,
   "metadata": {
    "ExecuteTime": {
     "end_time": "2023-05-25T19:38:37.706585Z",
     "start_time": "2023-05-25T19:38:37.365084Z"
    },
    "id": "gLrIYkXgIJeo"
   },
   "outputs": [],
   "source": [
    "\n",
    "#Initialising ANN\n",
    "classifier = Sequential()\n",
    "#nous considérons le modèle comme Séquentiel\n",
    "\n",
    "#Adding the first hidden layer or the input layer\n",
    "#Le premier niveau a une dimension de 13 qui correspond à 13 attributs de colonnes.\n",
    "\n",
    "classifier.add(Dense(activation='relu', input_dim=X_train.shape[1],units=X_train.shape[1]+1))\n",
    "\n",
    "#Ensuite, nous avons rajouté une couche de 50 neurones.\n",
    "classifier.add(Dense(50,activation='tanh'))\n",
    "\n",
    "\n",
    "#La couche de sortie a un seul neurone (sortie) et la fonction d'activation sigmoïde adaptée aux problèmes de classification binaire.\n",
    "classifier.add(Dense(1, activation='sigmoid'))\n",
    "#Compiling the ANN\n",
    "classifier.compile(optimizer='adam', loss='binary_crossentropy', metrics=['accuracy'])\n",
    "\n",
    "#Fitting the ANN\n",
    "classifier.fit(X_train,y_train, validation_split=0.10,batch_size=20, epochs=100, verbose=0)"
   ]
  },
  {
   "cell_type": "markdown",
   "metadata": {
    "id": "5B-5KCuaIJeo"
   },
   "source": [
    "\n",
    "La fonction de compilation a 3 arguments:\n",
    "L' optimiseur adam : un algorithme pour l'optimisation basée sur un gradient(derivée!) de premier ordre.\n",
    "La fonction de perte binary_crossentropy : perte logarithmique, qui pour un problème de classification binaire est définie dans Keras comme binary_crossentropy\n",
    "La métrique de précision : pour évaluer les performances de votre modèle pendant l'entraînement et les tests\n",
    "\n"
   ]
  },
  {
   "cell_type": "code",
   "execution_count": null,
   "metadata": {
    "ExecuteTime": {
     "end_time": "2023-05-25T19:38:44.517037Z",
     "start_time": "2023-05-25T19:38:37.708616Z"
    },
    "colab": {
     "base_uri": "https://localhost:8080/"
    },
    "id": "-Dpj_P4IIJer",
    "outputId": "bf9be034-8ddd-4f02-b9e7-9a35e4be7523"
   },
   "outputs": [],
   "source": [
    "#checking the performance of the model\n",
    "score = classifier.evaluate(X_train,y_train, verbose=0)\n",
    "print('train Model Accuracy = ',score[1])\n",
    "score = classifier.evaluate(X_test, y_test, verbose=0)\n",
    "print('test Model Accuracy = ',score[1])"
   ]
  },
  {
   "cell_type": "code",
   "execution_count": null,
   "metadata": {
    "ExecuteTime": {
     "end_time": "2023-05-25T19:38:44.819036Z",
     "start_time": "2023-05-25T19:38:44.519986Z"
    }
   },
   "outputs": [],
   "source": [
    "#Make prediction\n",
    "prediction = classifier.predict(X)\n",
    "prediction[0:5]"
   ]
  },
  {
   "cell_type": "code",
   "execution_count": null,
   "metadata": {},
   "outputs": [],
   "source": []
  },
  {
   "cell_type": "code",
   "execution_count": null,
   "metadata": {
    "ExecuteTime": {
     "end_time": "2023-05-25T22:58:38.570189Z",
     "start_time": "2023-05-25T22:58:38.364401Z"
    }
   },
   "outputs": [],
   "source": [
    "#Make prediction\n",
    "prediction = classifier.predict(X)\n",
    "prediction[0:5]"
   ]
  },
  {
   "cell_type": "code",
   "execution_count": null,
   "metadata": {
    "ExecuteTime": {
     "end_time": "2023-05-25T19:38:46.743894Z",
     "start_time": "2023-05-25T19:38:44.983349Z"
    }
   },
   "outputs": [],
   "source": [
    "history=classifier.fit(X_train, y_train, validation_split=0.20, epochs=20, batch_size=10,verbose=0)\n",
    "\n",
    "#Plot the graph of accuracy\n",
    "import matplotlib.pyplot as plt\n",
    "\n",
    "plt.figure(figsize=(10, 6))\n",
    "plt.ylim(0, 1)\n",
    "plt.plot(history.history['accuracy'])\n",
    "plt.plot(history.history['val_accuracy'])\n",
    "plt.title('model_accuracy')\n",
    "plt.ylabel('accuracy')\n",
    "plt.xlabel('epoch')\n",
    "plt.legend(['train', 'test'], loc='best')\n",
    "plt.show()"
   ]
  },
  {
   "cell_type": "markdown",
   "metadata": {},
   "source": [
    "## Prediction"
   ]
  },
  {
   "cell_type": "markdown",
   "metadata": {},
   "source": [
    "## Dashboard"
   ]
  },
  {
   "cell_type": "markdown",
   "metadata": {},
   "source": [
    "## Storring telling"
   ]
  },
  {
   "cell_type": "markdown",
   "metadata": {},
   "source": [
    "## Data journalisme"
   ]
  },
  {
   "cell_type": "markdown",
   "metadata": {},
   "source": [
    "## Strategie business"
   ]
  },
  {
   "cell_type": "markdown",
   "metadata": {},
   "source": [
    "## Interprétabilité des modèles"
   ]
  },
  {
   "cell_type": "markdown",
   "metadata": {},
   "source": [
    "L’explicabilité des algorithmes prend de plus en plus de place dans les débats autour de la Data Science. On sait que les algorithmes sont puissants, on sait qu’ils peuvent nous assister dans de nombreuses tâches : prédiction de prix, classification de documents, recommandation de vidéos.\n",
    "\n",
    "Dorénavant, on se pose de plus en plus de questions sur cette prédiction :\n",
    "\n",
    "est-elle éthique ?\n",
    "est-elle touchée par des biais ?\n",
    "est-elle prise pour de bonnes raisons ?\n",
    "Dans de nombreux secteurs comme la médecine, la banque ou encore l’assurance, l’emploi d’algorithmes peut avoir lieu si, et seulement si, il est possible de tracer et expliquer (ou encore mieux interpréter) les décisions de ces dits algorithmes.\n",
    "\n",
    "Parenthèse sur le vocabulaire\n",
    "Dans cet article nous souhaitons distinguer les termes :\n",
    "\n",
    "Explicabilité: possibilité d’expliquer d’un point de vue technique la prédiction d’un algorithme.\n",
    "\n",
    "Interprétabilité: capacité d’expliquer ou de fournir du sens en termes compréhensibles par un être humain.\n",
    "\n",
    "Transparence: un modèle est considéré comme transparent s’il est compréhensible en soi."
   ]
  },
  {
   "cell_type": "markdown",
   "metadata": {},
   "source": [
    "explications globales\n",
    "\n",
    "explications concernant fonctionnement du modèle de point de vue général\n",
    "\n",
    "explication locales\n",
    "\n",
    "explications du modèle pour un instance"
   ]
  },
  {
   "cell_type": "markdown",
   "metadata": {},
   "source": [
    " Aspect légal : L’article 22 du RGPD prévoit des règles pour éviter que l’homme ne\n",
    "subisse des décisions émanant uniquement de machines. Les modèles sans\n",
    "explication risquent d’entraîner une sanction qui peut s’élever à 20 000 000 d’euros\n",
    "ou, dans le cas d’une entreprise, à 4% du chiffre d’affaires mondial total de l’exercice\n",
    "précédent (le montant le plus élevé étant retenu). »\n",
    "Interprétabilité du modèle\n",
    "\n",
    "« Validation du modèle : Le modèle a une bonne précision, mais nous cherchons à\n",
    "connaître les variables influentes afin de vérifier la cohérence avec la connaissance\n",
    "métier du domaine. D’autre part, pour certaines applications, nous devons également\n",
    "contrôler le risque du modèle, ce qui nécessite une compréhension approfondie de\n",
    "celui-ci. »\n",
    "\n",
    "« Explication et recommandation : Imaginons le client d’une banque faisant une\n",
    "demande de prêt, la demande est refusée suite à la décision d’un modèle de ML. Il\n",
    "faut cependant pouvoir expliquer à ce client les raisons de ce refus afin de pouvoir le\n",
    "conseiller. »\n",
    "http://www.aquiladata.fr/insights/shap-mieux-comprendre-linterpretation-de-modeles/"
   ]
  },
  {
   "cell_type": "markdown",
   "metadata": {},
   "source": [
    "## Audit: Biais et Ethique"
   ]
  },
  {
   "cell_type": "markdown",
   "metadata": {},
   "source": [
    "Framworks: Documentez vous sur ces deux framworks tres interessants\n",
    "Aquiestas: https://www.youtube.com/watch?v=wmyVODy_WD8\n",
    "Shap: https://www.youtube.com/watch?v=VLGWJkWwhVE"
   ]
  },
  {
   "cell_type": "markdown",
   "metadata": {},
   "source": [
    "## Deploiment et maintenance"
   ]
  },
  {
   "cell_type": "markdown",
   "metadata": {},
   "source": [
    " Streamlit: A faster way to build and share data apps\n",
    " Flask: https://flask.palletsprojects.com/en/2.1.x/\n",
    " Django: https://docs.djangoproject.com/fr/4.0/intro/"
   ]
  },
  {
   "cell_type": "markdown",
   "metadata": {},
   "source": [
    "Les données, une fois préparées, doivent être exportées dans les outils de destinatation : outils d’activation, outils d’analyse, entrepôt de données, CustomerDataPlatform…\n",
    "Les capacités d’export des données sont un facteur discriminant dans le choix d’un outil de data preparation."
   ]
  },
  {
   "cell_type": "markdown",
   "metadata": {},
   "source": [
    "## Text Processing"
   ]
  },
  {
   "cell_type": "markdown",
   "metadata": {},
   "source": [
    "## Times Series Analysis"
   ]
  },
  {
   "cell_type": "markdown",
   "metadata": {},
   "source": [
    "## ETL & CRM  & CLOUD"
   ]
  },
  {
   "cell_type": "code",
   "execution_count": null,
   "metadata": {
    "ExecuteTime": {
     "end_time": "2023-05-25T19:38:46.761687Z",
     "start_time": "2023-05-25T19:38:46.745587Z"
    }
   },
   "outputs": [],
   "source": [
    "print(\"yes\",1+1)"
   ]
  }
 ],
 "metadata": {
  "celltoolbar": "Aucun(e)",
  "kernelspec": {
   "display_name": "Python 3 (ipykernel)",
   "language": "python",
   "name": "python3"
  },
  "language_info": {
   "codemirror_mode": {
    "name": "ipython",
    "version": 3
   },
   "file_extension": ".py",
   "mimetype": "text/x-python",
   "name": "python",
   "nbconvert_exporter": "python",
   "pygments_lexer": "ipython3",
   "version": "3.10.6"
  },
  "toc": {
   "base_numbering": 1,
   "nav_menu": {},
   "number_sections": true,
   "sideBar": true,
   "skip_h1_title": false,
   "title_cell": "Table of Contents",
   "title_sidebar": "Contents",
   "toc_cell": false,
   "toc_position": {
    "height": "508px",
    "left": "576px",
    "top": "147.125px",
    "width": "232px"
   },
   "toc_section_display": true,
   "toc_window_display": true
  }
 },
 "nbformat": 4,
 "nbformat_minor": 4
}
