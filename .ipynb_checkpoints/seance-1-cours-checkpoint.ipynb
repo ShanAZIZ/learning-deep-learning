{
 "cells": [
  {
   "cell_type": "markdown",
   "metadata": {
    "ExecuteTime": {
     "end_time": "2023-04-20T06:22:53.919396Z",
     "start_time": "2023-04-20T06:22:53.903391Z"
    },
    "id": "LiT0GzUZRXgv"
   },
   "source": [
    " <div style=\"display: flex; background-color: RGB(255,114,0);\" >\n",
    "<h1 style=\"margin: auto; padding: 30px; \">FRAMWORKS DEEP LEARNING\n",
    "</h1>\n",
    "</div>\n"
   ]
  },
  {
   "cell_type": "markdown",
   "metadata": {
    "id": "cG_ZIoOvRXg4"
   },
   "source": [
    "<div style=\"background-color: RGB(51,165,182);\" >\n",
    "<h1 style=\"margin: auto; padding: 20px; color:#fff; \">Seance 1: RAPPELS, ANALYSE, MANIPULATION, MACHINE LEARNING </h1>\n",
    "</div>"
   ]
  },
  {
   "cell_type": "code",
   "execution_count": 2,
   "metadata": {
    "colab": {
     "base_uri": "https://localhost:8080/"
    },
    "executionInfo": {
     "elapsed": 9764,
     "status": "ok",
     "timestamp": 1690393004056,
     "user": {
      "displayName": "Shan AZIZ",
      "userId": "15769554459517886945"
     },
     "user_tz": -120
    },
    "id": "QMZW7GEfRdmS",
    "outputId": "e2d463d9-312b-4cc6-d212-da8b4db9ba4e"
   },
   "outputs": [],
   "source": [
    "#!pip install jyquickhelper"
   ]
  },
  {
   "cell_type": "code",
   "execution_count": 3,
   "metadata": {
    "ExecuteTime": {
     "end_time": "2023-05-25T19:37:48.531185Z",
     "start_time": "2023-05-25T19:37:48.493314Z"
    },
    "colab": {
     "base_uri": "https://localhost:8080/",
     "height": 17
    },
    "executionInfo": {
     "elapsed": 349,
     "status": "ok",
     "timestamp": 1690393059901,
     "user": {
      "displayName": "Shan AZIZ",
      "userId": "15769554459517886945"
     },
     "user_tz": -120
    },
    "id": "qq3ljbi2RXg5",
    "outputId": "1d52316d-42bc-45e2-bda2-25229a79d2a0"
   },
   "outputs": [
    {
     "data": {
      "text/html": [
       "<div id=\"my_id_menu_nb\">run previous cell, wait for 2 seconds</div>\n",
       "<script>\n",
       "function repeat_indent_string(n){\n",
       "    var a = \"\" ;\n",
       "    for ( ; n > 0 ; --n)\n",
       "        a += \"    \";\n",
       "    return a;\n",
       "}\n",
       "// look up into all sections and builds an automated menu //\n",
       "var update_menu_string = function(begin, lfirst, llast, sformat, send, keep_item, begin_format, end_format) {\n",
       "    var anchors = document.getElementsByClassName(\"section\");\n",
       "    if (anchors.length == 0) {\n",
       "        anchors = document.getElementsByClassName(\"text_cell_render rendered_html\");\n",
       "    }\n",
       "    var i,t;\n",
       "    var text_menu = begin;\n",
       "    var text_memo = \"<pre>\\nlength:\" + anchors.length + \"\\n\";\n",
       "    var ind = \"\";\n",
       "    var memo_level = 1;\n",
       "    var href;\n",
       "    var tags = [];\n",
       "    var main_item = 0;\n",
       "    var format_open = 0;\n",
       "    for (i = 0; i <= llast; i++)\n",
       "        tags.push(\"h\" + i);\n",
       "\n",
       "    for (i = 0; i < anchors.length; i++) {\n",
       "        text_memo += \"**\" + anchors[i].id + \"--\\n\";\n",
       "\n",
       "        var child = null;\n",
       "        for(t = 0; t < tags.length; t++) {\n",
       "            var r = anchors[i].getElementsByTagName(tags[t]);\n",
       "            if (r.length > 0) {\n",
       "child = r[0];\n",
       "break;\n",
       "            }\n",
       "        }\n",
       "        if (child == null) {\n",
       "            text_memo += \"null\\n\";\n",
       "            continue;\n",
       "        }\n",
       "        if (anchors[i].hasAttribute(\"id\")) {\n",
       "            // when converted in RST\n",
       "            href = anchors[i].id;\n",
       "            text_memo += \"#1-\" + href;\n",
       "            // passer à child suivant (le chercher)\n",
       "        }\n",
       "        else if (child.hasAttribute(\"id\")) {\n",
       "            // in a notebook\n",
       "            href = child.id;\n",
       "            text_memo += \"#2-\" + href;\n",
       "        }\n",
       "        else {\n",
       "            text_memo += \"#3-\" + \"*\" + \"\\n\";\n",
       "            continue;\n",
       "        }\n",
       "        var title = child.textContent;\n",
       "        var level = parseInt(child.tagName.substring(1,2));\n",
       "\n",
       "        text_memo += \"--\" + level + \"?\" + lfirst + \"--\" + title + \"\\n\";\n",
       "\n",
       "        if ((level < lfirst) || (level > llast)) {\n",
       "            continue ;\n",
       "        }\n",
       "        if (title.endsWith('¶')) {\n",
       "            title = title.substring(0,title.length-1).replace(\"<\", \"&lt;\")\n",
       "         .replace(\">\", \"&gt;\").replace(\"&\", \"&amp;\");\n",
       "        }\n",
       "        if (title.length == 0) {\n",
       "            continue;\n",
       "        }\n",
       "\n",
       "        while (level < memo_level) {\n",
       "            text_menu += end_format + \"</ul>\\n\";\n",
       "            format_open -= 1;\n",
       "            memo_level -= 1;\n",
       "        }\n",
       "        if (level == lfirst) {\n",
       "            main_item += 1;\n",
       "        }\n",
       "        if (keep_item != -1 && main_item != keep_item + 1) {\n",
       "            // alert(main_item + \" - \" + level + \" - \" + keep_item);\n",
       "            continue;\n",
       "        }\n",
       "        while (level > memo_level) {\n",
       "            text_menu += \"<ul>\\n\";\n",
       "            memo_level += 1;\n",
       "        }\n",
       "        text_menu += repeat_indent_string(level-2);\n",
       "        text_menu += begin_format + sformat.replace(\"__HREF__\", href).replace(\"__TITLE__\", title);\n",
       "        format_open += 1;\n",
       "    }\n",
       "    while (1 < memo_level) {\n",
       "        text_menu += end_format + \"</ul>\\n\";\n",
       "        memo_level -= 1;\n",
       "        format_open -= 1;\n",
       "    }\n",
       "    text_menu += send;\n",
       "    //text_menu += \"\\n\" + text_memo;\n",
       "\n",
       "    while (format_open > 0) {\n",
       "        text_menu += end_format;\n",
       "        format_open -= 1;\n",
       "    }\n",
       "    return text_menu;\n",
       "};\n",
       "var update_menu = function() {\n",
       "    var sbegin = \"\";\n",
       "    var sformat = '<a href=\"#__HREF__\">__TITLE__</a>';\n",
       "    var send = \"\";\n",
       "    var begin_format = '<li>';\n",
       "    var end_format = '</li>';\n",
       "    var keep_item = -1;\n",
       "    var text_menu = update_menu_string(sbegin, 2, 4, sformat, send, keep_item,\n",
       "       begin_format, end_format);\n",
       "    var menu = document.getElementById(\"my_id_menu_nb\");\n",
       "    menu.innerHTML=text_menu;\n",
       "};\n",
       "window.setTimeout(update_menu,2000);\n",
       "            </script>"
      ],
      "text/plain": [
       "<IPython.core.display.HTML object>"
      ]
     },
     "execution_count": 3,
     "metadata": {},
     "output_type": "execute_result"
    }
   ],
   "source": [
    "from jyquickhelper import add_notebook_menu   #pip install jyquickhelper\n",
    "add_notebook_menu()"
   ]
  },
  {
   "cell_type": "markdown",
   "metadata": {
    "id": "tbsFAStQRXg8"
   },
   "source": [
    "## Objectifs"
   ]
  },
  {
   "cell_type": "raw",
   "metadata": {
    "id": "oW4LE7dDRXg9"
   },
   "source": [
    "Charger ce dataset.\n",
    "Utiliser les méthodes usuelles de pandas pour obtenir les informations de base sur ce dataset (nombre d'observations et de variables, types des variables, valeurs manquantes, etc.).\n",
    "Remplacer la variable 'num' par une variable binaire nommée 'disease' indiquant la survenue ou non d'une maladie cardiaque.\n",
    "Procéder à une étude exploratoire de ce dataset : étude individuelle des différentes variables, puis étude conjointe avec la variable 'disease'.\n",
    "Séparer le dataset en un jeu d'entraînement/validation et un jeu de test. On utilisera la fonction train_test_split (Connexions vers un site externe.).\n",
    "Créer un pipeline (Connexions vers un site externe.) de transformation des variables quantitatives : imputation (Connexions vers un site externe.) puis normalisation (Connexions vers un site externe.).\n",
    "Créer un pipeline (Connexions vers un site externe.) de transformation des variables qualitatives : imputation (Connexions vers un site externe.) puis One Hot Encoding (Connexions vers un site externe.) ou Ordinal Encoding (Connexions vers un site externe.).\n",
    "Regrouper les pipelines précédents à l'aide de la fonction Column Transformer (Connexions vers un site externe.).\n",
    "Heart Disease (1) : Prétraitement des données\n",
    "On utilisera ici le dataset HeartDiseaseUCI.csv (source : UCI (Connexions vers un site externe.)).\n",
    "\n",
    "Voici la signification des différentes variables :\n",
    "\n",
    "âge : âge en années\n",
    "sexe : sexe (1 = masculin, 0 = féminin)\n",
    "cp : type de douleur thoracique (Valeur 1 : angine typique, Valeur 2 : angine atypique, Valeur 3 : douleur non angineuse, Valeur 4 : asymptomatique)\n",
    "trestbps : tension artérielle au repos (en mm Hg à l'admission à l'hôpital)\n",
    "chol : cholestérol sérique en mg/dl\n",
    "fbs : (glycémie à jeun > 120 mg/dl) (1 = vrai ; 0 = faux)\n",
    "restecg : résultats électrocardiographiques au repos (Valeur 0 : normal, Valeur 1 : présentant une anomalie de l'onde ST-T (inversions de l'onde T et/ou élévation ou dépression du segment ST > 0,05 mV), Valeur 2 : montrant une hypertrophie ventriculaire gauche probable ou certaine selon Estes Critères)\n",
    "thalach : fréquence cardiaque maximale atteinte\n",
    "exemple : angine de poitrine induite par l'effort (1 = oui, 0 = non)\n",
    "oldpeak = dépression ST induite par l'exercice par rapport au repos\n",
    "pente : la pente du segment ST d'exercice maximal (Valeur 1 : montante, Valeur 2 : plate, Valeur 3 : descendante)\n",
    "ca : nombre de gros vaisseaux (0-3) colorés par fluoroscopie\n",
    "thal : (Valeur 3 : normal, Valeur 6 = défaut fixe, Valeur 7 = défaut réversible)\n",
    "num : nombre de vaisseaux principaux (0-4) avec un rétrécissement de diamètre > 50 %\n",
    "\n"
   ]
  },
  {
   "cell_type": "markdown",
   "metadata": {
    "id": "iYCKmprMRXg-"
   },
   "source": [
    "## Chargement des librairies"
   ]
  },
  {
   "cell_type": "code",
   "execution_count": 4,
   "metadata": {
    "ExecuteTime": {
     "end_time": "2023-05-25T19:37:53.849373Z",
     "start_time": "2023-05-25T19:37:48.566720Z"
    },
    "executionInfo": {
     "elapsed": 1372,
     "status": "ok",
     "timestamp": 1690393070963,
     "user": {
      "displayName": "Shan AZIZ",
      "userId": "15769554459517886945"
     },
     "user_tz": -120
    },
    "id": "nZ_Kw1nzRXg_"
   },
   "outputs": [],
   "source": [
    "import pandas as pd  #manipulation des donnees\n",
    "import numpy as np   #calcul mathematiques\n",
    "import seaborn as sns   #visualiser les données\n",
    "import matplotlib.pyplot as plt  #visualisation\n",
    "import scipy as scipy   # faire des statistques, probabilités et optimisation\n",
    "import warnings;warnings.filterwarnings(\"ignore\", category=Warning)  #gestion d'erreurs"
   ]
  },
  {
   "cell_type": "markdown",
   "metadata": {
    "id": "wIVwLue7RXhA"
   },
   "source": [
    "## Data Access"
   ]
  },
  {
   "cell_type": "markdown",
   "metadata": {
    "id": "KTF9uBUrRXhB"
   },
   "source": [
    "### Rgpd\n"
   ]
  },
  {
   "cell_type": "markdown",
   "metadata": {
    "id": "H65dPmOMRXhD"
   },
   "source": [
    "Quels sont les grands principes des règles de protection des données personnelles ?\n",
    "Les 5 grands principes des règles de protection des données personnelles sont les suivants :\n",
    "\n",
    "Le principe de finalité : le responsable d'un fichier ne peut enregistrer et utiliser des informations sur des personnes physiques que dans un but bien précis, légal et légitime ;\n",
    "\n",
    "Le principe de proportionnalité et de pertinence : les informations enregistrées doivent être pertinentes et strictement nécessaires au regard de la finalité du fichier ;\n",
    "\n",
    "Le principe d'une durée de conservation limitée : il n'est pas possible de conserver des informations sur des personnes physiques dans un fichier pour une durée indéfinie. Une durée de conservation précise doit être fixée, en fonction du type d'information enregistrée et de la finalité du fichier ;\n",
    "\n",
    "Le principe de sécurité et de confidentialité : le responsable du fichier doit garantir la sécurité et la confidentialité des informations qu'il détient. Il doit en particulier veiller à ce que seules les personnes autorisées aient accès à ces informations ;\n",
    "\n",
    "Les droits des personnes"
   ]
  },
  {
   "cell_type": "code",
   "execution_count": 5,
   "metadata": {
    "ExecuteTime": {
     "end_time": "2023-05-25T19:37:53.880338Z",
     "start_time": "2023-05-25T19:37:53.849373Z"
    },
    "colab": {
     "base_uri": "https://localhost:8080/",
     "height": 330
    },
    "executionInfo": {
     "elapsed": 444,
     "status": "error",
     "timestamp": 1690393079616,
     "user": {
      "displayName": "Shan AZIZ",
      "userId": "15769554459517886945"
     },
     "user_tz": -120
    },
    "id": "sedjuG7yRXhE",
    "outputId": "b31719b8-6fef-4b42-e5ae-d17baadb6b6d",
    "scrolled": true
   },
   "outputs": [
    {
     "ename": "FileNotFoundError",
     "evalue": "ignored",
     "output_type": "error",
     "traceback": [
      "\u001b[0;31m---------------------------------------------------------------------------\u001b[0m",
      "\u001b[0;31mFileNotFoundError\u001b[0m                         Traceback (most recent call last)",
      "\u001b[0;32m<ipython-input-5-83f9db0cea7a>\u001b[0m in \u001b[0;36m<cell line: 2>\u001b[0;34m()\u001b[0m\n\u001b[1;32m      1\u001b[0m \u001b[0mfichier\u001b[0m\u001b[0;34m=\u001b[0m\u001b[0;34m\"HeartDiseaseUCI.csv\"\u001b[0m\u001b[0;34m\u001b[0m\u001b[0;34m\u001b[0m\u001b[0m\n\u001b[0;32m----> 2\u001b[0;31m \u001b[0mdata\u001b[0m \u001b[0;34m=\u001b[0m \u001b[0mpd\u001b[0m\u001b[0;34m.\u001b[0m\u001b[0mread_csv\u001b[0m\u001b[0;34m(\u001b[0m\u001b[0mfichier\u001b[0m\u001b[0;34m,\u001b[0m \u001b[0mindex_col\u001b[0m\u001b[0;34m=\u001b[0m\u001b[0;36m0\u001b[0m\u001b[0;34m)\u001b[0m\u001b[0;34m\u001b[0m\u001b[0;34m\u001b[0m\u001b[0m\n\u001b[0m",
      "\u001b[0;32m/usr/local/lib/python3.10/dist-packages/pandas/util/_decorators.py\u001b[0m in \u001b[0;36mwrapper\u001b[0;34m(*args, **kwargs)\u001b[0m\n\u001b[1;32m    209\u001b[0m                 \u001b[0;32melse\u001b[0m\u001b[0;34m:\u001b[0m\u001b[0;34m\u001b[0m\u001b[0;34m\u001b[0m\u001b[0m\n\u001b[1;32m    210\u001b[0m                     \u001b[0mkwargs\u001b[0m\u001b[0;34m[\u001b[0m\u001b[0mnew_arg_name\u001b[0m\u001b[0;34m]\u001b[0m \u001b[0;34m=\u001b[0m \u001b[0mnew_arg_value\u001b[0m\u001b[0;34m\u001b[0m\u001b[0;34m\u001b[0m\u001b[0m\n\u001b[0;32m--> 211\u001b[0;31m             \u001b[0;32mreturn\u001b[0m \u001b[0mfunc\u001b[0m\u001b[0;34m(\u001b[0m\u001b[0;34m*\u001b[0m\u001b[0margs\u001b[0m\u001b[0;34m,\u001b[0m \u001b[0;34m**\u001b[0m\u001b[0mkwargs\u001b[0m\u001b[0;34m)\u001b[0m\u001b[0;34m\u001b[0m\u001b[0;34m\u001b[0m\u001b[0m\n\u001b[0m\u001b[1;32m    212\u001b[0m \u001b[0;34m\u001b[0m\u001b[0m\n\u001b[1;32m    213\u001b[0m         \u001b[0;32mreturn\u001b[0m \u001b[0mcast\u001b[0m\u001b[0;34m(\u001b[0m\u001b[0mF\u001b[0m\u001b[0;34m,\u001b[0m \u001b[0mwrapper\u001b[0m\u001b[0;34m)\u001b[0m\u001b[0;34m\u001b[0m\u001b[0;34m\u001b[0m\u001b[0m\n",
      "\u001b[0;32m/usr/local/lib/python3.10/dist-packages/pandas/util/_decorators.py\u001b[0m in \u001b[0;36mwrapper\u001b[0;34m(*args, **kwargs)\u001b[0m\n\u001b[1;32m    329\u001b[0m                     \u001b[0mstacklevel\u001b[0m\u001b[0;34m=\u001b[0m\u001b[0mfind_stack_level\u001b[0m\u001b[0;34m(\u001b[0m\u001b[0;34m)\u001b[0m\u001b[0;34m,\u001b[0m\u001b[0;34m\u001b[0m\u001b[0;34m\u001b[0m\u001b[0m\n\u001b[1;32m    330\u001b[0m                 )\n\u001b[0;32m--> 331\u001b[0;31m             \u001b[0;32mreturn\u001b[0m \u001b[0mfunc\u001b[0m\u001b[0;34m(\u001b[0m\u001b[0;34m*\u001b[0m\u001b[0margs\u001b[0m\u001b[0;34m,\u001b[0m \u001b[0;34m**\u001b[0m\u001b[0mkwargs\u001b[0m\u001b[0;34m)\u001b[0m\u001b[0;34m\u001b[0m\u001b[0;34m\u001b[0m\u001b[0m\n\u001b[0m\u001b[1;32m    332\u001b[0m \u001b[0;34m\u001b[0m\u001b[0m\n\u001b[1;32m    333\u001b[0m         \u001b[0;31m# error: \"Callable[[VarArg(Any), KwArg(Any)], Any]\" has no\u001b[0m\u001b[0;34m\u001b[0m\u001b[0;34m\u001b[0m\u001b[0m\n",
      "\u001b[0;32m/usr/local/lib/python3.10/dist-packages/pandas/io/parsers/readers.py\u001b[0m in \u001b[0;36mread_csv\u001b[0;34m(filepath_or_buffer, sep, delimiter, header, names, index_col, usecols, squeeze, prefix, mangle_dupe_cols, dtype, engine, converters, true_values, false_values, skipinitialspace, skiprows, skipfooter, nrows, na_values, keep_default_na, na_filter, verbose, skip_blank_lines, parse_dates, infer_datetime_format, keep_date_col, date_parser, dayfirst, cache_dates, iterator, chunksize, compression, thousands, decimal, lineterminator, quotechar, quoting, doublequote, escapechar, comment, encoding, encoding_errors, dialect, error_bad_lines, warn_bad_lines, on_bad_lines, delim_whitespace, low_memory, memory_map, float_precision, storage_options)\u001b[0m\n\u001b[1;32m    948\u001b[0m     \u001b[0mkwds\u001b[0m\u001b[0;34m.\u001b[0m\u001b[0mupdate\u001b[0m\u001b[0;34m(\u001b[0m\u001b[0mkwds_defaults\u001b[0m\u001b[0;34m)\u001b[0m\u001b[0;34m\u001b[0m\u001b[0;34m\u001b[0m\u001b[0m\n\u001b[1;32m    949\u001b[0m \u001b[0;34m\u001b[0m\u001b[0m\n\u001b[0;32m--> 950\u001b[0;31m     \u001b[0;32mreturn\u001b[0m \u001b[0m_read\u001b[0m\u001b[0;34m(\u001b[0m\u001b[0mfilepath_or_buffer\u001b[0m\u001b[0;34m,\u001b[0m \u001b[0mkwds\u001b[0m\u001b[0;34m)\u001b[0m\u001b[0;34m\u001b[0m\u001b[0;34m\u001b[0m\u001b[0m\n\u001b[0m\u001b[1;32m    951\u001b[0m \u001b[0;34m\u001b[0m\u001b[0m\n\u001b[1;32m    952\u001b[0m \u001b[0;34m\u001b[0m\u001b[0m\n",
      "\u001b[0;32m/usr/local/lib/python3.10/dist-packages/pandas/io/parsers/readers.py\u001b[0m in \u001b[0;36m_read\u001b[0;34m(filepath_or_buffer, kwds)\u001b[0m\n\u001b[1;32m    603\u001b[0m \u001b[0;34m\u001b[0m\u001b[0m\n\u001b[1;32m    604\u001b[0m     \u001b[0;31m# Create the parser.\u001b[0m\u001b[0;34m\u001b[0m\u001b[0;34m\u001b[0m\u001b[0m\n\u001b[0;32m--> 605\u001b[0;31m     \u001b[0mparser\u001b[0m \u001b[0;34m=\u001b[0m \u001b[0mTextFileReader\u001b[0m\u001b[0;34m(\u001b[0m\u001b[0mfilepath_or_buffer\u001b[0m\u001b[0;34m,\u001b[0m \u001b[0;34m**\u001b[0m\u001b[0mkwds\u001b[0m\u001b[0;34m)\u001b[0m\u001b[0;34m\u001b[0m\u001b[0;34m\u001b[0m\u001b[0m\n\u001b[0m\u001b[1;32m    606\u001b[0m \u001b[0;34m\u001b[0m\u001b[0m\n\u001b[1;32m    607\u001b[0m     \u001b[0;32mif\u001b[0m \u001b[0mchunksize\u001b[0m \u001b[0;32mor\u001b[0m \u001b[0miterator\u001b[0m\u001b[0;34m:\u001b[0m\u001b[0;34m\u001b[0m\u001b[0;34m\u001b[0m\u001b[0m\n",
      "\u001b[0;32m/usr/local/lib/python3.10/dist-packages/pandas/io/parsers/readers.py\u001b[0m in \u001b[0;36m__init__\u001b[0;34m(self, f, engine, **kwds)\u001b[0m\n\u001b[1;32m   1440\u001b[0m \u001b[0;34m\u001b[0m\u001b[0m\n\u001b[1;32m   1441\u001b[0m         \u001b[0mself\u001b[0m\u001b[0;34m.\u001b[0m\u001b[0mhandles\u001b[0m\u001b[0;34m:\u001b[0m \u001b[0mIOHandles\u001b[0m \u001b[0;34m|\u001b[0m \u001b[0;32mNone\u001b[0m \u001b[0;34m=\u001b[0m \u001b[0;32mNone\u001b[0m\u001b[0;34m\u001b[0m\u001b[0;34m\u001b[0m\u001b[0m\n\u001b[0;32m-> 1442\u001b[0;31m         \u001b[0mself\u001b[0m\u001b[0;34m.\u001b[0m\u001b[0m_engine\u001b[0m \u001b[0;34m=\u001b[0m \u001b[0mself\u001b[0m\u001b[0;34m.\u001b[0m\u001b[0m_make_engine\u001b[0m\u001b[0;34m(\u001b[0m\u001b[0mf\u001b[0m\u001b[0;34m,\u001b[0m \u001b[0mself\u001b[0m\u001b[0;34m.\u001b[0m\u001b[0mengine\u001b[0m\u001b[0;34m)\u001b[0m\u001b[0;34m\u001b[0m\u001b[0;34m\u001b[0m\u001b[0m\n\u001b[0m\u001b[1;32m   1443\u001b[0m \u001b[0;34m\u001b[0m\u001b[0m\n\u001b[1;32m   1444\u001b[0m     \u001b[0;32mdef\u001b[0m \u001b[0mclose\u001b[0m\u001b[0;34m(\u001b[0m\u001b[0mself\u001b[0m\u001b[0;34m)\u001b[0m \u001b[0;34m->\u001b[0m \u001b[0;32mNone\u001b[0m\u001b[0;34m:\u001b[0m\u001b[0;34m\u001b[0m\u001b[0;34m\u001b[0m\u001b[0m\n",
      "\u001b[0;32m/usr/local/lib/python3.10/dist-packages/pandas/io/parsers/readers.py\u001b[0m in \u001b[0;36m_make_engine\u001b[0;34m(self, f, engine)\u001b[0m\n\u001b[1;32m   1733\u001b[0m                 \u001b[0;32mif\u001b[0m \u001b[0;34m\"b\"\u001b[0m \u001b[0;32mnot\u001b[0m \u001b[0;32min\u001b[0m \u001b[0mmode\u001b[0m\u001b[0;34m:\u001b[0m\u001b[0;34m\u001b[0m\u001b[0;34m\u001b[0m\u001b[0m\n\u001b[1;32m   1734\u001b[0m                     \u001b[0mmode\u001b[0m \u001b[0;34m+=\u001b[0m \u001b[0;34m\"b\"\u001b[0m\u001b[0;34m\u001b[0m\u001b[0;34m\u001b[0m\u001b[0m\n\u001b[0;32m-> 1735\u001b[0;31m             self.handles = get_handle(\n\u001b[0m\u001b[1;32m   1736\u001b[0m                 \u001b[0mf\u001b[0m\u001b[0;34m,\u001b[0m\u001b[0;34m\u001b[0m\u001b[0;34m\u001b[0m\u001b[0m\n\u001b[1;32m   1737\u001b[0m                 \u001b[0mmode\u001b[0m\u001b[0;34m,\u001b[0m\u001b[0;34m\u001b[0m\u001b[0;34m\u001b[0m\u001b[0m\n",
      "\u001b[0;32m/usr/local/lib/python3.10/dist-packages/pandas/io/common.py\u001b[0m in \u001b[0;36mget_handle\u001b[0;34m(path_or_buf, mode, encoding, compression, memory_map, is_text, errors, storage_options)\u001b[0m\n\u001b[1;32m    854\u001b[0m         \u001b[0;32mif\u001b[0m \u001b[0mioargs\u001b[0m\u001b[0;34m.\u001b[0m\u001b[0mencoding\u001b[0m \u001b[0;32mand\u001b[0m \u001b[0;34m\"b\"\u001b[0m \u001b[0;32mnot\u001b[0m \u001b[0;32min\u001b[0m \u001b[0mioargs\u001b[0m\u001b[0;34m.\u001b[0m\u001b[0mmode\u001b[0m\u001b[0;34m:\u001b[0m\u001b[0;34m\u001b[0m\u001b[0;34m\u001b[0m\u001b[0m\n\u001b[1;32m    855\u001b[0m             \u001b[0;31m# Encoding\u001b[0m\u001b[0;34m\u001b[0m\u001b[0;34m\u001b[0m\u001b[0m\n\u001b[0;32m--> 856\u001b[0;31m             handle = open(\n\u001b[0m\u001b[1;32m    857\u001b[0m                 \u001b[0mhandle\u001b[0m\u001b[0;34m,\u001b[0m\u001b[0;34m\u001b[0m\u001b[0;34m\u001b[0m\u001b[0m\n\u001b[1;32m    858\u001b[0m                 \u001b[0mioargs\u001b[0m\u001b[0;34m.\u001b[0m\u001b[0mmode\u001b[0m\u001b[0;34m,\u001b[0m\u001b[0;34m\u001b[0m\u001b[0;34m\u001b[0m\u001b[0m\n",
      "\u001b[0;31mFileNotFoundError\u001b[0m: [Errno 2] No such file or directory: 'HeartDiseaseUCI.csv'"
     ]
    }
   ],
   "source": [
    "fichier=\"HeartDiseaseUCI.csv\"\n",
    "data = pd.read_csv(fichier, index_col=0)"
   ]
  },
  {
   "cell_type": "code",
   "execution_count": null,
   "metadata": {
    "id": "ec9vQS7uRXhF"
   },
   "outputs": [],
   "source": []
  },
  {
   "cell_type": "code",
   "execution_count": null,
   "metadata": {
    "ExecuteTime": {
     "end_time": "2023-05-25T19:37:53.927132Z",
     "start_time": "2023-05-25T19:37:53.880338Z"
    },
    "id": "L2XNUa0dRXhF",
    "outputId": "48d64c10-886c-4e3a-eb86-9e5de1c1505a"
   },
   "outputs": [
    {
     "data": {
      "text/html": [
       "<div>\n",
       "<style scoped>\n",
       "    .dataframe tbody tr th:only-of-type {\n",
       "        vertical-align: middle;\n",
       "    }\n",
       "\n",
       "    .dataframe tbody tr th {\n",
       "        vertical-align: top;\n",
       "    }\n",
       "\n",
       "    .dataframe thead th {\n",
       "        text-align: right;\n",
       "    }\n",
       "</style>\n",
       "<table border=\"1\" class=\"dataframe\">\n",
       "  <thead>\n",
       "    <tr style=\"text-align: right;\">\n",
       "      <th></th>\n",
       "      <th>age</th>\n",
       "      <th>sex</th>\n",
       "      <th>cp</th>\n",
       "      <th>trestbps</th>\n",
       "      <th>chol</th>\n",
       "      <th>fbs</th>\n",
       "      <th>restecg</th>\n",
       "      <th>thalach</th>\n",
       "      <th>exang</th>\n",
       "      <th>oldpeak</th>\n",
       "      <th>slope</th>\n",
       "      <th>ca</th>\n",
       "      <th>thal</th>\n",
       "      <th>num</th>\n",
       "    </tr>\n",
       "  </thead>\n",
       "  <tbody>\n",
       "    <tr>\n",
       "      <th>1</th>\n",
       "      <td>63</td>\n",
       "      <td>1</td>\n",
       "      <td>1</td>\n",
       "      <td>145</td>\n",
       "      <td>233</td>\n",
       "      <td>1</td>\n",
       "      <td>2</td>\n",
       "      <td>150</td>\n",
       "      <td>0</td>\n",
       "      <td>2.3</td>\n",
       "      <td>3</td>\n",
       "      <td>0.0</td>\n",
       "      <td>6.0</td>\n",
       "      <td>0</td>\n",
       "    </tr>\n",
       "    <tr>\n",
       "      <th>2</th>\n",
       "      <td>67</td>\n",
       "      <td>1</td>\n",
       "      <td>4</td>\n",
       "      <td>160</td>\n",
       "      <td>286</td>\n",
       "      <td>0</td>\n",
       "      <td>2</td>\n",
       "      <td>108</td>\n",
       "      <td>1</td>\n",
       "      <td>1.5</td>\n",
       "      <td>2</td>\n",
       "      <td>3.0</td>\n",
       "      <td>3.0</td>\n",
       "      <td>2</td>\n",
       "    </tr>\n",
       "    <tr>\n",
       "      <th>3</th>\n",
       "      <td>67</td>\n",
       "      <td>1</td>\n",
       "      <td>4</td>\n",
       "      <td>120</td>\n",
       "      <td>229</td>\n",
       "      <td>0</td>\n",
       "      <td>2</td>\n",
       "      <td>129</td>\n",
       "      <td>1</td>\n",
       "      <td>2.6</td>\n",
       "      <td>2</td>\n",
       "      <td>2.0</td>\n",
       "      <td>7.0</td>\n",
       "      <td>1</td>\n",
       "    </tr>\n",
       "    <tr>\n",
       "      <th>4</th>\n",
       "      <td>37</td>\n",
       "      <td>1</td>\n",
       "      <td>3</td>\n",
       "      <td>130</td>\n",
       "      <td>250</td>\n",
       "      <td>0</td>\n",
       "      <td>0</td>\n",
       "      <td>187</td>\n",
       "      <td>0</td>\n",
       "      <td>3.5</td>\n",
       "      <td>3</td>\n",
       "      <td>0.0</td>\n",
       "      <td>3.0</td>\n",
       "      <td>0</td>\n",
       "    </tr>\n",
       "    <tr>\n",
       "      <th>5</th>\n",
       "      <td>41</td>\n",
       "      <td>0</td>\n",
       "      <td>2</td>\n",
       "      <td>130</td>\n",
       "      <td>204</td>\n",
       "      <td>0</td>\n",
       "      <td>2</td>\n",
       "      <td>172</td>\n",
       "      <td>0</td>\n",
       "      <td>1.4</td>\n",
       "      <td>1</td>\n",
       "      <td>0.0</td>\n",
       "      <td>3.0</td>\n",
       "      <td>0</td>\n",
       "    </tr>\n",
       "  </tbody>\n",
       "</table>\n",
       "</div>"
      ],
      "text/plain": [
       "   age  sex  cp  trestbps  chol  fbs  restecg  thalach  exang  oldpeak  slope  \\\n",
       "1   63    1   1       145   233    1        2      150      0      2.3      3   \n",
       "2   67    1   4       160   286    0        2      108      1      1.5      2   \n",
       "3   67    1   4       120   229    0        2      129      1      2.6      2   \n",
       "4   37    1   3       130   250    0        0      187      0      3.5      3   \n",
       "5   41    0   2       130   204    0        2      172      0      1.4      1   \n",
       "\n",
       "    ca  thal  num  \n",
       "1  0.0   6.0    0  \n",
       "2  3.0   3.0    2  \n",
       "3  2.0   7.0    1  \n",
       "4  0.0   3.0    0  \n",
       "5  0.0   3.0    0  "
      ]
     },
     "execution_count": 4,
     "metadata": {},
     "output_type": "execute_result"
    }
   ],
   "source": [
    "data.head()"
   ]
  },
  {
   "cell_type": "markdown",
   "metadata": {
    "id": "Xrd597pfRXhG"
   },
   "source": [
    "## Explorer la base de donnees"
   ]
  },
  {
   "cell_type": "markdown",
   "metadata": {
    "id": "kiAC_bRJRXhH"
   },
   "source": [
    "### Analyse exploration: Analysez vos données sans effort avec Pandas-profiling\n"
   ]
  },
  {
   "cell_type": "code",
   "execution_count": null,
   "metadata": {
    "ExecuteTime": {
     "end_time": "2023-05-25T19:37:53.950871Z",
     "start_time": "2023-05-25T19:37:53.931117Z"
    },
    "id": "HYGo5swXRXhH"
   },
   "outputs": [],
   "source": [
    "#pip install pandas_profiling"
   ]
  },
  {
   "cell_type": "code",
   "execution_count": null,
   "metadata": {
    "ExecuteTime": {
     "end_time": "2023-05-25T19:38:20.256683Z",
     "start_time": "2023-05-25T19:37:53.954869Z"
    },
    "colab": {
     "referenced_widgets": [
      "923c423085bd424ea02c1461ed9839a8",
      "e8ab61197c274e11a6039c686299123a",
      "9c1e44d0cc5f44d786d818f894229c70",
      "0af20ccf850d4747a0a5f0db948bbfe0"
     ]
    },
    "id": "vM6pANpHRXhI",
    "outputId": "7d27f2ef-e1ff-4f70-8a94-3651fabc0690"
   },
   "outputs": [
    {
     "data": {
      "application/vnd.jupyter.widget-view+json": {
       "model_id": "923c423085bd424ea02c1461ed9839a8",
       "version_major": 2,
       "version_minor": 0
      },
      "text/plain": [
       "Summarize dataset:   0%|          | 0/5 [00:00<?, ?it/s]"
      ]
     },
     "metadata": {},
     "output_type": "display_data"
    },
    {
     "data": {
      "application/vnd.jupyter.widget-view+json": {
       "model_id": "e8ab61197c274e11a6039c686299123a",
       "version_major": 2,
       "version_minor": 0
      },
      "text/plain": [
       "Generate report structure:   0%|          | 0/1 [00:00<?, ?it/s]"
      ]
     },
     "metadata": {},
     "output_type": "display_data"
    },
    {
     "data": {
      "application/vnd.jupyter.widget-view+json": {
       "model_id": "9c1e44d0cc5f44d786d818f894229c70",
       "version_major": 2,
       "version_minor": 0
      },
      "text/plain": [
       "Render HTML:   0%|          | 0/1 [00:00<?, ?it/s]"
      ]
     },
     "metadata": {},
     "output_type": "display_data"
    },
    {
     "data": {
      "application/vnd.jupyter.widget-view+json": {
       "model_id": "0af20ccf850d4747a0a5f0db948bbfe0",
       "version_major": 2,
       "version_minor": 0
      },
      "text/plain": [
       "Export report to file:   0%|          | 0/1 [00:00<?, ?it/s]"
      ]
     },
     "metadata": {},
     "output_type": "display_data"
    }
   ],
   "source": [
    "#https://github.com/pandas-profiling/pandas-profiling\n",
    "#https://www.datacorner.fr/pandas-profiling/\n",
    "from pandas_profiling import ProfileReport\n",
    "data.sample(100).profile_report().to_file(\"report_heart2004.html\")"
   ]
  },
  {
   "cell_type": "markdown",
   "metadata": {
    "id": "tfmswaELRXhJ"
   },
   "source": [
    "### Quantification de données non pertinentes"
   ]
  },
  {
   "cell_type": "code",
   "execution_count": null,
   "metadata": {
    "ExecuteTime": {
     "end_time": "2023-05-25T19:38:20.287195Z",
     "start_time": "2023-05-25T19:38:20.258179Z"
    },
    "id": "noCRQ1SXRXhJ",
    "outputId": "a0ea2d3e-f4d4-4a92-c7b4-c9a4e0859aae"
   },
   "outputs": [
    {
     "data": {
      "text/html": [
       "<div>\n",
       "<style scoped>\n",
       "    .dataframe tbody tr th:only-of-type {\n",
       "        vertical-align: middle;\n",
       "    }\n",
       "\n",
       "    .dataframe tbody tr th {\n",
       "        vertical-align: top;\n",
       "    }\n",
       "\n",
       "    .dataframe thead th {\n",
       "        text-align: right;\n",
       "    }\n",
       "</style>\n",
       "<table border=\"1\" class=\"dataframe\">\n",
       "  <thead>\n",
       "    <tr style=\"text-align: right;\">\n",
       "      <th></th>\n",
       "      <th>age</th>\n",
       "      <th>sex</th>\n",
       "      <th>cp</th>\n",
       "      <th>trestbps</th>\n",
       "      <th>chol</th>\n",
       "      <th>fbs</th>\n",
       "      <th>restecg</th>\n",
       "      <th>thalach</th>\n",
       "      <th>exang</th>\n",
       "      <th>oldpeak</th>\n",
       "      <th>slope</th>\n",
       "      <th>ca</th>\n",
       "      <th>thal</th>\n",
       "      <th>num</th>\n",
       "    </tr>\n",
       "  </thead>\n",
       "  <tbody>\n",
       "    <tr>\n",
       "      <th>1</th>\n",
       "      <td>63</td>\n",
       "      <td>1</td>\n",
       "      <td>1</td>\n",
       "      <td>145</td>\n",
       "      <td>233</td>\n",
       "      <td>1</td>\n",
       "      <td>2</td>\n",
       "      <td>150</td>\n",
       "      <td>0</td>\n",
       "      <td>2.3</td>\n",
       "      <td>3</td>\n",
       "      <td>0.0</td>\n",
       "      <td>6.0</td>\n",
       "      <td>0</td>\n",
       "    </tr>\n",
       "    <tr>\n",
       "      <th>2</th>\n",
       "      <td>67</td>\n",
       "      <td>1</td>\n",
       "      <td>4</td>\n",
       "      <td>160</td>\n",
       "      <td>286</td>\n",
       "      <td>0</td>\n",
       "      <td>2</td>\n",
       "      <td>108</td>\n",
       "      <td>1</td>\n",
       "      <td>1.5</td>\n",
       "      <td>2</td>\n",
       "      <td>3.0</td>\n",
       "      <td>3.0</td>\n",
       "      <td>2</td>\n",
       "    </tr>\n",
       "    <tr>\n",
       "      <th>3</th>\n",
       "      <td>67</td>\n",
       "      <td>1</td>\n",
       "      <td>4</td>\n",
       "      <td>120</td>\n",
       "      <td>229</td>\n",
       "      <td>0</td>\n",
       "      <td>2</td>\n",
       "      <td>129</td>\n",
       "      <td>1</td>\n",
       "      <td>2.6</td>\n",
       "      <td>2</td>\n",
       "      <td>2.0</td>\n",
       "      <td>7.0</td>\n",
       "      <td>1</td>\n",
       "    </tr>\n",
       "    <tr>\n",
       "      <th>4</th>\n",
       "      <td>37</td>\n",
       "      <td>1</td>\n",
       "      <td>3</td>\n",
       "      <td>130</td>\n",
       "      <td>250</td>\n",
       "      <td>0</td>\n",
       "      <td>0</td>\n",
       "      <td>187</td>\n",
       "      <td>0</td>\n",
       "      <td>3.5</td>\n",
       "      <td>3</td>\n",
       "      <td>0.0</td>\n",
       "      <td>3.0</td>\n",
       "      <td>0</td>\n",
       "    </tr>\n",
       "    <tr>\n",
       "      <th>5</th>\n",
       "      <td>41</td>\n",
       "      <td>0</td>\n",
       "      <td>2</td>\n",
       "      <td>130</td>\n",
       "      <td>204</td>\n",
       "      <td>0</td>\n",
       "      <td>2</td>\n",
       "      <td>172</td>\n",
       "      <td>0</td>\n",
       "      <td>1.4</td>\n",
       "      <td>1</td>\n",
       "      <td>0.0</td>\n",
       "      <td>3.0</td>\n",
       "      <td>0</td>\n",
       "    </tr>\n",
       "  </tbody>\n",
       "</table>\n",
       "</div>"
      ],
      "text/plain": [
       "   age  sex  cp  trestbps  chol  fbs  restecg  thalach  exang  oldpeak  slope  \\\n",
       "1   63    1   1       145   233    1        2      150      0      2.3      3   \n",
       "2   67    1   4       160   286    0        2      108      1      1.5      2   \n",
       "3   67    1   4       120   229    0        2      129      1      2.6      2   \n",
       "4   37    1   3       130   250    0        0      187      0      3.5      3   \n",
       "5   41    0   2       130   204    0        2      172      0      1.4      1   \n",
       "\n",
       "    ca  thal  num  \n",
       "1  0.0   6.0    0  \n",
       "2  3.0   3.0    2  \n",
       "3  2.0   7.0    1  \n",
       "4  0.0   3.0    0  \n",
       "5  0.0   3.0    0  "
      ]
     },
     "execution_count": 7,
     "metadata": {},
     "output_type": "execute_result"
    }
   ],
   "source": [
    "data.head()"
   ]
  },
  {
   "cell_type": "markdown",
   "metadata": {
    "id": "vTvtLMLIRXhK"
   },
   "source": [
    "### Quantification de données manquantes"
   ]
  },
  {
   "cell_type": "code",
   "execution_count": null,
   "metadata": {
    "ExecuteTime": {
     "end_time": "2023-05-25T19:38:20.318594Z",
     "start_time": "2023-05-25T19:38:20.293155Z"
    },
    "id": "4JMLD2M3RXhK",
    "outputId": "57dddf80-fb28-4cf3-e106-af1556dcfcd1"
   },
   "outputs": [
    {
     "data": {
      "text/plain": [
       "age         0\n",
       "sex         0\n",
       "cp          0\n",
       "trestbps    0\n",
       "chol        0\n",
       "fbs         0\n",
       "restecg     0\n",
       "thalach     0\n",
       "exang       0\n",
       "oldpeak     0\n",
       "slope       0\n",
       "ca          4\n",
       "thal        2\n",
       "num         0\n",
       "dtype: int64"
      ]
     },
     "execution_count": 8,
     "metadata": {},
     "output_type": "execute_result"
    }
   ],
   "source": [
    "data.isna().sum()  #cependant il nous manque 4 infos sur la variable ca et 2 sur thal\n",
    "#Attention, faudra traiter ces donnnees manquantes, aucun modele d'ia ne prend en compte les nan"
   ]
  },
  {
   "cell_type": "code",
   "execution_count": null,
   "metadata": {
    "ExecuteTime": {
     "end_time": "2023-05-25T19:38:20.334539Z",
     "start_time": "2023-05-25T19:38:20.321585Z"
    },
    "id": "rFipAmpcRXhL",
    "outputId": "050d9d48-227a-4d68-a61a-c9078fd88a47"
   },
   "outputs": [
    {
     "data": {
      "text/plain": [
       "6"
      ]
     },
     "execution_count": 9,
     "metadata": {},
     "output_type": "execute_result"
    }
   ],
   "source": [
    "data.isna().sum().sum()  #On a moins de 1% de donnees manquantes"
   ]
  },
  {
   "cell_type": "markdown",
   "metadata": {
    "id": "dFnrLhk8RXhM"
   },
   "source": [
    "### Quantification de données dupliquées"
   ]
  },
  {
   "cell_type": "code",
   "execution_count": null,
   "metadata": {
    "ExecuteTime": {
     "end_time": "2023-05-25T19:38:20.350486Z",
     "start_time": "2023-05-25T19:38:20.336534Z"
    },
    "id": "n200Cte2RXhM",
    "outputId": "471e955a-fce1-485b-f652-5e68a1c08245"
   },
   "outputs": [
    {
     "data": {
      "text/plain": [
       "0"
      ]
     },
     "execution_count": 10,
     "metadata": {},
     "output_type": "execute_result"
    }
   ],
   "source": [
    "data.duplicated().sum() #aucune observation n 'est dupliquée"
   ]
  },
  {
   "cell_type": "markdown",
   "metadata": {
    "id": "nP7urDjbRXhN"
   },
   "source": [
    "### Quantification de données aberrantes"
   ]
  },
  {
   "cell_type": "code",
   "execution_count": null,
   "metadata": {
    "ExecuteTime": {
     "end_time": "2023-05-25T19:38:20.520786Z",
     "start_time": "2023-05-25T19:38:20.354473Z"
    },
    "id": "_3N3ZrDKRXhO",
    "outputId": "504094fa-435e-4e49-ea6c-462347924c0d"
   },
   "outputs": [
    {
     "data": {
      "text/plain": [
       "<Axes: >"
      ]
     },
     "execution_count": 11,
     "metadata": {},
     "output_type": "execute_result"
    }
   ],
   "source": [
    "data.chol.plot(kind=\"box\")    #min, Q1,mediane,Q3, max"
   ]
  },
  {
   "cell_type": "code",
   "execution_count": null,
   "metadata": {
    "ExecuteTime": {
     "end_time": "2023-05-25T19:38:20.720749Z",
     "start_time": "2023-05-25T19:38:20.522780Z"
    },
    "id": "cLL82ePyRXhO",
    "outputId": "4d6ff6f1-1896-4336-adee-d97d9e4394ad"
   },
   "outputs": [
    {
     "data": {
      "text/plain": [
       "<Axes: ylabel='count'>"
      ]
     },
     "execution_count": 12,
     "metadata": {},
     "output_type": "execute_result"
    }
   ],
   "source": [
    "plt.figure(figsize = (15,5))\n",
    "\n",
    "data.num.value_counts().plot(kind=\"pie\", autopct='%1.2f%%', labels=[\"saine\",\"benine\",\"malade\",\"tres malade\",\"grave!\"])"
   ]
  },
  {
   "cell_type": "code",
   "execution_count": null,
   "metadata": {
    "ExecuteTime": {
     "end_time": "2023-05-25T19:38:20.752455Z",
     "start_time": "2023-05-25T19:38:20.720749Z"
    },
    "id": "qcO6FC97RXhP",
    "outputId": "496945d3-5abf-4ad4-b49c-c7bacb369c65"
   },
   "outputs": [
    {
     "data": {
      "text/plain": [
       "num\n",
       "0    164\n",
       "1     55\n",
       "2     36\n",
       "3     35\n",
       "4     13\n",
       "Name: count, dtype: int64"
      ]
     },
     "execution_count": 13,
     "metadata": {},
     "output_type": "execute_result"
    }
   ],
   "source": [
    "data.num.value_counts()"
   ]
  },
  {
   "cell_type": "code",
   "execution_count": null,
   "metadata": {
    "ExecuteTime": {
     "end_time": "2023-05-25T19:38:20.768399Z",
     "start_time": "2023-05-25T19:38:20.756410Z"
    },
    "id": "2MmZAaIARXhQ"
   },
   "outputs": [],
   "source": [
    "data.num=data.num.apply(lambda x:1 if x>=1 else 0)"
   ]
  },
  {
   "cell_type": "code",
   "execution_count": null,
   "metadata": {
    "ExecuteTime": {
     "end_time": "2023-05-25T19:38:20.898924Z",
     "start_time": "2023-05-25T19:38:20.771363Z"
    },
    "id": "rxJMow2kRXhQ",
    "outputId": "3b40ac19-0cc0-4bb2-813b-11b6b538176e"
   },
   "outputs": [
    {
     "data": {
      "text/plain": [
       "<Axes: ylabel='count'>"
      ]
     },
     "execution_count": 15,
     "metadata": {},
     "output_type": "execute_result"
    }
   ],
   "source": [
    "data.num.value_counts().plot(kind=\"pie\", autopct='%1.2f%%', labels=[\"saine\",\"malade\"])"
   ]
  },
  {
   "cell_type": "code",
   "execution_count": null,
   "metadata": {
    "ExecuteTime": {
     "end_time": "2023-05-25T19:38:20.945576Z",
     "start_time": "2023-05-25T19:38:20.898924Z"
    },
    "id": "fprDfDVLRXhR",
    "outputId": "191d6372-1fbc-42a2-d999-20c71996b377"
   },
   "outputs": [
    {
     "data": {
      "text/html": [
       "<div>\n",
       "<style scoped>\n",
       "    .dataframe tbody tr th:only-of-type {\n",
       "        vertical-align: middle;\n",
       "    }\n",
       "\n",
       "    .dataframe tbody tr th {\n",
       "        vertical-align: top;\n",
       "    }\n",
       "\n",
       "    .dataframe thead th {\n",
       "        text-align: right;\n",
       "    }\n",
       "</style>\n",
       "<table border=\"1\" class=\"dataframe\">\n",
       "  <thead>\n",
       "    <tr style=\"text-align: right;\">\n",
       "      <th></th>\n",
       "      <th>age</th>\n",
       "      <th>genre</th>\n",
       "      <th>cp</th>\n",
       "      <th>trestbps</th>\n",
       "      <th>chol</th>\n",
       "      <th>fbs</th>\n",
       "      <th>restecg</th>\n",
       "      <th>thalach</th>\n",
       "      <th>exang</th>\n",
       "      <th>oldpeak</th>\n",
       "      <th>slope</th>\n",
       "      <th>ca</th>\n",
       "      <th>thal</th>\n",
       "      <th>desease</th>\n",
       "    </tr>\n",
       "  </thead>\n",
       "  <tbody>\n",
       "    <tr>\n",
       "      <th>1</th>\n",
       "      <td>63</td>\n",
       "      <td>1</td>\n",
       "      <td>1</td>\n",
       "      <td>145</td>\n",
       "      <td>233</td>\n",
       "      <td>1</td>\n",
       "      <td>2</td>\n",
       "      <td>150</td>\n",
       "      <td>0</td>\n",
       "      <td>2.3</td>\n",
       "      <td>3</td>\n",
       "      <td>0.0</td>\n",
       "      <td>6.0</td>\n",
       "      <td>0</td>\n",
       "    </tr>\n",
       "    <tr>\n",
       "      <th>2</th>\n",
       "      <td>67</td>\n",
       "      <td>1</td>\n",
       "      <td>4</td>\n",
       "      <td>160</td>\n",
       "      <td>286</td>\n",
       "      <td>0</td>\n",
       "      <td>2</td>\n",
       "      <td>108</td>\n",
       "      <td>1</td>\n",
       "      <td>1.5</td>\n",
       "      <td>2</td>\n",
       "      <td>3.0</td>\n",
       "      <td>3.0</td>\n",
       "      <td>1</td>\n",
       "    </tr>\n",
       "    <tr>\n",
       "      <th>3</th>\n",
       "      <td>67</td>\n",
       "      <td>1</td>\n",
       "      <td>4</td>\n",
       "      <td>120</td>\n",
       "      <td>229</td>\n",
       "      <td>0</td>\n",
       "      <td>2</td>\n",
       "      <td>129</td>\n",
       "      <td>1</td>\n",
       "      <td>2.6</td>\n",
       "      <td>2</td>\n",
       "      <td>2.0</td>\n",
       "      <td>7.0</td>\n",
       "      <td>1</td>\n",
       "    </tr>\n",
       "    <tr>\n",
       "      <th>4</th>\n",
       "      <td>37</td>\n",
       "      <td>1</td>\n",
       "      <td>3</td>\n",
       "      <td>130</td>\n",
       "      <td>250</td>\n",
       "      <td>0</td>\n",
       "      <td>0</td>\n",
       "      <td>187</td>\n",
       "      <td>0</td>\n",
       "      <td>3.5</td>\n",
       "      <td>3</td>\n",
       "      <td>0.0</td>\n",
       "      <td>3.0</td>\n",
       "      <td>0</td>\n",
       "    </tr>\n",
       "    <tr>\n",
       "      <th>5</th>\n",
       "      <td>41</td>\n",
       "      <td>0</td>\n",
       "      <td>2</td>\n",
       "      <td>130</td>\n",
       "      <td>204</td>\n",
       "      <td>0</td>\n",
       "      <td>2</td>\n",
       "      <td>172</td>\n",
       "      <td>0</td>\n",
       "      <td>1.4</td>\n",
       "      <td>1</td>\n",
       "      <td>0.0</td>\n",
       "      <td>3.0</td>\n",
       "      <td>0</td>\n",
       "    </tr>\n",
       "  </tbody>\n",
       "</table>\n",
       "</div>"
      ],
      "text/plain": [
       "   age  genre  cp  trestbps  chol  fbs  restecg  thalach  exang  oldpeak  \\\n",
       "1   63      1   1       145   233    1        2      150      0      2.3   \n",
       "2   67      1   4       160   286    0        2      108      1      1.5   \n",
       "3   67      1   4       120   229    0        2      129      1      2.6   \n",
       "4   37      1   3       130   250    0        0      187      0      3.5   \n",
       "5   41      0   2       130   204    0        2      172      0      1.4   \n",
       "\n",
       "   slope   ca  thal  desease  \n",
       "1      3  0.0   6.0        0  \n",
       "2      2  3.0   3.0        1  \n",
       "3      2  2.0   7.0        1  \n",
       "4      3  0.0   3.0        0  \n",
       "5      1  0.0   3.0        0  "
      ]
     },
     "execution_count": 16,
     "metadata": {},
     "output_type": "execute_result"
    }
   ],
   "source": [
    "data.rename(columns={\"num\":\"desease\"}, inplace=True)\n",
    "data.rename(columns={\"sex\":\"genre\"}, inplace=True)\n",
    "\n",
    "data.head()"
   ]
  },
  {
   "cell_type": "raw",
   "metadata": {
    "ExecuteTime": {
     "end_time": "2023-04-20T10:02:47.520148Z",
     "start_time": "2023-04-20T10:02:47.489484Z"
    },
    "id": "vBbEd81DRXhS"
   },
   "source": [
    "data.columns=[\"age\", \"genre\",\"type de douleur thoracique\", \"tension artérielle au repos\",]\n",
    "sexe : sexe (1 = masculin, 0 = féminin)\n",
    "cp : type de douleur thoracique (Valeur 1 : angine typique, Valeur 2 : angine atypique, Valeur 3 : douleur non angineuse, Valeur 4 : asymptomatique)\n",
    "trestbps : tension artérielle au repos (en mm Hg à l'admission à l'hôpital)\n",
    "chol : cholestérol sérique en mg/dl\n",
    "fbs : (glycémie à jeun > 120 mg/dl) (1 = vrai ; 0 = faux)\n",
    "restecg : résultats électrocardiographiques au repos (Valeur 0 : normal, Valeur 1 : présentant une anomalie de l'onde ST-T (inversions de l'onde T et/ou élévation ou dépression du segment ST > 0,05 mV), Valeur 2 : montrant une hypertrophie ventriculaire gauche probable ou certaine selon Estes Critères)\n",
    "thalach : fréquence cardiaque maximale atteinte\n",
    "exemple : angine de poitrine induite par l'effort (1 = oui, 0 = non)\n",
    "oldpeak = dépression ST induite par l'exercice par rapport au repos\n",
    "pente : la pente du segment ST d'exercice maximal (Valeur 1 : montante, Valeur 2 : plate, Valeur 3 : descendante)\n",
    "ca : nombre de gros vaisseaux (0-3) colorés par fluoroscopie\n",
    "thal : (Valeur 3 : normal, Valeur 6 = défaut fixe, Valeur 7 = défaut réversible)\n",
    "num : n"
   ]
  },
  {
   "cell_type": "code",
   "execution_count": null,
   "metadata": {
    "ExecuteTime": {
     "end_time": "2023-05-25T19:38:23.679003Z",
     "start_time": "2023-05-25T19:38:20.948537Z"
    },
    "id": "h-sf6QEERXhT"
   },
   "outputs": [],
   "source": [
    "data.plot(kind='density',\n",
    "        subplots=True, layout=(4,5), sharex=False, sharey=False, figsize=(18,18))\n",
    "plt.show()"
   ]
  },
  {
   "cell_type": "markdown",
   "metadata": {
    "id": "iTaudESmRXhU"
   },
   "source": [
    "### Correlation entre variables"
   ]
  },
  {
   "cell_type": "code",
   "execution_count": null,
   "metadata": {
    "ExecuteTime": {
     "end_time": "2023-05-25T19:38:25.323462Z",
     "start_time": "2023-05-25T19:38:23.681972Z"
    },
    "id": "wzFSyAiBRXhU",
    "outputId": "dde4df81-9e0e-485c-ca97-d4943c00af13"
   },
   "outputs": [
    {
     "data": {
      "text/plain": [
       "<Axes: >"
      ]
     },
     "execution_count": 18,
     "metadata": {},
     "output_type": "execute_result"
    }
   ],
   "source": [
    "f, ax = plt.subplots(figsize=(20, 10))    #1 correspond à 2.54cm\n",
    "\n",
    "sns.heatmap(data.corr(),annot=True,fmt=\"1.3f\",cmap='coolwarm')"
   ]
  },
  {
   "cell_type": "markdown",
   "metadata": {
    "id": "avTzF8y1RXhV"
   },
   "source": [
    "On voit que les deux variables les plus correlées (lineairement) dans ce dataset sont oldpeak et ca.\n",
    "Cela veut dire que la connaissance de la dépression ST induite par l'exercice par rapport au repos est tres importante pour pouvoir predire le nombre de gros vaisseaux (0-3) colorés par fluoroscopie"
   ]
  },
  {
   "cell_type": "code",
   "execution_count": null,
   "metadata": {
    "ExecuteTime": {
     "end_time": "2023-05-25T19:38:25.492200Z",
     "start_time": "2023-05-25T19:38:25.323462Z"
    },
    "id": "r8Au95YdRXhV",
    "outputId": "271c2d15-1d12-4c1a-aa63-7499b01ae7c0"
   },
   "outputs": [
    {
     "data": {
      "text/plain": [
       "<Axes: xlabel='desease', ylabel='age'>"
      ]
     },
     "execution_count": 19,
     "metadata": {},
     "output_type": "execute_result"
    }
   ],
   "source": [
    "\n",
    "sns.boxplot(y='age',x=\"desease\",showmeans=True,showfliers=False,data=data)"
   ]
  },
  {
   "cell_type": "code",
   "execution_count": null,
   "metadata": {
    "id": "5tAKM_CCRXhW"
   },
   "outputs": [],
   "source": []
  },
  {
   "cell_type": "markdown",
   "metadata": {
    "id": "bTAEJyiBRXhX"
   },
   "source": [
    "## Nettoyage la base de donnees"
   ]
  },
  {
   "cell_type": "markdown",
   "metadata": {
    "id": "64Mw-7fKRXhX"
   },
   "source": [
    "Les outils de dataprep proposent ensuite des fonctionnalités pour nettoyer les données (data cleansing). Le nettoyage des données est indispensable pour disposer de data sets fiables, valides et exploitables."
   ]
  },
  {
   "cell_type": "markdown",
   "metadata": {
    "id": "9ZAq1ywlRXhX"
   },
   "source": [
    "### Traitement des données duppliquées\n"
   ]
  },
  {
   "cell_type": "code",
   "execution_count": null,
   "metadata": {
    "ExecuteTime": {
     "end_time": "2023-05-25T19:38:25.508171Z",
     "start_time": "2023-05-25T19:38:25.495192Z"
    },
    "id": "7deosEVqRXhY",
    "outputId": "c330b7d1-2ea3-45f7-8e32-1bc25d952a8b"
   },
   "outputs": [
    {
     "data": {
      "text/plain": [
       "0"
      ]
     },
     "execution_count": 20,
     "metadata": {},
     "output_type": "execute_result"
    }
   ],
   "source": [
    "data.duplicated().sum()  #aucune ligne n'est dupliquée à 100%"
   ]
  },
  {
   "cell_type": "code",
   "execution_count": null,
   "metadata": {
    "ExecuteTime": {
     "end_time": "2023-05-25T19:38:25.534801Z",
     "start_time": "2023-05-25T19:38:25.511162Z"
    },
    "id": "NhnoDQ74RXhZ",
    "outputId": "c2680957-b4a8-4b80-993b-b3bac87a30ea"
   },
   "outputs": [
    {
     "data": {
      "text/html": [
       "<div>\n",
       "<style scoped>\n",
       "    .dataframe tbody tr th:only-of-type {\n",
       "        vertical-align: middle;\n",
       "    }\n",
       "\n",
       "    .dataframe tbody tr th {\n",
       "        vertical-align: top;\n",
       "    }\n",
       "\n",
       "    .dataframe thead th {\n",
       "        text-align: right;\n",
       "    }\n",
       "</style>\n",
       "<table border=\"1\" class=\"dataframe\">\n",
       "  <thead>\n",
       "    <tr style=\"text-align: right;\">\n",
       "      <th></th>\n",
       "      <th>age</th>\n",
       "      <th>genre</th>\n",
       "      <th>cp</th>\n",
       "      <th>trestbps</th>\n",
       "      <th>chol</th>\n",
       "      <th>fbs</th>\n",
       "      <th>restecg</th>\n",
       "      <th>thalach</th>\n",
       "      <th>exang</th>\n",
       "      <th>oldpeak</th>\n",
       "      <th>slope</th>\n",
       "      <th>ca</th>\n",
       "      <th>thal</th>\n",
       "      <th>desease</th>\n",
       "    </tr>\n",
       "  </thead>\n",
       "  <tbody>\n",
       "  </tbody>\n",
       "</table>\n",
       "</div>"
      ],
      "text/plain": [
       "Empty DataFrame\n",
       "Columns: [age, genre, cp, trestbps, chol, fbs, restecg, thalach, exang, oldpeak, slope, ca, thal, desease]\n",
       "Index: []"
      ]
     },
     "execution_count": 21,
     "metadata": {},
     "output_type": "execute_result"
    }
   ],
   "source": [
    "data[data.duplicated()]"
   ]
  },
  {
   "cell_type": "code",
   "execution_count": null,
   "metadata": {
    "ExecuteTime": {
     "end_time": "2023-05-25T19:38:25.566570Z",
     "start_time": "2023-05-25T19:38:25.534801Z"
    },
    "id": "gkS0xZpCRXha",
    "outputId": "b003f749-713e-4565-8885-a60d350b3347"
   },
   "outputs": [
    {
     "data": {
      "text/html": [
       "<div>\n",
       "<style scoped>\n",
       "    .dataframe tbody tr th:only-of-type {\n",
       "        vertical-align: middle;\n",
       "    }\n",
       "\n",
       "    .dataframe tbody tr th {\n",
       "        vertical-align: top;\n",
       "    }\n",
       "\n",
       "    .dataframe thead th {\n",
       "        text-align: right;\n",
       "    }\n",
       "</style>\n",
       "<table border=\"1\" class=\"dataframe\">\n",
       "  <thead>\n",
       "    <tr style=\"text-align: right;\">\n",
       "      <th></th>\n",
       "      <th>age</th>\n",
       "      <th>genre</th>\n",
       "      <th>cp</th>\n",
       "      <th>trestbps</th>\n",
       "      <th>chol</th>\n",
       "      <th>fbs</th>\n",
       "      <th>restecg</th>\n",
       "      <th>thalach</th>\n",
       "      <th>exang</th>\n",
       "      <th>oldpeak</th>\n",
       "      <th>slope</th>\n",
       "      <th>ca</th>\n",
       "      <th>thal</th>\n",
       "      <th>desease</th>\n",
       "    </tr>\n",
       "  </thead>\n",
       "  <tbody>\n",
       "    <tr>\n",
       "      <th>1</th>\n",
       "      <td>63</td>\n",
       "      <td>1</td>\n",
       "      <td>1</td>\n",
       "      <td>145</td>\n",
       "      <td>233</td>\n",
       "      <td>1</td>\n",
       "      <td>2</td>\n",
       "      <td>150</td>\n",
       "      <td>0</td>\n",
       "      <td>2.3</td>\n",
       "      <td>3</td>\n",
       "      <td>0.0</td>\n",
       "      <td>6.0</td>\n",
       "      <td>0</td>\n",
       "    </tr>\n",
       "    <tr>\n",
       "      <th>2</th>\n",
       "      <td>67</td>\n",
       "      <td>1</td>\n",
       "      <td>4</td>\n",
       "      <td>160</td>\n",
       "      <td>286</td>\n",
       "      <td>0</td>\n",
       "      <td>2</td>\n",
       "      <td>108</td>\n",
       "      <td>1</td>\n",
       "      <td>1.5</td>\n",
       "      <td>2</td>\n",
       "      <td>3.0</td>\n",
       "      <td>3.0</td>\n",
       "      <td>1</td>\n",
       "    </tr>\n",
       "    <tr>\n",
       "      <th>3</th>\n",
       "      <td>67</td>\n",
       "      <td>1</td>\n",
       "      <td>4</td>\n",
       "      <td>120</td>\n",
       "      <td>229</td>\n",
       "      <td>0</td>\n",
       "      <td>2</td>\n",
       "      <td>129</td>\n",
       "      <td>1</td>\n",
       "      <td>2.6</td>\n",
       "      <td>2</td>\n",
       "      <td>2.0</td>\n",
       "      <td>7.0</td>\n",
       "      <td>1</td>\n",
       "    </tr>\n",
       "    <tr>\n",
       "      <th>4</th>\n",
       "      <td>37</td>\n",
       "      <td>1</td>\n",
       "      <td>3</td>\n",
       "      <td>130</td>\n",
       "      <td>250</td>\n",
       "      <td>0</td>\n",
       "      <td>0</td>\n",
       "      <td>187</td>\n",
       "      <td>0</td>\n",
       "      <td>3.5</td>\n",
       "      <td>3</td>\n",
       "      <td>0.0</td>\n",
       "      <td>3.0</td>\n",
       "      <td>0</td>\n",
       "    </tr>\n",
       "    <tr>\n",
       "      <th>5</th>\n",
       "      <td>41</td>\n",
       "      <td>0</td>\n",
       "      <td>2</td>\n",
       "      <td>130</td>\n",
       "      <td>204</td>\n",
       "      <td>0</td>\n",
       "      <td>2</td>\n",
       "      <td>172</td>\n",
       "      <td>0</td>\n",
       "      <td>1.4</td>\n",
       "      <td>1</td>\n",
       "      <td>0.0</td>\n",
       "      <td>3.0</td>\n",
       "      <td>0</td>\n",
       "    </tr>\n",
       "  </tbody>\n",
       "</table>\n",
       "</div>"
      ],
      "text/plain": [
       "   age  genre  cp  trestbps  chol  fbs  restecg  thalach  exang  oldpeak  \\\n",
       "1   63      1   1       145   233    1        2      150      0      2.3   \n",
       "2   67      1   4       160   286    0        2      108      1      1.5   \n",
       "3   67      1   4       120   229    0        2      129      1      2.6   \n",
       "4   37      1   3       130   250    0        0      187      0      3.5   \n",
       "5   41      0   2       130   204    0        2      172      0      1.4   \n",
       "\n",
       "   slope   ca  thal  desease  \n",
       "1      3  0.0   6.0        0  \n",
       "2      2  3.0   3.0        1  \n",
       "3      2  2.0   7.0        1  \n",
       "4      3  0.0   3.0        0  \n",
       "5      1  0.0   3.0        0  "
      ]
     },
     "execution_count": 22,
     "metadata": {},
     "output_type": "execute_result"
    }
   ],
   "source": [
    "data=data.drop_duplicates(keep='first')\n",
    "data.head()"
   ]
  },
  {
   "cell_type": "markdown",
   "metadata": {
    "id": "NbnjkZkzRXha"
   },
   "source": [
    "### Traitement des valeurs impossibles\n"
   ]
  },
  {
   "cell_type": "code",
   "execution_count": null,
   "metadata": {
    "ExecuteTime": {
     "end_time": "2023-05-25T19:38:25.652610Z",
     "start_time": "2023-05-25T19:38:25.570558Z"
    },
    "id": "7WWLmIvrRXhb",
    "outputId": "edcf305b-f638-44c5-d6a7-89c9fa1d93b8"
   },
   "outputs": [
    {
     "data": {
      "text/html": [
       "<div>\n",
       "<style scoped>\n",
       "    .dataframe tbody tr th:only-of-type {\n",
       "        vertical-align: middle;\n",
       "    }\n",
       "\n",
       "    .dataframe tbody tr th {\n",
       "        vertical-align: top;\n",
       "    }\n",
       "\n",
       "    .dataframe thead th {\n",
       "        text-align: right;\n",
       "    }\n",
       "</style>\n",
       "<table border=\"1\" class=\"dataframe\">\n",
       "  <thead>\n",
       "    <tr style=\"text-align: right;\">\n",
       "      <th></th>\n",
       "      <th>age</th>\n",
       "      <th>genre</th>\n",
       "      <th>cp</th>\n",
       "      <th>trestbps</th>\n",
       "      <th>chol</th>\n",
       "      <th>fbs</th>\n",
       "      <th>restecg</th>\n",
       "      <th>thalach</th>\n",
       "      <th>exang</th>\n",
       "      <th>oldpeak</th>\n",
       "      <th>slope</th>\n",
       "      <th>ca</th>\n",
       "      <th>thal</th>\n",
       "      <th>desease</th>\n",
       "    </tr>\n",
       "  </thead>\n",
       "  <tbody>\n",
       "    <tr>\n",
       "      <th>count</th>\n",
       "      <td>303.000000</td>\n",
       "      <td>303.000000</td>\n",
       "      <td>303.000000</td>\n",
       "      <td>303.000000</td>\n",
       "      <td>303.000000</td>\n",
       "      <td>303.000000</td>\n",
       "      <td>303.000000</td>\n",
       "      <td>303.000000</td>\n",
       "      <td>303.000000</td>\n",
       "      <td>303.000000</td>\n",
       "      <td>303.000000</td>\n",
       "      <td>299.000000</td>\n",
       "      <td>301.000000</td>\n",
       "      <td>303.000000</td>\n",
       "    </tr>\n",
       "    <tr>\n",
       "      <th>mean</th>\n",
       "      <td>54.438944</td>\n",
       "      <td>0.679868</td>\n",
       "      <td>3.158416</td>\n",
       "      <td>131.689769</td>\n",
       "      <td>246.693069</td>\n",
       "      <td>0.148515</td>\n",
       "      <td>0.990099</td>\n",
       "      <td>149.607261</td>\n",
       "      <td>0.326733</td>\n",
       "      <td>1.039604</td>\n",
       "      <td>1.600660</td>\n",
       "      <td>0.672241</td>\n",
       "      <td>4.734219</td>\n",
       "      <td>0.458746</td>\n",
       "    </tr>\n",
       "    <tr>\n",
       "      <th>std</th>\n",
       "      <td>9.038662</td>\n",
       "      <td>0.467299</td>\n",
       "      <td>0.960126</td>\n",
       "      <td>17.599748</td>\n",
       "      <td>51.776918</td>\n",
       "      <td>0.356198</td>\n",
       "      <td>0.994971</td>\n",
       "      <td>22.875003</td>\n",
       "      <td>0.469794</td>\n",
       "      <td>1.161075</td>\n",
       "      <td>0.616226</td>\n",
       "      <td>0.937438</td>\n",
       "      <td>1.939706</td>\n",
       "      <td>0.499120</td>\n",
       "    </tr>\n",
       "    <tr>\n",
       "      <th>min</th>\n",
       "      <td>29.000000</td>\n",
       "      <td>0.000000</td>\n",
       "      <td>1.000000</td>\n",
       "      <td>94.000000</td>\n",
       "      <td>126.000000</td>\n",
       "      <td>0.000000</td>\n",
       "      <td>0.000000</td>\n",
       "      <td>71.000000</td>\n",
       "      <td>0.000000</td>\n",
       "      <td>0.000000</td>\n",
       "      <td>1.000000</td>\n",
       "      <td>0.000000</td>\n",
       "      <td>3.000000</td>\n",
       "      <td>0.000000</td>\n",
       "    </tr>\n",
       "    <tr>\n",
       "      <th>25%</th>\n",
       "      <td>48.000000</td>\n",
       "      <td>0.000000</td>\n",
       "      <td>3.000000</td>\n",
       "      <td>120.000000</td>\n",
       "      <td>211.000000</td>\n",
       "      <td>0.000000</td>\n",
       "      <td>0.000000</td>\n",
       "      <td>133.500000</td>\n",
       "      <td>0.000000</td>\n",
       "      <td>0.000000</td>\n",
       "      <td>1.000000</td>\n",
       "      <td>0.000000</td>\n",
       "      <td>3.000000</td>\n",
       "      <td>0.000000</td>\n",
       "    </tr>\n",
       "    <tr>\n",
       "      <th>50%</th>\n",
       "      <td>56.000000</td>\n",
       "      <td>1.000000</td>\n",
       "      <td>3.000000</td>\n",
       "      <td>130.000000</td>\n",
       "      <td>241.000000</td>\n",
       "      <td>0.000000</td>\n",
       "      <td>1.000000</td>\n",
       "      <td>153.000000</td>\n",
       "      <td>0.000000</td>\n",
       "      <td>0.800000</td>\n",
       "      <td>2.000000</td>\n",
       "      <td>0.000000</td>\n",
       "      <td>3.000000</td>\n",
       "      <td>0.000000</td>\n",
       "    </tr>\n",
       "    <tr>\n",
       "      <th>75%</th>\n",
       "      <td>61.000000</td>\n",
       "      <td>1.000000</td>\n",
       "      <td>4.000000</td>\n",
       "      <td>140.000000</td>\n",
       "      <td>275.000000</td>\n",
       "      <td>0.000000</td>\n",
       "      <td>2.000000</td>\n",
       "      <td>166.000000</td>\n",
       "      <td>1.000000</td>\n",
       "      <td>1.600000</td>\n",
       "      <td>2.000000</td>\n",
       "      <td>1.000000</td>\n",
       "      <td>7.000000</td>\n",
       "      <td>1.000000</td>\n",
       "    </tr>\n",
       "    <tr>\n",
       "      <th>max</th>\n",
       "      <td>77.000000</td>\n",
       "      <td>1.000000</td>\n",
       "      <td>4.000000</td>\n",
       "      <td>200.000000</td>\n",
       "      <td>564.000000</td>\n",
       "      <td>1.000000</td>\n",
       "      <td>2.000000</td>\n",
       "      <td>202.000000</td>\n",
       "      <td>1.000000</td>\n",
       "      <td>6.200000</td>\n",
       "      <td>3.000000</td>\n",
       "      <td>3.000000</td>\n",
       "      <td>7.000000</td>\n",
       "      <td>1.000000</td>\n",
       "    </tr>\n",
       "  </tbody>\n",
       "</table>\n",
       "</div>"
      ],
      "text/plain": [
       "              age       genre          cp    trestbps        chol         fbs  \\\n",
       "count  303.000000  303.000000  303.000000  303.000000  303.000000  303.000000   \n",
       "mean    54.438944    0.679868    3.158416  131.689769  246.693069    0.148515   \n",
       "std      9.038662    0.467299    0.960126   17.599748   51.776918    0.356198   \n",
       "min     29.000000    0.000000    1.000000   94.000000  126.000000    0.000000   \n",
       "25%     48.000000    0.000000    3.000000  120.000000  211.000000    0.000000   \n",
       "50%     56.000000    1.000000    3.000000  130.000000  241.000000    0.000000   \n",
       "75%     61.000000    1.000000    4.000000  140.000000  275.000000    0.000000   \n",
       "max     77.000000    1.000000    4.000000  200.000000  564.000000    1.000000   \n",
       "\n",
       "          restecg     thalach       exang     oldpeak       slope          ca  \\\n",
       "count  303.000000  303.000000  303.000000  303.000000  303.000000  299.000000   \n",
       "mean     0.990099  149.607261    0.326733    1.039604    1.600660    0.672241   \n",
       "std      0.994971   22.875003    0.469794    1.161075    0.616226    0.937438   \n",
       "min      0.000000   71.000000    0.000000    0.000000    1.000000    0.000000   \n",
       "25%      0.000000  133.500000    0.000000    0.000000    1.000000    0.000000   \n",
       "50%      1.000000  153.000000    0.000000    0.800000    2.000000    0.000000   \n",
       "75%      2.000000  166.000000    1.000000    1.600000    2.000000    1.000000   \n",
       "max      2.000000  202.000000    1.000000    6.200000    3.000000    3.000000   \n",
       "\n",
       "             thal     desease  \n",
       "count  301.000000  303.000000  \n",
       "mean     4.734219    0.458746  \n",
       "std      1.939706    0.499120  \n",
       "min      3.000000    0.000000  \n",
       "25%      3.000000    0.000000  \n",
       "50%      3.000000    0.000000  \n",
       "75%      7.000000    1.000000  \n",
       "max      7.000000    1.000000  "
      ]
     },
     "execution_count": 23,
     "metadata": {},
     "output_type": "execute_result"
    }
   ],
   "source": [
    "data.describe()"
   ]
  },
  {
   "cell_type": "markdown",
   "metadata": {
    "id": "vWcolrbSRXhb"
   },
   "source": [
    "### Traitement des données aberrantes\n"
   ]
  },
  {
   "cell_type": "markdown",
   "metadata": {
    "id": "ffxN_sHoRXhc"
   },
   "source": [
    "### Traitement des données manquantes"
   ]
  },
  {
   "cell_type": "code",
   "execution_count": null,
   "metadata": {
    "ExecuteTime": {
     "end_time": "2023-05-25T19:38:25.683504Z",
     "start_time": "2023-05-25T19:38:25.659586Z"
    },
    "id": "NTl5P_mARXhc",
    "outputId": "22e5a216-d426-4d37-d274-75955f06d114"
   },
   "outputs": [
    {
     "data": {
      "text/plain": [
       "age         0\n",
       "genre       0\n",
       "cp          0\n",
       "trestbps    0\n",
       "chol        0\n",
       "fbs         0\n",
       "restecg     0\n",
       "thalach     0\n",
       "exang       0\n",
       "oldpeak     0\n",
       "slope       0\n",
       "ca          0\n",
       "thal        0\n",
       "desease     0\n",
       "dtype: int64"
      ]
     },
     "execution_count": 24,
     "metadata": {},
     "output_type": "execute_result"
    }
   ],
   "source": [
    "data[\"thal\"]=data[\"thal\"].fillna(3)\n",
    "data[\"ca\"]=data[\"ca\"].fillna(3)\n",
    "\n",
    "data.isna().sum()"
   ]
  },
  {
   "cell_type": "code",
   "execution_count": null,
   "metadata": {
    "ExecuteTime": {
     "end_time": "2023-05-25T19:38:25.699455Z",
     "start_time": "2023-05-25T19:38:25.687494Z"
    },
    "id": "1PG-h2BRRXhd",
    "outputId": "ec8e5590-a02c-4701-d525-96ace2ab11c9"
   },
   "outputs": [
    {
     "data": {
      "text/plain": [
       "age         0\n",
       "genre       0\n",
       "cp          0\n",
       "trestbps    0\n",
       "chol        0\n",
       "fbs         0\n",
       "restecg     0\n",
       "thalach     0\n",
       "exang       0\n",
       "oldpeak     0\n",
       "slope       0\n",
       "ca          0\n",
       "thal        0\n",
       "desease     0\n",
       "dtype: int64"
      ]
     },
     "execution_count": 25,
     "metadata": {},
     "output_type": "execute_result"
    }
   ],
   "source": [
    "data.isna().sum()"
   ]
  },
  {
   "cell_type": "markdown",
   "metadata": {
    "id": "u8FwqvgqRXhd"
   },
   "source": [
    "## Enrechissement de la base de donnees"
   ]
  },
  {
   "cell_type": "markdown",
   "metadata": {
    "id": "SQwPffWXRXhe"
   },
   "source": [
    "enrichir le CSV préalablement obtenu avec une nouvelle colonne."
   ]
  },
  {
   "cell_type": "markdown",
   "metadata": {
    "id": "hnp7LW6CRXhe"
   },
   "source": [
    "L’enrichissement des données est la troisième fonctionnalité clé des outils de dataprep. Enrichir les données consiste à améliorer le taux de complétude de la base de données (les cellules vides) et/ou à ajouter de nouveaux champs. L’enrichissement des données permet ensuite de mieux segmenter et personnaliser les campagnes/scénarios marketing ou les actions commerciales. Si l’enrichissement des données est si important, c’est que la personnalisation et le ciblage sont des clés de performance en marketing-ventes. Plus vous avez d’informations sur vos clients ou contacts, mieux c’est !\n",
    "\n",
    "L’enrichissement de données peut s’effectuer de deux manières complémentaires :\n",
    "\n",
    "A partir de sources de données internes.\n",
    "A partir de sources de données externes : fournisseurs de données spécialisés, bases de données publiques, LinkedIn…\n",
    "L’enrichissement des données améliore la valeur et le potentiel d’activation de vos données."
   ]
  },
  {
   "cell_type": "markdown",
   "metadata": {
    "id": "Ut07QM47RXhe"
   },
   "source": [
    "## Table Manipulator"
   ]
  },
  {
   "cell_type": "markdown",
   "metadata": {
    "id": "ZXpg3kwwRXhg"
   },
   "source": [
    "### Column sorting"
   ]
  },
  {
   "cell_type": "markdown",
   "metadata": {
    "id": "i4DvNqt6RXhg"
   },
   "source": [
    "### Column row filtering"
   ]
  },
  {
   "cell_type": "markdown",
   "metadata": {
    "id": "TzxjkxtuRXhg"
   },
   "source": [
    "### Concatenation of multiple files/tables"
   ]
  },
  {
   "cell_type": "markdown",
   "metadata": {
    "id": "hSRyr3SJRXhg"
   },
   "source": [
    "### Column renaming"
   ]
  },
  {
   "cell_type": "markdown",
   "metadata": {
    "id": "UbmInvG0RXhg"
   },
   "source": [
    "## Transformation de la base de donnees"
   ]
  },
  {
   "cell_type": "markdown",
   "metadata": {
    "id": "ZTcj2PwPRXhg"
   },
   "source": [
    "### Data blending: Join, concatenate, append"
   ]
  },
  {
   "cell_type": "markdown",
   "metadata": {
    "id": "bAX76nMWRXhh"
   },
   "source": [
    "### Aggregation: Grouping, pivoting, binning, melt, pivot_table"
   ]
  },
  {
   "cell_type": "markdown",
   "metadata": {
    "id": "CrRFeC85RXhh"
   },
   "source": [
    "### Feature Creation and Selection"
   ]
  },
  {
   "cell_type": "markdown",
   "metadata": {
    "id": "MLMJLCFzRXhh"
   },
   "source": [
    "## Pretraitement de la base de donnees"
   ]
  },
  {
   "cell_type": "markdown",
   "metadata": {
    "id": "NnNDoBQrRXhh"
   },
   "source": [
    "## ML: classification, regression, recomm., anomaly, clustering,  forcasting"
   ]
  },
  {
   "cell_type": "markdown",
   "metadata": {
    "id": "tkiW4WYVIJeW"
   },
   "source": [
    "### Create X (input, features) & y (output, label)"
   ]
  },
  {
   "cell_type": "code",
   "execution_count": null,
   "metadata": {
    "ExecuteTime": {
     "end_time": "2023-05-25T19:38:25.715406Z",
     "start_time": "2023-05-25T19:38:25.702443Z"
    },
    "id": "B6tOMBBSIJeW"
   },
   "outputs": [],
   "source": [
    "X=data.drop(columns=[\"desease\"])\n",
    "\n",
    "y = data[\"desease\"]\n"
   ]
  },
  {
   "cell_type": "code",
   "execution_count": null,
   "metadata": {
    "ExecuteTime": {
     "end_time": "2023-05-25T19:38:25.740492Z",
     "start_time": "2023-05-25T19:38:25.717400Z"
    },
    "colab": {
     "base_uri": "https://localhost:8080/"
    },
    "id": "81TjhFHPIJeW",
    "outputId": "0c46b814-365c-43cc-daf9-95861f191c6c"
   },
   "outputs": [
    {
     "data": {
      "text/html": [
       "<div>\n",
       "<style scoped>\n",
       "    .dataframe tbody tr th:only-of-type {\n",
       "        vertical-align: middle;\n",
       "    }\n",
       "\n",
       "    .dataframe tbody tr th {\n",
       "        vertical-align: top;\n",
       "    }\n",
       "\n",
       "    .dataframe thead th {\n",
       "        text-align: right;\n",
       "    }\n",
       "</style>\n",
       "<table border=\"1\" class=\"dataframe\">\n",
       "  <thead>\n",
       "    <tr style=\"text-align: right;\">\n",
       "      <th></th>\n",
       "      <th>age</th>\n",
       "      <th>genre</th>\n",
       "      <th>cp</th>\n",
       "      <th>trestbps</th>\n",
       "      <th>chol</th>\n",
       "      <th>fbs</th>\n",
       "      <th>restecg</th>\n",
       "      <th>thalach</th>\n",
       "      <th>exang</th>\n",
       "      <th>oldpeak</th>\n",
       "      <th>slope</th>\n",
       "      <th>ca</th>\n",
       "      <th>thal</th>\n",
       "    </tr>\n",
       "  </thead>\n",
       "  <tbody>\n",
       "    <tr>\n",
       "      <th>1</th>\n",
       "      <td>63</td>\n",
       "      <td>1</td>\n",
       "      <td>1</td>\n",
       "      <td>145</td>\n",
       "      <td>233</td>\n",
       "      <td>1</td>\n",
       "      <td>2</td>\n",
       "      <td>150</td>\n",
       "      <td>0</td>\n",
       "      <td>2.3</td>\n",
       "      <td>3</td>\n",
       "      <td>0.0</td>\n",
       "      <td>6.0</td>\n",
       "    </tr>\n",
       "    <tr>\n",
       "      <th>2</th>\n",
       "      <td>67</td>\n",
       "      <td>1</td>\n",
       "      <td>4</td>\n",
       "      <td>160</td>\n",
       "      <td>286</td>\n",
       "      <td>0</td>\n",
       "      <td>2</td>\n",
       "      <td>108</td>\n",
       "      <td>1</td>\n",
       "      <td>1.5</td>\n",
       "      <td>2</td>\n",
       "      <td>3.0</td>\n",
       "      <td>3.0</td>\n",
       "    </tr>\n",
       "    <tr>\n",
       "      <th>3</th>\n",
       "      <td>67</td>\n",
       "      <td>1</td>\n",
       "      <td>4</td>\n",
       "      <td>120</td>\n",
       "      <td>229</td>\n",
       "      <td>0</td>\n",
       "      <td>2</td>\n",
       "      <td>129</td>\n",
       "      <td>1</td>\n",
       "      <td>2.6</td>\n",
       "      <td>2</td>\n",
       "      <td>2.0</td>\n",
       "      <td>7.0</td>\n",
       "    </tr>\n",
       "    <tr>\n",
       "      <th>4</th>\n",
       "      <td>37</td>\n",
       "      <td>1</td>\n",
       "      <td>3</td>\n",
       "      <td>130</td>\n",
       "      <td>250</td>\n",
       "      <td>0</td>\n",
       "      <td>0</td>\n",
       "      <td>187</td>\n",
       "      <td>0</td>\n",
       "      <td>3.5</td>\n",
       "      <td>3</td>\n",
       "      <td>0.0</td>\n",
       "      <td>3.0</td>\n",
       "    </tr>\n",
       "    <tr>\n",
       "      <th>5</th>\n",
       "      <td>41</td>\n",
       "      <td>0</td>\n",
       "      <td>2</td>\n",
       "      <td>130</td>\n",
       "      <td>204</td>\n",
       "      <td>0</td>\n",
       "      <td>2</td>\n",
       "      <td>172</td>\n",
       "      <td>0</td>\n",
       "      <td>1.4</td>\n",
       "      <td>1</td>\n",
       "      <td>0.0</td>\n",
       "      <td>3.0</td>\n",
       "    </tr>\n",
       "  </tbody>\n",
       "</table>\n",
       "</div>"
      ],
      "text/plain": [
       "   age  genre  cp  trestbps  chol  fbs  restecg  thalach  exang  oldpeak  \\\n",
       "1   63      1   1       145   233    1        2      150      0      2.3   \n",
       "2   67      1   4       160   286    0        2      108      1      1.5   \n",
       "3   67      1   4       120   229    0        2      129      1      2.6   \n",
       "4   37      1   3       130   250    0        0      187      0      3.5   \n",
       "5   41      0   2       130   204    0        2      172      0      1.4   \n",
       "\n",
       "   slope   ca  thal  \n",
       "1      3  0.0   6.0  \n",
       "2      2  3.0   3.0  \n",
       "3      2  2.0   7.0  \n",
       "4      3  0.0   3.0  \n",
       "5      1  0.0   3.0  "
      ]
     },
     "execution_count": 27,
     "metadata": {},
     "output_type": "execute_result"
    }
   ],
   "source": [
    "X.head()"
   ]
  },
  {
   "cell_type": "code",
   "execution_count": null,
   "metadata": {
    "ExecuteTime": {
     "end_time": "2023-05-25T19:38:25.756384Z",
     "start_time": "2023-05-25T19:38:25.746415Z"
    },
    "id": "Wl3XICZfRXhh",
    "outputId": "2dfdcfe2-ec84-4cd6-ba16-6ce19a41e465"
   },
   "outputs": [
    {
     "data": {
      "text/plain": [
       "1    0\n",
       "2    1\n",
       "3    1\n",
       "4    0\n",
       "5    0\n",
       "Name: desease, dtype: int64"
      ]
     },
     "execution_count": 28,
     "metadata": {},
     "output_type": "execute_result"
    }
   ],
   "source": [
    "y.head()"
   ]
  },
  {
   "cell_type": "code",
   "execution_count": null,
   "metadata": {
    "id": "pR7RuLiZRXhi"
   },
   "outputs": [],
   "source": []
  },
  {
   "cell_type": "markdown",
   "metadata": {
    "id": "I2RJ4jUoRXhi"
   },
   "source": [
    "### Train set & Test set"
   ]
  },
  {
   "cell_type": "code",
   "execution_count": null,
   "metadata": {
    "ExecuteTime": {
     "end_time": "2023-05-25T19:38:25.977298Z",
     "start_time": "2023-05-25T19:38:25.765352Z"
    },
    "id": "gkXMNszKRXhi",
    "outputId": "ef54e595-ddaf-4a22-e6a4-47915ca54398"
   },
   "outputs": [
    {
     "ename": "ModuleNotFoundError",
     "evalue": "No module named 'sklearn'",
     "output_type": "error",
     "traceback": [
      "\u001b[0;31m---------------------------------------------------------------------------\u001b[0m",
      "\u001b[0;31mModuleNotFoundError\u001b[0m                       Traceback (most recent call last)",
      "Cell \u001b[0;32mIn[29], line 1\u001b[0m\n\u001b[0;32m----> 1\u001b[0m \u001b[38;5;28;01mimport\u001b[39;00m \u001b[38;5;21;01msklearn\u001b[39;00m\n\u001b[1;32m      2\u001b[0m \u001b[38;5;28;01mfrom\u001b[39;00m \u001b[38;5;21;01msklearn\u001b[39;00m\u001b[38;5;21;01m.\u001b[39;00m\u001b[38;5;21;01mmodel_selection\u001b[39;00m \u001b[38;5;28;01mimport\u001b[39;00m train_test_split\n\u001b[1;32m      3\u001b[0m X_train, X_test, y_train, y_test \u001b[38;5;241m=\u001b[39m train_test_split(X, y, test_size\u001b[38;5;241m=\u001b[39m\u001b[38;5;241m0.20\u001b[39m)\n",
      "\u001b[0;31mModuleNotFoundError\u001b[0m: No module named 'sklearn'"
     ]
    }
   ],
   "source": [
    "import sklearn\n",
    "from sklearn.model_selection import train_test_split\n",
    "X_train, X_test, y_train, y_test = train_test_split(X, y, test_size=0.20)\n",
    "print(\"X\",X.shape, X_train.shape, X_test.shape)\n",
    "print(\"y\",y.shape, y_train.shape, y_test.shape)"
   ]
  },
  {
   "cell_type": "markdown",
   "metadata": {
    "id": "w4Bif_PoRXhi"
   },
   "source": [
    "### Machine learning"
   ]
  },
  {
   "cell_type": "code",
   "execution_count": null,
   "metadata": {
    "ExecuteTime": {
     "end_time": "2023-05-25T19:38:26.224927Z",
     "start_time": "2023-05-25T19:38:25.979292Z"
    },
    "id": "hO0CAEF-RXhi"
   },
   "outputs": [],
   "source": [
    "from sklearn.neighbors import KNeighborsClassifier  # model KNN\n",
    "\n",
    "#choisir le modele\n",
    "model = KNeighborsClassifier(5)\n",
    "\n",
    "#entrainer le modele\n",
    "model.fit(X_train, y_train)\n",
    "\n",
    "#voir la performance du modele: precision\n",
    "print('Precision train: {:.2f}'.format(model.score(X_train, y_train)))\n",
    "print('Precision test : {:.2f}'.format(model.score(X_test, y_test)))"
   ]
  },
  {
   "cell_type": "code",
   "execution_count": null,
   "metadata": {
    "ExecuteTime": {
     "end_time": "2023-05-25T19:38:26.288877Z",
     "start_time": "2023-05-25T19:38:26.228914Z"
    },
    "id": "h6QMQpBhRXhi"
   },
   "outputs": [],
   "source": [
    "#enlever les donnees manquantes\n",
    "data2=data.dropna()\n",
    "\n",
    "#choisisr les variables explicatives\n",
    "X=data2.drop(columns=\"desease\")\n",
    "\n",
    "#choisir la variable à expliquer\n",
    "y=data2.desease\n",
    "\n",
    "#encodage des variables qualitatives\n",
    "X=pd.get_dummies(X)\n",
    "\n",
    "#on veut savoir si on est malade ou pas\n",
    "y=y.apply(lambda x: 1 if x>=1 else 0)\n",
    "\n",
    "#separer les donnees\n",
    "X_train, X_test,y_train,y_test=train_test_split(X,y,test_size=0.20)\n",
    "\n",
    "#choisir le modele\n",
    "from sklearn.neighbors import KNeighborsClassifier  # model KNN\n",
    "\n",
    "#choisir le modele\n",
    "model = KNeighborsClassifier(5)\n",
    "\n",
    "#entrainer le modele\n",
    "model.fit(X_train, y_train)\n",
    "\n",
    "#voir la performance du modele: precision\n",
    "print('Precision train: {:.2f}'.format(model.score(X_train, y_train)))\n",
    "print('Precision test : {:.2f}'.format(model.score(X_test, y_test)))"
   ]
  },
  {
   "cell_type": "markdown",
   "metadata": {
    "id": "TTtrdjPrRXhj"
   },
   "source": [
    "### Matrice de confusion"
   ]
  },
  {
   "cell_type": "code",
   "execution_count": null,
   "metadata": {
    "ExecuteTime": {
     "end_time": "2023-05-25T22:51:54.832645Z",
     "start_time": "2023-05-25T22:51:54.539193Z"
    },
    "id": "7pUap4lzRXhj"
   },
   "outputs": [],
   "source": [
    "import matplotlib.pyplot as plt\n",
    "from sklearn import metrics\n",
    "y_pred=model.predict(X_test)   #prediction  et y_test #realite\n",
    "confusion_matrix = metrics.confusion_matrix(y_test, y_pred)\n",
    "\n",
    "cm_display = metrics.ConfusionMatrixDisplay(confusion_matrix = confusion_matrix, display_labels = [\"saine\", \"malade\"])\n",
    "\n",
    "cm_display.plot()\n",
    "plt.show()"
   ]
  },
  {
   "cell_type": "code",
   "execution_count": null,
   "metadata": {
    "ExecuteTime": {
     "end_time": "2023-05-25T19:38:30.595203Z",
     "start_time": "2023-05-25T19:38:26.613172Z"
    },
    "id": "GA8BMp5JRXhk"
   },
   "outputs": [],
   "source": [
    "from lazypredict.Supervised import LazyClassifier\n",
    "clf = LazyClassifier()\n",
    "models,predictions = clf.fit(X_train, X_test, y_train, y_test)\n",
    "models"
   ]
  },
  {
   "cell_type": "markdown",
   "metadata": {
    "id": "tZ5FyOWoIJek"
   },
   "source": [
    "# Deep Learning: Artificial Neural Network\n"
   ]
  },
  {
   "cell_type": "code",
   "execution_count": null,
   "metadata": {
    "ExecuteTime": {
     "end_time": "2023-05-25T19:38:37.302376Z",
     "start_time": "2023-05-25T19:38:30.599202Z"
    },
    "id": "NLl05mYUIJek"
   },
   "outputs": [],
   "source": [
    "from keras.models import Sequential\n",
    "from keras.layers import Dense"
   ]
  },
  {
   "cell_type": "markdown",
   "metadata": {
    "id": "B0IpoTpwIJel"
   },
   "source": [
    "Architecture du réseau. Nous importons les classes Sequential et Dense pour définir notre\n",
    "modèle et son architecture."
   ]
  },
  {
   "cell_type": "markdown",
   "metadata": {
    "id": "8GnvfnxmIJel"
   },
   "source": [
    "La classe Sequential est une structure, initialement vide, qui permet de définir un empilement de\n",
    "couches de neurones (https://keras.io/getting-started/sequential-model-guide/) :\n",
    "#instanciation du modèle\n",
    "modelSimple = Sequential()\n",
    "Note : Sequential parce que les couches de neurones vont être ajoutées séquentiellement.\n",
    "Pour spécifier un perceptron simple, nous ajoutons une couche qui relie directement la couche\n",
    "d’entrée (input_dim, nombre de neurones = nombre de variables prédictives) avec la couche de\n",
    "sortie (units = 1, une seule sortie puisque la variable cible est binaire, codée 1/0), avec une\n",
    "fonction d’activation sigmoïde (activation)"
   ]
  },
  {
   "cell_type": "markdown",
   "metadata": {
    "id": "N1sQGHFtIJel"
   },
   "source": [
    "Note : Dense parce que tous les neurones de couche précédente seront connectés à tous les\n",
    "neurones de la couche suivante."
   ]
  },
  {
   "cell_type": "markdown",
   "metadata": {
    "id": "yK3CQSZRIJen"
   },
   "source": [
    "Il existe trois façons de créer des modèles Keras:\n",
    "\n",
    "Le modèle séquentiel , qui est très simple (une simple liste de couches), mais est limité à des piles de couches à entrée unique et à sortie unique (comme son nom l'indique).\n",
    "L' API fonctionnelle , qui est une API complète et facile à utiliser qui prend en charge des architectures de modèles arbitraires. Pour la plupart des gens et la plupart des cas d'utilisation, c'est ce que vous devriez utiliser. Il s'agit du modèle de «force industrielle» de Keras.\n",
    "Sous-classification de modèles , où vous implémentez tout à partir de zéro par vous-même. Utilisez cette option si vous avez des cas d'utilisation de recherche complexes et prêts à l'emploi."
   ]
  },
  {
   "cell_type": "code",
   "execution_count": null,
   "metadata": {
    "ExecuteTime": {
     "end_time": "2023-05-25T19:38:37.706585Z",
     "start_time": "2023-05-25T19:38:37.365084Z"
    },
    "id": "gLrIYkXgIJeo"
   },
   "outputs": [],
   "source": [
    "\n",
    "#Initialising ANN\n",
    "classifier = Sequential()\n",
    "#nous considérons le modèle comme Séquentiel\n",
    "\n",
    "#Adding the first hidden layer or the input layer\n",
    "#Le premier niveau a une dimension de 13 qui correspond à 13 attributs de colonnes.\n",
    "\n",
    "classifier.add(Dense(activation='relu', input_dim=X_train.shape[1],units=X_train.shape[1]+1))\n",
    "\n",
    "#Ensuite, nous avons rajouté une couche de 50 neurones.\n",
    "classifier.add(Dense(50,activation='tanh'))\n",
    "\n",
    "\n",
    "#La couche de sortie a un seul neurone (sortie) et la fonction d'activation sigmoïde adaptée aux problèmes de classification binaire.\n",
    "classifier.add(Dense(1, activation='sigmoid'))\n",
    "#Compiling the ANN\n",
    "classifier.compile(optimizer='adam', loss='binary_crossentropy', metrics=['accuracy'])\n",
    "\n",
    "#Fitting the ANN\n",
    "classifier.fit(X_train,y_train, validation_split=0.10,batch_size=20, epochs=100, verbose=0)"
   ]
  },
  {
   "cell_type": "markdown",
   "metadata": {
    "id": "5B-5KCuaIJeo"
   },
   "source": [
    "\n",
    "La fonction de compilation a 3 arguments:\n",
    "L' optimiseur adam : un algorithme pour l'optimisation basée sur un gradient(derivée!) de premier ordre.\n",
    "La fonction de perte binary_crossentropy : perte logarithmique, qui pour un problème de classification binaire est définie dans Keras comme binary_crossentropy\n",
    "La métrique de précision : pour évaluer les performances de votre modèle pendant l'entraînement et les tests\n",
    "\n"
   ]
  },
  {
   "cell_type": "code",
   "execution_count": null,
   "metadata": {
    "ExecuteTime": {
     "end_time": "2023-05-25T19:38:44.517037Z",
     "start_time": "2023-05-25T19:38:37.708616Z"
    },
    "id": "-Dpj_P4IIJer"
   },
   "outputs": [],
   "source": [
    "#checking the performance of the model\n",
    "score = classifier.evaluate(X_train,y_train, verbose=0)\n",
    "print('train Model Accuracy = ',score[1])\n",
    "score = classifier.evaluate(X_test, y_test, verbose=0)\n",
    "print('test Model Accuracy = ',score[1])"
   ]
  },
  {
   "cell_type": "code",
   "execution_count": null,
   "metadata": {
    "ExecuteTime": {
     "end_time": "2023-05-25T19:38:44.819036Z",
     "start_time": "2023-05-25T19:38:44.519986Z"
    },
    "id": "jLLb9BkqRXhm"
   },
   "outputs": [],
   "source": [
    "#Make prediction\n",
    "prediction = classifier.predict(X)\n",
    "prediction[0:5]"
   ]
  },
  {
   "cell_type": "code",
   "execution_count": null,
   "metadata": {
    "id": "JAUA7HJWRXhn"
   },
   "outputs": [],
   "source": []
  },
  {
   "cell_type": "code",
   "execution_count": null,
   "metadata": {
    "ExecuteTime": {
     "end_time": "2023-05-25T22:58:38.570189Z",
     "start_time": "2023-05-25T22:58:38.364401Z"
    },
    "id": "KkFXn1Q-RXhn"
   },
   "outputs": [],
   "source": [
    "#Make prediction\n",
    "prediction = classifier.predict(X)\n",
    "prediction[0:5]"
   ]
  },
  {
   "cell_type": "code",
   "execution_count": null,
   "metadata": {
    "ExecuteTime": {
     "end_time": "2023-05-25T19:38:46.743894Z",
     "start_time": "2023-05-25T19:38:44.983349Z"
    },
    "id": "Fa9YcPN2RXhn"
   },
   "outputs": [],
   "source": [
    "history=classifier.fit(X_train, y_train, validation_split=0.20, epochs=20, batch_size=10,verbose=0)\n",
    "\n",
    "#Plot the graph of accuracy\n",
    "import matplotlib.pyplot as plt\n",
    "\n",
    "plt.figure(figsize=(10, 6))\n",
    "plt.ylim(0, 1)\n",
    "plt.plot(history.history['accuracy'])\n",
    "plt.plot(history.history['val_accuracy'])\n",
    "plt.title('model_accuracy')\n",
    "plt.ylabel('accuracy')\n",
    "plt.xlabel('epoch')\n",
    "plt.legend(['train', 'test'], loc='best')\n",
    "plt.show()"
   ]
  },
  {
   "cell_type": "markdown",
   "metadata": {
    "id": "6xODh69bRXhn"
   },
   "source": [
    "## Prediction"
   ]
  },
  {
   "cell_type": "markdown",
   "metadata": {
    "id": "iA6YgYccRXhn"
   },
   "source": [
    "## Dashboard"
   ]
  },
  {
   "cell_type": "markdown",
   "metadata": {
    "id": "0tqrONZoRXhn"
   },
   "source": [
    "## Storring telling"
   ]
  },
  {
   "cell_type": "markdown",
   "metadata": {
    "id": "cfBy-XyWRXho"
   },
   "source": [
    "## Data journalisme"
   ]
  },
  {
   "cell_type": "markdown",
   "metadata": {
    "id": "0uxl7pf8RXho"
   },
   "source": [
    "## Strategie business"
   ]
  },
  {
   "cell_type": "markdown",
   "metadata": {
    "id": "oJD3f4piRXho"
   },
   "source": [
    "## Interprétabilité des modèles"
   ]
  },
  {
   "cell_type": "markdown",
   "metadata": {
    "id": "M1A1Sj-yRXho"
   },
   "source": [
    "L’explicabilité des algorithmes prend de plus en plus de place dans les débats autour de la Data Science. On sait que les algorithmes sont puissants, on sait qu’ils peuvent nous assister dans de nombreuses tâches : prédiction de prix, classification de documents, recommandation de vidéos.\n",
    "\n",
    "Dorénavant, on se pose de plus en plus de questions sur cette prédiction :\n",
    "\n",
    "est-elle éthique ?\n",
    "est-elle touchée par des biais ?\n",
    "est-elle prise pour de bonnes raisons ?\n",
    "Dans de nombreux secteurs comme la médecine, la banque ou encore l’assurance, l’emploi d’algorithmes peut avoir lieu si, et seulement si, il est possible de tracer et expliquer (ou encore mieux interpréter) les décisions de ces dits algorithmes.\n",
    "\n",
    "Parenthèse sur le vocabulaire\n",
    "Dans cet article nous souhaitons distinguer les termes :\n",
    "\n",
    "Explicabilité: possibilité d’expliquer d’un point de vue technique la prédiction d’un algorithme.\n",
    "\n",
    "Interprétabilité: capacité d’expliquer ou de fournir du sens en termes compréhensibles par un être humain.\n",
    "\n",
    "Transparence: un modèle est considéré comme transparent s’il est compréhensible en soi."
   ]
  },
  {
   "cell_type": "markdown",
   "metadata": {
    "id": "riRCzLq-RXhp"
   },
   "source": [
    "explications globales\n",
    "\n",
    "explications concernant fonctionnement du modèle de point de vue général\n",
    "\n",
    "explication locales\n",
    "\n",
    "explications du modèle pour un instance"
   ]
  },
  {
   "cell_type": "markdown",
   "metadata": {
    "id": "NFI3qsCCRXhq"
   },
   "source": [
    " Aspect légal : L’article 22 du RGPD prévoit des règles pour éviter que l’homme ne\n",
    "subisse des décisions émanant uniquement de machines. Les modèles sans\n",
    "explication risquent d’entraîner une sanction qui peut s’élever à 20 000 000 d’euros\n",
    "ou, dans le cas d’une entreprise, à 4% du chiffre d’affaires mondial total de l’exercice\n",
    "précédent (le montant le plus élevé étant retenu). »\n",
    "Interprétabilité du modèle\n",
    "\n",
    "« Validation du modèle : Le modèle a une bonne précision, mais nous cherchons à\n",
    "connaître les variables influentes afin de vérifier la cohérence avec la connaissance\n",
    "métier du domaine. D’autre part, pour certaines applications, nous devons également\n",
    "contrôler le risque du modèle, ce qui nécessite une compréhension approfondie de\n",
    "celui-ci. »\n",
    "\n",
    "« Explication et recommandation : Imaginons le client d’une banque faisant une\n",
    "demande de prêt, la demande est refusée suite à la décision d’un modèle de ML. Il\n",
    "faut cependant pouvoir expliquer à ce client les raisons de ce refus afin de pouvoir le\n",
    "conseiller. »\n",
    "http://www.aquiladata.fr/insights/shap-mieux-comprendre-linterpretation-de-modeles/"
   ]
  },
  {
   "cell_type": "markdown",
   "metadata": {
    "id": "8c-YSwv2RXhq"
   },
   "source": [
    "## Audit: Biais et Ethique"
   ]
  },
  {
   "cell_type": "markdown",
   "metadata": {
    "id": "e4Ft_e-uRXhq"
   },
   "source": [
    "Framworks: Documentez vous sur ces deux framworks tres interessants\n",
    "Aquiestas: https://www.youtube.com/watch?v=wmyVODy_WD8\n",
    "Shap: https://www.youtube.com/watch?v=VLGWJkWwhVE"
   ]
  },
  {
   "cell_type": "markdown",
   "metadata": {
    "id": "j7Zs7fuSRXhq"
   },
   "source": [
    "## Deploiment et maintenance"
   ]
  },
  {
   "cell_type": "markdown",
   "metadata": {
    "id": "cNGMqDBARXhr"
   },
   "source": [
    " Streamlit: A faster way to build and share data apps\n",
    " Flask: https://flask.palletsprojects.com/en/2.1.x/\n",
    " Django: https://docs.djangoproject.com/fr/4.0/intro/"
   ]
  },
  {
   "cell_type": "markdown",
   "metadata": {
    "id": "-li1aCxHRXhr"
   },
   "source": [
    "Les données, une fois préparées, doivent être exportées dans les outils de destinatation : outils d’activation, outils d’analyse, entrepôt de données, CustomerDataPlatform…\n",
    "Les capacités d’export des données sont un facteur discriminant dans le choix d’un outil de data preparation."
   ]
  },
  {
   "cell_type": "markdown",
   "metadata": {
    "id": "IqKtkN-bRXhr"
   },
   "source": [
    "## Text Processing"
   ]
  },
  {
   "cell_type": "markdown",
   "metadata": {
    "id": "MdfEKGsZRXhs"
   },
   "source": [
    "## Times Series Analysis"
   ]
  },
  {
   "cell_type": "markdown",
   "metadata": {
    "id": "rSEdCEhzRXhs"
   },
   "source": [
    "## ETL & CRM  & CLOUD"
   ]
  },
  {
   "cell_type": "code",
   "execution_count": null,
   "metadata": {
    "ExecuteTime": {
     "end_time": "2023-05-25T19:38:46.761687Z",
     "start_time": "2023-05-25T19:38:46.745587Z"
    },
    "id": "a1qxmR5BRXhs"
   },
   "outputs": [],
   "source": [
    "print(\"yes\",1+1)"
   ]
  }
 ],
 "metadata": {
  "celltoolbar": "Aucun(e)",
  "colab": {
   "provenance": []
  },
  "kernelspec": {
   "display_name": "Python 3 (ipykernel)",
   "language": "python",
   "name": "python3"
  },
  "language_info": {
   "codemirror_mode": {
    "name": "ipython",
    "version": 3
   },
   "file_extension": ".py",
   "mimetype": "text/x-python",
   "name": "python",
   "nbconvert_exporter": "python",
   "pygments_lexer": "ipython3",
   "version": "3.10.6"
  },
  "toc": {
   "base_numbering": 1,
   "nav_menu": {},
   "number_sections": true,
   "sideBar": true,
   "skip_h1_title": false,
   "title_cell": "Table of Contents",
   "title_sidebar": "Contents",
   "toc_cell": false,
   "toc_position": {
    "height": "508px",
    "left": "576px",
    "top": "147.125px",
    "width": "232px"
   },
   "toc_section_display": true,
   "toc_window_display": true
  }
 },
 "nbformat": 4,
 "nbformat_minor": 1
}
